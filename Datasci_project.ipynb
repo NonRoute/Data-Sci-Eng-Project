{
  "cells": [
    {
      "cell_type": "markdown",
      "metadata": {
        "id": "view-in-github",
        "colab_type": "text"
      },
      "source": [
        "<a href=\"https://colab.research.google.com/github/NonRoute/Data-Sci-Eng-Project/blob/main/Datasci_project.ipynb\" target=\"_parent\"><img src=\"https://colab.research.google.com/assets/colab-badge.svg\" alt=\"Open In Colab\"/></a>"
      ]
    },
    {
      "cell_type": "markdown",
      "source": [
        "# Data Engineering (DE) Spark"
      ],
      "metadata": {
        "id": "Ews41riJgHhT"
      }
    },
    {
      "cell_type": "markdown",
      "metadata": {
        "id": "2gID4GQm_zmu"
      },
      "source": [
        "## Spark Preparation\n",
        "We check if we are in Google Colab.  If this is the case, install all necessary packages.\n",
        "\n",
        "To run spark in Colab, we need to first install all the dependencies in Colab environment i.e. Apache Spark 3.3.2 with hadoop 3.3, Java 8 and Findspark to locate the spark in the system. The tools installation can be carried out inside the Jupyter Notebook of the Colab.\n",
        "Learn more from [A Must-Read Guide on How to Work with PySpark on Google Colab for Data Scientists!](https://www.analyticsvidhya.com/blog/2020/11/a-must-read-guide-on-how-to-work-with-pyspark-on-google-colab-for-data-scientists/)"
      ]
    },
    {
      "cell_type": "code",
      "execution_count": 1,
      "metadata": {
        "id": "ZJ5j1cS2_zmw"
      },
      "outputs": [],
      "source": [
        "try:\n",
        "  import google.colab\n",
        "  IN_COLAB = True\n",
        "except:\n",
        "  IN_COLAB = False"
      ]
    },
    {
      "cell_type": "code",
      "execution_count": 2,
      "metadata": {
        "id": "KwvSJUDD_zmx"
      },
      "outputs": [],
      "source": [
        "if IN_COLAB:\n",
        "    !apt-get install openjdk-8-jdk-headless -qq > /dev/null\n",
        "    !wget -q https://dlcdn.apache.org/spark/spark-3.3.2/spark-3.3.2-bin-hadoop3.tgz\n",
        "    !tar xf spark-3.3.2-bin-hadoop3.tgz\n",
        "    !mv spark-3.3.2-bin-hadoop3 spark\n",
        "    !pip install -q findspark\n",
        "    import os\n",
        "    os.environ[\"JAVA_HOME\"] = \"/usr/lib/jvm/java-8-openjdk-amd64\"\n",
        "    os.environ[\"SPARK_HOME\"] = \"/content/spark\""
      ]
    },
    {
      "cell_type": "markdown",
      "metadata": {
        "id": "Snc05R8m_zmx"
      },
      "source": [
        "## Start a Local Cluster"
      ]
    },
    {
      "cell_type": "code",
      "execution_count": 3,
      "metadata": {
        "id": "lnI1PJmN_zmx"
      },
      "outputs": [],
      "source": [
        "import findspark\n",
        "findspark.init()"
      ]
    },
    {
      "cell_type": "code",
      "source": [
        "spark_url = 'local'"
      ],
      "metadata": {
        "id": "Wfya9EGoEMeV"
      },
      "execution_count": 4,
      "outputs": []
    },
    {
      "cell_type": "code",
      "source": [
        "from pyspark.sql import SparkSession"
      ],
      "metadata": {
        "id": "4Xzqtfd6ENiJ"
      },
      "execution_count": 5,
      "outputs": []
    },
    {
      "cell_type": "code",
      "source": [
        "spark = SparkSession.builder\\\n",
        "        .master(spark_url)\\\n",
        "        .appName('Spark ML')\\\n",
        "        .getOrCreate()"
      ],
      "metadata": {
        "id": "Y0AvAmFUEOJH"
      },
      "execution_count": 6,
      "outputs": []
    },
    {
      "cell_type": "markdown",
      "source": [
        "## Spark SQL Data Preparation"
      ],
      "metadata": {
        "id": "9Ke90SRjpadw"
      }
    },
    {
      "cell_type": "code",
      "source": [
        "from pyspark import SparkFiles\n",
        "\n",
        "# Data from https://www.traffy.in.th/?page_id=27351\n",
        "# Update every 3hr\n",
        "\n",
        "url = 'https://publicapi.traffy.in.th/dump-csv-chadchart/bangkok_traffy.csv'\n",
        "spark.sparkContext.addFile(url)"
      ],
      "metadata": {
        "id": "XubJZwnJZctg"
      },
      "execution_count": 8,
      "outputs": []
    },
    {
      "cell_type": "code",
      "source": [
        "df = spark.read.option(\"delimiter\", \",\").option(\"multiline\", \"true\").option(\"quote\", '\"').option(\"header\", \"true\").option(\"escape\", \"\\\\\").option(\"escape\", '\"').csv(\"file://\" + SparkFiles.get(\"bangkok_traffy.csv\"))\n",
        "df.show()"
      ],
      "metadata": {
        "colab": {
          "base_uri": "https://localhost:8080/"
        },
        "id": "VPGI4fpaaCVJ",
        "outputId": "6ff6b78e-438b-468e-c45f-c16b3eb78779"
      },
      "execution_count": 9,
      "outputs": [
        {
          "output_type": "stream",
          "name": "stdout",
          "text": [
            "+-----------+--------------------+--------------------+--------------------+--------------------+--------------------+------------------+--------------------+----------------+-----------------+--------------------+--------------------+--------------+----+------------+--------------------+\n",
            "|  ticket_id|                type|        organization|             comment|               photo|         photo_after|            coords|             address|     subdistrict|         district|            province|           timestamp|         state|star|count_reopen|       last_activity|\n",
            "+-----------+--------------------+--------------------+--------------------+--------------------+--------------------+------------------+--------------------+----------------+-----------------+--------------------+--------------------+--------------+----+------------+--------------------+\n",
            "|2021-9LHDM6|                  {}|                null|            ไม่มีภาพ|https://storage.g...|                null|100.48661,13.79386|1867 จรัญสนิทวงศ์...|         บางพลัด|          บางพลัด|       กรุงเทพมหานคร|2021-09-01 10:44:...|กำลังดำเนินการ|null|        null|2022-02-22 04:59:...|\n",
            "|2021-FYJTFP|         {ความสะอาด}|          เขตบางซื่อ|             ขยะเยอะ|https://storage.g...|                null|100.53084,13.81865|12/14 ถนน กรุงเทพ...|            null|             null|       กรุงเทพมหานคร|2021-09-03 12:51:...|     เสร็จสิ้น|null|        null|2022-06-04 15:34:...|\n",
            "|2021-8GKAR9|             {สายไฟ}|ยังไม่มีหน่วยงานร...|1. เถาวัลย์งอดบนส...|https://storage.g...|                null|100.57685,13.79704|335/31 ลาดพร้าว แ...|       สามเสนนอก|         ห้วยขวาง|จังหวัดกรุงเทพมหานคร|2021-09-19 06:47:...|กำลังดำเนินการ|null|        null|2022-02-22 04:30:...|\n",
            "|2021-AFPUXZ|         {ถนน,สะพาน}|                null|1 ซ่อมทางเท้าหลัง...|https://storage.g...|                null|100.52916,13.72338|37 10 ซอย สีลม 9 ...|            สีลม|           บางรัก|       กรุงเทพมหานคร|2021-09-19 07:40:...|กำลังดำเนินการ|null|        null|2022-02-22 04:30:...|\n",
            "|2021-CGPMUN| {น้ำท่วม,ร้องเรียน}|เขตประเวศ,ฝ่ายโยธ...|น้ำท่วมเวลาฝนตกแล...|https://storage.g...|https://storage.g...|100.66709,13.67891|189 เฉลิมพระเกียร...|         หนองบอน|           ประเวศ|       กรุงเทพมหานคร|2021-09-19 14:56:...|     เสร็จสิ้น|   4|        null|2022-06-21 08:21:...|\n",
            "|2021-8Z8JQ3|{ถนน,ร้องเรียน,น้...|                null|1) พื้นที่นี้ขาดห...|https://storage.g...|                null|100.86190,13.72804|3/8 ขุมทอง-ลำต้อย...|          ขุมทอง|        ลาดกระบัง|       กรุงเทพมหานคร|2021-09-20 00:24:...|กำลังดำเนินการ|null|        null|2022-02-22 04:29:...|\n",
            "|2021-G4FN8W|              {คลอง}|                null|   น้ำเน่าเสียในคลอง|https://storage.g...|                null|100.62298,13.74227|50 พระราม ที่ 9 แ...|         สวนหลวง|          สวนหลวง|       กรุงเทพมหานคร|2021-09-21 05:22:...|กำลังดำเนินการ|null|        null|2022-02-22 04:29:...|\n",
            "|2021-AFJYNF|       {ถนน,น้ำท่วม}|                null|น้ำท่วม เอ่อล้นถน...|https://storage.g...|                null|100.71592,13.73614|3 ถนน พัฒนาชนบท 3...|  คลองสองต้นนุ่น|        ลาดกระบัง|       กรุงเทพมหานคร|2021-09-22 05:06:...|กำลังดำเนินการ|null|        null|2022-02-22 04:29:...|\n",
            "|2021-HAJULK|{ร้องเรียน,ถนน,น้...|                null|มีการยกถนนในซอยเม...|https://storage.g...|                null|100.71661,13.79225|95 ซอย 12 มีนบุรี...|         มีนบุรี|          มีนบุรี|       กรุงเทพมหานคร|2021-09-23 06:25:...|กำลังดำเนินการ|null|        null|2022-02-22 04:29:...|\n",
            "|2021-Q7XMCN|                  {}|                null|งานไม่เสร็จ ควรเก...|https://storage.g...|                null|100.50779,13.79675|1 ถนน จรัญสนิทวงศ...|          บางอ้อ|          บางพลัด|       กรุงเทพมหานคร|2021-09-24 04:15:...|กำลังดำเนินการ|null|        null|2022-02-22 04:29:...|\n",
            "|2021-7XATFA|             {สะพาน}|             เขตสาทร|สะพานลอยปรับปรุงไ...|https://storage.g...|                null|100.52649,13.72060|191/1 ถนน สาทรเหน...|         ยานนาวา|             สาทร|       กรุงเทพมหานคร|2021-09-26 05:03:...|     เสร็จสิ้น|null|        null|2022-06-06 01:17:...|\n",
            "|2021-79YL3M|               {ถนน}|                null|1.ซอยราษฎร์นิมิตร...|https://storage.g...|                null|100.73357,13.91732|147 ซอย ราษฎร์นิม...|   สามวาตะวันออก|        คลองสามวา|       กรุงเทพมหานคร|2021-09-28 23:01:...|กำลังดำเนินการ|null|        null|2022-02-22 04:29:...|\n",
            "|2021-9U2NJT|           {น้ำท่วม}|เขตบางซื่อ,ฝ่ายโย...|             น้ำท่วม|https://storage.g...|https://storage.g...|100.53099,13.81853|12/14 ถนน กรุงเทพ...|            null|             null|       กรุงเทพมหานคร|2021-10-14 10:45:...|     เสร็จสิ้น|null|        null|2022-09-08 08:35:...|\n",
            "|2021-DVJPAV|                  {}|                null|            แสงสว่าง|https://storage.g...|                null|100.54188,13.75913|5 ถนน รางน้ำ แขวง...|        ถนนพญาไท|          ราชเทวี|       กรุงเทพมหานคร|2021-11-07 05:39:...|กำลังดำเนินการ|null|        null|2022-02-22 04:29:...|\n",
            "|2021-F7A2PK|{ท่อระบายน้ำ,ความ...|                null|มีฝาท่อระบายน้ำชำ...|https://storage.g...|                null|100.44755,13.71937|19/31 ซอย เพชรเกษ...|         บางหว้า|        ภาษีเจริญ|       กรุงเทพมหานคร|2021-11-12 02:19:...|กำลังดำเนินการ|null|        null|2022-02-22 04:29:...|\n",
            "|2021-DHG7W7|           {ทางเท้า}|                null|             ทางเท้า|https://storage.g...|                null|100.53548,13.75191|542/26 ถนน เพชรบุ...|        ถนนพญาไท|          ราชเทวี|       กรุงเทพมหานคร|2021-11-14 10:21:...|กำลังดำเนินการ|null|        null|2022-02-22 04:29:...|\n",
            "|2021-DANRZQ|           {ทางเท้า}|                null|             ทางเท้า|https://storage.g...|                null|100.51055,13.74463|326 ถนน พลับพลาไช...|        ป้อมปราบ|ป้อมปราบศัตรูพ่าย|       กรุงเทพมหานคร|2021-11-16 04:16:...|กำลังดำเนินการ|null|        null|2022-02-22 04:29:...|\n",
            "|2021-GANMJA|                  {}|                null|ขอร่วมเป็นพลังทำใ...|https://storage.g...|                null|100.45597,13.72265|206/52 ถนน เพชรเก...|ปากคลองภาษีเจริญ|        ภาษีเจริญ|       กรุงเทพมหานคร|2021-11-23 02:03:...|กำลังดำเนินการ|null|        null|2022-02-22 04:29:...|\n",
            "|2021-94U766|    {คลอง,ความสะอาด}|                null|มีผู้นำขยะมาแยกแล...|https://storage.g...|                null|100.65011,13.71290|17/1 ซอย อ่อนนุช ...|         สวนหลวง|          สวนหลวง|       กรุงเทพมหานคร|2021-11-25 03:43:...|กำลังดำเนินการ|null|        null|2022-02-22 04:29:...|\n",
            "|2021-3MBGD7|                  {}|                null|แจ้งตัวเงินตัวทอง...|https://storage.g...|                null|100.49126,13.73705|59/21 ซอย วัดกัลย...|      วัดกัลยาณ์|           ธนบุรี|       กรุงเทพมหานคร|2021-11-25 09:16:...|กำลังดำเนินการ|null|        null|2022-02-22 04:29:...|\n",
            "+-----------+--------------------+--------------------+--------------------+--------------------+--------------------+------------------+--------------------+----------------+-----------------+--------------------+--------------------+--------------+----+------------+--------------------+\n",
            "only showing top 20 rows\n",
            "\n"
          ]
        }
      ]
    },
    {
      "cell_type": "code",
      "source": [
        "df.count()"
      ],
      "metadata": {
        "colab": {
          "base_uri": "https://localhost:8080/"
        },
        "id": "3zW8TptTrqIs",
        "outputId": "6d6f4db2-dd32-4c78-b9a8-7a1164f18c8c"
      },
      "execution_count": 10,
      "outputs": [
        {
          "output_type": "execute_result",
          "data": {
            "text/plain": [
              "254679"
            ]
          },
          "metadata": {},
          "execution_count": 10
        }
      ]
    },
    {
      "cell_type": "code",
      "source": [
        "df.printSchema()"
      ],
      "metadata": {
        "colab": {
          "base_uri": "https://localhost:8080/"
        },
        "id": "rZQHAl2jeukE",
        "outputId": "dc4abb3c-1382-46fc-8675-b8b7d4aa49b4"
      },
      "execution_count": 11,
      "outputs": [
        {
          "output_type": "stream",
          "name": "stdout",
          "text": [
            "root\n",
            " |-- ticket_id: string (nullable = true)\n",
            " |-- type: string (nullable = true)\n",
            " |-- organization: string (nullable = true)\n",
            " |-- comment: string (nullable = true)\n",
            " |-- photo: string (nullable = true)\n",
            " |-- photo_after: string (nullable = true)\n",
            " |-- coords: string (nullable = true)\n",
            " |-- address: string (nullable = true)\n",
            " |-- subdistrict: string (nullable = true)\n",
            " |-- district: string (nullable = true)\n",
            " |-- province: string (nullable = true)\n",
            " |-- timestamp: string (nullable = true)\n",
            " |-- state: string (nullable = true)\n",
            " |-- star: string (nullable = true)\n",
            " |-- count_reopen: string (nullable = true)\n",
            " |-- last_activity: string (nullable = true)\n",
            "\n"
          ]
        }
      ]
    },
    {
      "cell_type": "code",
      "source": [
        "# drop unused column\n",
        "cols = ['ticket_id','photo', 'photo_after']\n",
        "df = df.drop(*cols)"
      ],
      "metadata": {
        "id": "zkSxZwyhhogp"
      },
      "execution_count": 12,
      "outputs": []
    },
    {
      "cell_type": "markdown",
      "source": [
        " ## Convert to proper data type"
      ],
      "metadata": {
        "id": "zQ-tKWmfphpd"
      }
    },
    {
      "cell_type": "code",
      "source": [
        "from pyspark.sql.functions import col\n",
        "cols = ['star', 'count_reopen']\n",
        "for c in cols:\n",
        "    df = df.withColumn(c, col(c).cast('int'))"
      ],
      "metadata": {
        "id": "I_odU4hugBuz"
      },
      "execution_count": 13,
      "outputs": []
    },
    {
      "cell_type": "code",
      "source": [
        "cols = ['timestamp', 'last_activity']\n",
        "for c in cols:\n",
        "    df = df.withColumn(c, col(c).cast('timestamp'))"
      ],
      "metadata": {
        "id": "yaRYxv0ngvXl"
      },
      "execution_count": 14,
      "outputs": []
    },
    {
      "cell_type": "code",
      "source": [
        "from pyspark.sql.functions import split, regexp_replace\n",
        "cols = ['type']\n",
        "for c in cols:\n",
        "    df = df.withColumn(c, split(regexp_replace(col(c), \"[{}]\", \"\"), \",\"))"
      ],
      "metadata": {
        "id": "2RhnWhrggjc3"
      },
      "execution_count": 15,
      "outputs": []
    },
    {
      "cell_type": "code",
      "source": [
        "cols = ['organization', 'coords']\n",
        "for c in cols:\n",
        "  df = df.withColumn(c, split(col(c), \",\"))"
      ],
      "metadata": {
        "id": "XpwmMf9Li1lt"
      },
      "execution_count": 16,
      "outputs": []
    },
    {
      "cell_type": "code",
      "source": [
        "df.printSchema()"
      ],
      "metadata": {
        "colab": {
          "base_uri": "https://localhost:8080/"
        },
        "id": "D-njdIeXhFjH",
        "outputId": "2b61711d-2e9d-453f-cd04-114786501b85"
      },
      "execution_count": 17,
      "outputs": [
        {
          "output_type": "stream",
          "name": "stdout",
          "text": [
            "root\n",
            " |-- type: array (nullable = true)\n",
            " |    |-- element: string (containsNull = false)\n",
            " |-- organization: array (nullable = true)\n",
            " |    |-- element: string (containsNull = false)\n",
            " |-- comment: string (nullable = true)\n",
            " |-- coords: array (nullable = true)\n",
            " |    |-- element: string (containsNull = false)\n",
            " |-- address: string (nullable = true)\n",
            " |-- subdistrict: string (nullable = true)\n",
            " |-- district: string (nullable = true)\n",
            " |-- province: string (nullable = true)\n",
            " |-- timestamp: timestamp (nullable = true)\n",
            " |-- state: string (nullable = true)\n",
            " |-- star: integer (nullable = true)\n",
            " |-- count_reopen: integer (nullable = true)\n",
            " |-- last_activity: timestamp (nullable = true)\n",
            "\n"
          ]
        }
      ]
    },
    {
      "cell_type": "code",
      "source": [
        "df.show()"
      ],
      "metadata": {
        "colab": {
          "base_uri": "https://localhost:8080/"
        },
        "id": "x7rb_wgkh8sI",
        "outputId": "1fe0f6a3-8105-42bc-866f-16e363376160"
      },
      "execution_count": 18,
      "outputs": [
        {
          "output_type": "stream",
          "name": "stdout",
          "text": [
            "+--------------------+--------------------+--------------------+--------------------+--------------------+----------------+-----------------+--------------------+--------------------+--------------+----+------------+--------------------+\n",
            "|                type|        organization|             comment|              coords|             address|     subdistrict|         district|            province|           timestamp|         state|star|count_reopen|       last_activity|\n",
            "+--------------------+--------------------+--------------------+--------------------+--------------------+----------------+-----------------+--------------------+--------------------+--------------+----+------------+--------------------+\n",
            "|                  []|                null|            ไม่มีภาพ|[100.48661, 13.79...|1867 จรัญสนิทวงศ์...|         บางพลัด|          บางพลัด|       กรุงเทพมหานคร|2021-09-01 10:44:...|กำลังดำเนินการ|null|        null|2022-02-22 04:59:...|\n",
            "|         [ความสะอาด]|        [เขตบางซื่อ]|             ขยะเยอะ|[100.53084, 13.81...|12/14 ถนน กรุงเทพ...|            null|             null|       กรุงเทพมหานคร|2021-09-03 12:51:...|     เสร็จสิ้น|null|        null|2022-06-04 15:34:...|\n",
            "|             [สายไฟ]|[ยังไม่มีหน่วยงาน...|1. เถาวัลย์งอดบนส...|[100.57685, 13.79...|335/31 ลาดพร้าว แ...|       สามเสนนอก|         ห้วยขวาง|จังหวัดกรุงเทพมหานคร|2021-09-19 06:47:...|กำลังดำเนินการ|null|        null|2022-02-22 04:30:...|\n",
            "|        [ถนน, สะพาน]|                null|1 ซ่อมทางเท้าหลัง...|[100.52916, 13.72...|37 10 ซอย สีลม 9 ...|            สีลม|           บางรัก|       กรุงเทพมหานคร|2021-09-19 07:40:...|กำลังดำเนินการ|null|        null|2022-02-22 04:30:...|\n",
            "|[น้ำท่วม, ร้องเรียน]|[เขตประเวศ, ฝ่ายโ...|น้ำท่วมเวลาฝนตกแล...|[100.66709, 13.67...|189 เฉลิมพระเกียร...|         หนองบอน|           ประเวศ|       กรุงเทพมหานคร|2021-09-19 14:56:...|     เสร็จสิ้น|   4|        null|2022-06-21 08:21:...|\n",
            "|[ถนน, ร้องเรียน, ...|                null|1) พื้นที่นี้ขาดห...|[100.86190, 13.72...|3/8 ขุมทอง-ลำต้อย...|          ขุมทอง|        ลาดกระบัง|       กรุงเทพมหานคร|2021-09-20 00:24:...|กำลังดำเนินการ|null|        null|2022-02-22 04:29:...|\n",
            "|              [คลอง]|                null|   น้ำเน่าเสียในคลอง|[100.62298, 13.74...|50 พระราม ที่ 9 แ...|         สวนหลวง|          สวนหลวง|       กรุงเทพมหานคร|2021-09-21 05:22:...|กำลังดำเนินการ|null|        null|2022-02-22 04:29:...|\n",
            "|      [ถนน, น้ำท่วม]|                null|น้ำท่วม เอ่อล้นถน...|[100.71592, 13.73...|3 ถนน พัฒนาชนบท 3...|  คลองสองต้นนุ่น|        ลาดกระบัง|       กรุงเทพมหานคร|2021-09-22 05:06:...|กำลังดำเนินการ|null|        null|2022-02-22 04:29:...|\n",
            "|[ร้องเรียน, ถนน, ...|                null|มีการยกถนนในซอยเม...|[100.71661, 13.79...|95 ซอย 12 มีนบุรี...|         มีนบุรี|          มีนบุรี|       กรุงเทพมหานคร|2021-09-23 06:25:...|กำลังดำเนินการ|null|        null|2022-02-22 04:29:...|\n",
            "|                  []|                null|งานไม่เสร็จ ควรเก...|[100.50779, 13.79...|1 ถนน จรัญสนิทวงศ...|          บางอ้อ|          บางพลัด|       กรุงเทพมหานคร|2021-09-24 04:15:...|กำลังดำเนินการ|null|        null|2022-02-22 04:29:...|\n",
            "|             [สะพาน]|           [เขตสาทร]|สะพานลอยปรับปรุงไ...|[100.52649, 13.72...|191/1 ถนน สาทรเหน...|         ยานนาวา|             สาทร|       กรุงเทพมหานคร|2021-09-26 05:03:...|     เสร็จสิ้น|null|        null|2022-06-06 01:17:...|\n",
            "|               [ถนน]|                null|1.ซอยราษฎร์นิมิตร...|[100.73357, 13.91...|147 ซอย ราษฎร์นิม...|   สามวาตะวันออก|        คลองสามวา|       กรุงเทพมหานคร|2021-09-28 23:01:...|กำลังดำเนินการ|null|        null|2022-02-22 04:29:...|\n",
            "|           [น้ำท่วม]|[เขตบางซื่อ, ฝ่าย...|             น้ำท่วม|[100.53099, 13.81...|12/14 ถนน กรุงเทพ...|            null|             null|       กรุงเทพมหานคร|2021-10-14 10:45:...|     เสร็จสิ้น|null|        null|2022-09-08 08:35:...|\n",
            "|                  []|                null|            แสงสว่าง|[100.54188, 13.75...|5 ถนน รางน้ำ แขวง...|        ถนนพญาไท|          ราชเทวี|       กรุงเทพมหานคร|2021-11-07 05:39:...|กำลังดำเนินการ|null|        null|2022-02-22 04:29:...|\n",
            "|[ท่อระบายน้ำ, ควา...|                null|มีฝาท่อระบายน้ำชำ...|[100.44755, 13.71...|19/31 ซอย เพชรเกษ...|         บางหว้า|        ภาษีเจริญ|       กรุงเทพมหานคร|2021-11-12 02:19:...|กำลังดำเนินการ|null|        null|2022-02-22 04:29:...|\n",
            "|           [ทางเท้า]|                null|             ทางเท้า|[100.53548, 13.75...|542/26 ถนน เพชรบุ...|        ถนนพญาไท|          ราชเทวี|       กรุงเทพมหานคร|2021-11-14 10:21:...|กำลังดำเนินการ|null|        null|2022-02-22 04:29:...|\n",
            "|           [ทางเท้า]|                null|             ทางเท้า|[100.51055, 13.74...|326 ถนน พลับพลาไช...|        ป้อมปราบ|ป้อมปราบศัตรูพ่าย|       กรุงเทพมหานคร|2021-11-16 04:16:...|กำลังดำเนินการ|null|        null|2022-02-22 04:29:...|\n",
            "|                  []|                null|ขอร่วมเป็นพลังทำใ...|[100.45597, 13.72...|206/52 ถนน เพชรเก...|ปากคลองภาษีเจริญ|        ภาษีเจริญ|       กรุงเทพมหานคร|2021-11-23 02:03:...|กำลังดำเนินการ|null|        null|2022-02-22 04:29:...|\n",
            "|   [คลอง, ความสะอาด]|                null|มีผู้นำขยะมาแยกแล...|[100.65011, 13.71...|17/1 ซอย อ่อนนุช ...|         สวนหลวง|          สวนหลวง|       กรุงเทพมหานคร|2021-11-25 03:43:...|กำลังดำเนินการ|null|        null|2022-02-22 04:29:...|\n",
            "|                  []|                null|แจ้งตัวเงินตัวทอง...|[100.49126, 13.73...|59/21 ซอย วัดกัลย...|      วัดกัลยาณ์|           ธนบุรี|       กรุงเทพมหานคร|2021-11-25 09:16:...|กำลังดำเนินการ|null|        null|2022-02-22 04:29:...|\n",
            "+--------------------+--------------------+--------------------+--------------------+--------------------+----------------+-----------------+--------------------+--------------------+--------------+----+------------+--------------------+\n",
            "only showing top 20 rows\n",
            "\n"
          ]
        }
      ]
    },
    {
      "cell_type": "code",
      "source": [
        "# count null\n",
        "import pyspark.sql.functions as F\n",
        "\n",
        "df_agg = df.agg(*[F.count(F.when(F.isnull(c), c)).alias(c) for c in df.columns])"
      ],
      "metadata": {
        "id": "XwFRa_u7onyv"
      },
      "execution_count": 19,
      "outputs": []
    },
    {
      "cell_type": "code",
      "source": [
        "df_agg.show()"
      ],
      "metadata": {
        "colab": {
          "base_uri": "https://localhost:8080/"
        },
        "id": "VqKQF8PmpJ5O",
        "outputId": "80b88b6e-0157-4b61-8059-41fa407db3c2"
      },
      "execution_count": 20,
      "outputs": [
        {
          "output_type": "stream",
          "name": "stdout",
          "text": [
            "+----+------------+-------+------+-------+-----------+--------+--------+---------+-----+------+------------+-------------+\n",
            "|type|organization|comment|coords|address|subdistrict|district|province|timestamp|state|  star|count_reopen|last_activity|\n",
            "+----+------------+-------+------+-------+-----------+--------+--------+---------+-----+------+------------+-------------+\n",
            "|  97|         969|   2378|     0|   2378|         70|      72|      23|        0|    0|160341|      117728|           14|\n",
            "+----+------------+-------+------+-------+-----------+--------+--------+---------+-----+------+------------+-------------+\n",
            "\n"
          ]
        }
      ]
    },
    {
      "cell_type": "code",
      "source": [
        "df.filter(\"last_activity is NULL\").show()"
      ],
      "metadata": {
        "colab": {
          "base_uri": "https://localhost:8080/"
        },
        "id": "I0PPKipZppQF",
        "outputId": "4cc406ee-a824-40a4-e05a-1f3efbb3b711"
      },
      "execution_count": 21,
      "outputs": [
        {
          "output_type": "stream",
          "name": "stdout",
          "text": [
            "+-------------+------------+--------------------+--------------------+--------------------+------------+-----------+--------------------+--------------------+-----------+----+------------+-------------+\n",
            "|         type|organization|             comment|              coords|             address| subdistrict|   district|            province|           timestamp|      state|star|count_reopen|last_activity|\n",
            "+-------------+------------+--------------------+--------------------+--------------------+------------+-----------+--------------------+--------------------+-----------+----+------------+-------------+\n",
            "|        [ถนน]|        null|จอดรถกันข้างทางใน...|[100.50468, 13.70...|48/1 ถ. เจริญกรุง...| วัดพระยาไกร|  บางคอแหลม|       กรุงเทพมหานคร|2022-07-30 07:15:...|รอรับเรื่อง|null|        null|         null|\n",
            "|           []|        null|     วางของบนทางเท้า|[100.53675, 13.70...|395 4-5 ซอย นราธิ...|   ช่องนนทรี|    ยานนาวา|จังหวัดกรุงเทพมหานคร|2022-08-05 05:53:...|รอรับเรื่อง|null|        null|         null|\n",
            "|           []|        null|ท่านมาแค่ถ่ายรูปส...|[100.70866, 13.70...|40/74 สุขาภิบาล 2...|      ประเวศ|     ประเวศ|จังหวัดกรุงเทพมหานคร|2022-08-05 06:58:...|รอรับเรื่อง|null|        null|         null|\n",
            "|     [ต้นไม้]|        null|            ต้นไม้ผุ|[100.51296, 13.76...|86 ถ. พระรามที่ ๕...|สี่แยกมหานาค|      ดุสิต|จังหวัดกรุงเทพมหานคร|2022-08-05 07:55:...|รอรับเรื่อง|null|        null|         null|\n",
            "|           []|        null|               ไฟฟ้า|[100.57099, 13.78...|315 ซอย อินทามระ ...|      ดินแดง|     ดินแดง|จังหวัดกรุงเทพมหานคร|2022-08-05 08:14:...|รอรับเรื่อง|null|        null|         null|\n",
            "|        [ถนน]|        null|ไม่มีการคืบหน้า เ...|[100.53935, 13.75...|กรุง ทอง พลาซ่า ล...|    ถนนพญาไท|    ราชเทวี|       กรุงเทพมหานคร|2022-08-05 08:25:...|รอรับเรื่อง|null|        null|         null|\n",
            "|        [ถนน]|        null|ไม่มีป้ายบอกทาง ถ...|[100.64129, 13.84...|RJXR+XG กรุงเทพมห...|     ท่าแร้ง|     บางเขน|       กรุงเทพมหานคร|2022-08-05 08:25:...|รอรับเรื่อง|null|        null|         null|\n",
            "|           []|        null|ฝนตกน้ำรั่ว ไม่แก...|[100.50392, 13.74...|97 ถนน จักรวรรดิ ...|   จักรวรรดิ|สัมพันธวงศ์|       กรุงเทพมหานคร|2022-08-05 08:35:...|รอรับเรื่อง|null|        null|         null|\n",
            "|    [น้ำท่วม]|        null|   แจ้งลอกท่อน้ำทิ้ง|[100.50955, 13.74...|26 ถนน แปลงนาม แข...| สัมพันธวงศ์|สัมพันธวงศ์|จังหวัดกรุงเทพมหานคร|2022-08-09 04:20:...|รอรับเรื่อง|null|        null|         null|\n",
            "|[ต้นไม้, ถนน]|        null|บริษัท พฤกษาและนิ...|[100.54743, 13.79...|173 ประดิพัทธ์ แข...|    สามเสนใน|      พญาไท|จังหวัดกรุงเทพมหานคร|2022-08-09 04:21:...|รอรับเรื่อง|null|        null|         null|\n",
            "|      [สายไฟ]|        null|ตั้งแผง ตั้งโต๊ะ ...|[100.57029, 13.72...|622 ถ. สุขุมวิท แ...|     คลองตัน|    คลองเตย|จังหวัดกรุงเทพมหานคร|2022-08-09 04:22:...|รอรับเรื่อง|null|        null|         null|\n",
            "|  [ความสะอาด]|        null|             ขยะข้าง|[100.48546, 13.60...|ซอย เจริญสุข แขวง...|     ทุ่งครุ|    ทุ่งครุ|จังหวัดกรุงเทพมหานคร|2022-08-09 04:23:...|รอรับเรื่อง|null|        null|         null|\n",
            "|      [สะพาน]|        null|มีคนไร้บ้านนอนอยู...|[100.50543, 13.79...|100 ถ. จรัญสนิทวง...|      บางอ้อ|    บางพลัด|จังหวัดกรุงเทพมหานคร|2022-08-09 04:24:...|รอรับเรื่อง|null|        null|         null|\n",
            "|        [ถนน]|        null|ขอแจ้งปัญหาด้วยนะ...|[100.55488, 13.75...|778/2 ถ. นิคมมักะ...|    มักกะสัน|    ราชเทวี|จังหวัดกรุงเทพมหานคร|2022-08-09 04:28:...|รอรับเรื่อง|null|        null|         null|\n",
            "+-------------+------------+--------------------+--------------------+--------------------+------------+-----------+--------------------+--------------------+-----------+----+------------+-------------+\n",
            "\n"
          ]
        }
      ]
    },
    {
      "cell_type": "code",
      "source": [
        "# drop rows where last_activity = null\n",
        "df = df.na.drop(subset=[\"last_activity\"])"
      ],
      "metadata": {
        "id": "CkfShJfVq-Yd"
      },
      "execution_count": 22,
      "outputs": []
    },
    {
      "cell_type": "code",
      "source": [
        "df.count()"
      ],
      "metadata": {
        "colab": {
          "base_uri": "https://localhost:8080/"
        },
        "id": "Q5B0O8jVrbiP",
        "outputId": "bf684144-fc6b-4e1d-bdc9-6d98fba14206"
      },
      "execution_count": 23,
      "outputs": [
        {
          "output_type": "execute_result",
          "data": {
            "text/plain": [
              "254665"
            ]
          },
          "metadata": {},
          "execution_count": 23
        }
      ]
    }
  ],
  "metadata": {
    "kernelspec": {
      "display_name": "Python 3 (ipykernel)",
      "language": "python",
      "name": "python3"
    },
    "language_info": {
      "codemirror_mode": {
        "name": "ipython",
        "version": 3
      },
      "file_extension": ".py",
      "mimetype": "text/x-python",
      "name": "python",
      "nbconvert_exporter": "python",
      "pygments_lexer": "ipython3",
      "version": "3.9.13"
    },
    "toc": {
      "base_numbering": 1,
      "nav_menu": {},
      "number_sections": true,
      "sideBar": true,
      "skip_h1_title": false,
      "title_cell": "Table of Contents",
      "title_sidebar": "Contents",
      "toc_cell": false,
      "toc_position": {},
      "toc_section_display": true,
      "toc_window_display": false
    },
    "varInspector": {
      "cols": {
        "lenName": 16,
        "lenType": 16,
        "lenVar": 40
      },
      "kernels_config": {
        "python": {
          "delete_cmd_postfix": "",
          "delete_cmd_prefix": "del ",
          "library": "var_list.py",
          "varRefreshCmd": "print(var_dic_list())"
        },
        "r": {
          "delete_cmd_postfix": ") ",
          "delete_cmd_prefix": "rm(",
          "library": "var_list.r",
          "varRefreshCmd": "cat(var_dic_list()) "
        }
      },
      "types_to_exclude": [
        "module",
        "function",
        "builtin_function_or_method",
        "instance",
        "_Feature"
      ],
      "window_display": false
    },
    "colab": {
      "provenance": [],
      "include_colab_link": true
    }
  },
  "nbformat": 4,
  "nbformat_minor": 0
}