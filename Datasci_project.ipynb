{
  "cells": [
    {
      "cell_type": "markdown",
      "source": [
        "# 0. Initialization"
      ],
      "metadata": {
        "id": "xSKwFvA8ygcq"
      }
    },
    {
      "cell_type": "markdown",
      "metadata": {
        "id": "2gID4GQm_zmu"
      },
      "source": [
        "## Spark Preparation (Google Colab Only)"
      ]
    },
    {
      "cell_type": "code",
      "execution_count": 17,
      "metadata": {
        "id": "ZJ5j1cS2_zmw"
      },
      "outputs": [],
      "source": [
        "try:\n",
        "  import google.colab\n",
        "  IN_COLAB = True\n",
        "except:\n",
        "  IN_COLAB = False"
      ]
    },
    {
      "cell_type": "code",
      "execution_count": 18,
      "metadata": {
        "id": "KwvSJUDD_zmx"
      },
      "outputs": [],
      "source": [
        "if IN_COLAB:\n",
        "    !apt-get install openjdk-8-jdk-headless -qq > /dev/null\n",
        "    !wget -q https://dlcdn.apache.org/spark/spark-3.3.2/spark-3.3.2-bin-hadoop3.tgz\n",
        "    !tar xf spark-3.3.2-bin-hadoop3.tgz\n",
        "    !mv spark-3.3.2-bin-hadoop3 spark\n",
        "    !pip install -q findspark"
      ]
    },
    {
      "cell_type": "code",
      "source": [
        "import os\n",
        "os.environ[\"JAVA_HOME\"] = \"/usr/lib/jvm/java-8-openjdk-amd64\"\n",
        "os.environ[\"SPARK_HOME\"] = \"/content/spark\""
      ],
      "metadata": {
        "id": "2uheFXfRrtRU"
      },
      "execution_count": 19,
      "outputs": []
    },
    {
      "cell_type": "markdown",
      "metadata": {
        "id": "Snc05R8m_zmx"
      },
      "source": [
        "## Start a Local Cluster"
      ]
    },
    {
      "cell_type": "code",
      "execution_count": 20,
      "metadata": {
        "id": "lnI1PJmN_zmx"
      },
      "outputs": [],
      "source": [
        "import findspark\n",
        "findspark.init()\n",
        "spark_url = 'local'"
      ]
    },
    {
      "cell_type": "code",
      "execution_count": 21,
      "metadata": {
        "id": "F0BK_kUUVFbe"
      },
      "outputs": [],
      "source": [
        "from pyspark.sql import SparkSession\n",
        "spark = SparkSession.builder\\\n",
        "        .master(spark_url)\\\n",
        "        .appName('Spark ML')\\\n",
        "        .getOrCreate()"
      ]
    },
    {
      "cell_type": "markdown",
      "metadata": {
        "id": "Ews41riJgHhT"
      },
      "source": [
        "# 1. Data Engineering (DE) Spark"
      ]
    },
    {
      "cell_type": "markdown",
      "metadata": {
        "id": "9Ke90SRjpadw"
      },
      "source": [
        "## Spark SQL Data Preparation"
      ]
    },
    {
      "cell_type": "code",
      "execution_count": 22,
      "metadata": {
        "id": "XubJZwnJZctg"
      },
      "outputs": [],
      "source": [
        "from pyspark import SparkFiles\n",
        "\n",
        "# Data from https://www.traffy.in.th/?page_id=27351\n",
        "# Update every 3hr\n",
        "\n",
        "# url = 'https://publicapi.traffy.in.th/dump-csv-chadchart/bangkok_traffy.csv'\n",
        "# spark.sparkContext.addFile(url)"
      ]
    },
    {
      "cell_type": "code",
      "execution_count": 23,
      "metadata": {
        "id": "k5ot4tS8d86v",
        "colab": {
          "base_uri": "https://localhost:8080/"
        },
        "outputId": "13ba40ce-ec9c-486e-8ba7-8a71e85d22e1"
      },
      "outputs": [
        {
          "output_type": "stream",
          "name": "stdout",
          "text": [
            "Downloading...\n",
            "From: https://drive.google.com/uc?id=1Fd1R_ZUBlRGuYwx4AH52u1VKWEbJpV1L\n",
            "To: /content/bangkok_traffy.csv\n",
            "100% 357M/357M [00:01<00:00, 239MB/s]\n"
          ]
        }
      ],
      "source": [
        "# download data from google drive\n",
        "# https://drive.google.com/file/d/1Fd1R_ZUBlRGuYwx4AH52u1VKWEbJpV1L/view?usp=share_link\n",
        "# data at 12-May-2023 21:46\n",
        "!gdown 1Fd1R_ZUBlRGuYwx4AH52u1VKWEbJpV1L"
      ]
    },
    {
      "cell_type": "code",
      "execution_count": 24,
      "metadata": {
        "id": "GNH120ckUiey",
        "colab": {
          "base_uri": "https://localhost:8080/"
        },
        "outputId": "82e1180f-8701-4bf6-81d5-21fb89d039d4"
      },
      "outputs": [
        {
          "output_type": "stream",
          "name": "stdout",
          "text": [
            "+-----------+--------------------+--------------------+--------------------+--------------------+--------------------+------------------+--------------------+----------------+-----------------+--------------------+--------------------+--------------+----+------------+--------------------+\n",
            "|  ticket_id|                type|        organization|             comment|               photo|         photo_after|            coords|             address|     subdistrict|         district|            province|           timestamp|         state|star|count_reopen|       last_activity|\n",
            "+-----------+--------------------+--------------------+--------------------+--------------------+--------------------+------------------+--------------------+----------------+-----------------+--------------------+--------------------+--------------+----+------------+--------------------+\n",
            "|2021-9LHDM6|                  {}|                null|            ไม่มีภาพ|https://storage.g...|                null|100.48661,13.79386|1867 จรัญสนิทวงศ์...|         บางพลัด|          บางพลัด|       กรุงเทพมหานคร|2021-09-01 10:44:...|กำลังดำเนินการ|null|        null|2022-02-22 04:59:...|\n",
            "|2021-FYJTFP|         {ความสะอาด}|          เขตบางซื่อ|             ขยะเยอะ|https://storage.g...|                null|100.53084,13.81865|12/14 ถนน กรุงเทพ...|            null|             null|       กรุงเทพมหานคร|2021-09-03 12:51:...|     เสร็จสิ้น|null|        null|2022-06-04 15:34:...|\n",
            "|2021-8GKAR9|             {สายไฟ}|ยังไม่มีหน่วยงานร...|1. เถาวัลย์งอดบนส...|https://storage.g...|                null|100.57685,13.79704|335/31 ลาดพร้าว แ...|       สามเสนนอก|         ห้วยขวาง|จังหวัดกรุงเทพมหานคร|2021-09-19 06:47:...|กำลังดำเนินการ|null|        null|2022-02-22 04:30:...|\n",
            "|2021-AFPUXZ|         {ถนน,สะพาน}|                null|1 ซ่อมทางเท้าหลัง...|https://storage.g...|                null|100.52916,13.72338|37 10 ซอย สีลม 9 ...|            สีลม|           บางรัก|       กรุงเทพมหานคร|2021-09-19 07:40:...|กำลังดำเนินการ|null|        null|2022-02-22 04:30:...|\n",
            "|2021-CGPMUN| {น้ำท่วม,ร้องเรียน}|เขตประเวศ,ฝ่ายโยธ...|น้ำท่วมเวลาฝนตกแล...|https://storage.g...|https://storage.g...|100.66709,13.67891|189 เฉลิมพระเกียร...|         หนองบอน|           ประเวศ|       กรุงเทพมหานคร|2021-09-19 14:56:...|     เสร็จสิ้น|   4|        null|2022-06-21 08:21:...|\n",
            "|2021-8Z8JQ3|{ถนน,ร้องเรียน,น้...|                null|1) พื้นที่นี้ขาดห...|https://storage.g...|                null|100.86190,13.72804|3/8 ขุมทอง-ลำต้อย...|          ขุมทอง|        ลาดกระบัง|       กรุงเทพมหานคร|2021-09-20 00:24:...|กำลังดำเนินการ|null|        null|2022-02-22 04:29:...|\n",
            "|2021-G4FN8W|              {คลอง}|                null|   น้ำเน่าเสียในคลอง|https://storage.g...|                null|100.62298,13.74227|50 พระราม ที่ 9 แ...|         สวนหลวง|          สวนหลวง|       กรุงเทพมหานคร|2021-09-21 05:22:...|กำลังดำเนินการ|null|        null|2022-02-22 04:29:...|\n",
            "|2021-AFJYNF|       {ถนน,น้ำท่วม}|                null|น้ำท่วม เอ่อล้นถน...|https://storage.g...|                null|100.71592,13.73614|3 ถนน พัฒนาชนบท 3...|  คลองสองต้นนุ่น|        ลาดกระบัง|       กรุงเทพมหานคร|2021-09-22 05:06:...|กำลังดำเนินการ|null|        null|2022-02-22 04:29:...|\n",
            "|2021-HAJULK|{ร้องเรียน,ถนน,น้...|                null|มีการยกถนนในซอยเม...|https://storage.g...|                null|100.71661,13.79225|95 ซอย 12 มีนบุรี...|         มีนบุรี|          มีนบุรี|       กรุงเทพมหานคร|2021-09-23 06:25:...|กำลังดำเนินการ|null|        null|2022-02-22 04:29:...|\n",
            "|2021-Q7XMCN|                  {}|                null|งานไม่เสร็จ ควรเก...|https://storage.g...|                null|100.50779,13.79675|1 ถนน จรัญสนิทวงศ...|          บางอ้อ|          บางพลัด|       กรุงเทพมหานคร|2021-09-24 04:15:...|กำลังดำเนินการ|null|        null|2022-02-22 04:29:...|\n",
            "|2021-7XATFA|             {สะพาน}|             เขตสาทร|สะพานลอยปรับปรุงไ...|https://storage.g...|                null|100.52649,13.72060|191/1 ถนน สาทรเหน...|         ยานนาวา|             สาทร|       กรุงเทพมหานคร|2021-09-26 05:03:...|     เสร็จสิ้น|null|        null|2022-06-06 01:17:...|\n",
            "|2021-79YL3M|               {ถนน}|                null|1.ซอยราษฎร์นิมิตร...|https://storage.g...|                null|100.73357,13.91732|147 ซอย ราษฎร์นิม...|   สามวาตะวันออก|        คลองสามวา|       กรุงเทพมหานคร|2021-09-28 23:01:...|กำลังดำเนินการ|null|        null|2022-02-22 04:29:...|\n",
            "|2021-9U2NJT|           {น้ำท่วม}|เขตบางซื่อ,ฝ่ายโย...|             น้ำท่วม|https://storage.g...|https://storage.g...|100.53099,13.81853|12/14 ถนน กรุงเทพ...|            null|             null|       กรุงเทพมหานคร|2021-10-14 10:45:...|     เสร็จสิ้น|null|        null|2022-09-08 08:35:...|\n",
            "|2021-DVJPAV|                  {}|                null|            แสงสว่าง|https://storage.g...|                null|100.54188,13.75913|5 ถนน รางน้ำ แขวง...|        ถนนพญาไท|          ราชเทวี|       กรุงเทพมหานคร|2021-11-07 05:39:...|กำลังดำเนินการ|null|        null|2022-02-22 04:29:...|\n",
            "|2021-F7A2PK|{ท่อระบายน้ำ,ความ...|                null|มีฝาท่อระบายน้ำชำ...|https://storage.g...|                null|100.44755,13.71937|19/31 ซอย เพชรเกษ...|         บางหว้า|        ภาษีเจริญ|       กรุงเทพมหานคร|2021-11-12 02:19:...|กำลังดำเนินการ|null|        null|2022-02-22 04:29:...|\n",
            "|2021-DHG7W7|           {ทางเท้า}|                null|             ทางเท้า|https://storage.g...|                null|100.53548,13.75191|542/26 ถนน เพชรบุ...|        ถนนพญาไท|          ราชเทวี|       กรุงเทพมหานคร|2021-11-14 10:21:...|กำลังดำเนินการ|null|        null|2022-02-22 04:29:...|\n",
            "|2021-DANRZQ|           {ทางเท้า}|                null|             ทางเท้า|https://storage.g...|                null|100.51055,13.74463|326 ถนน พลับพลาไช...|        ป้อมปราบ|ป้อมปราบศัตรูพ่าย|       กรุงเทพมหานคร|2021-11-16 04:16:...|กำลังดำเนินการ|null|        null|2022-02-22 04:29:...|\n",
            "|2021-GANMJA|                  {}|                null|ขอร่วมเป็นพลังทำใ...|https://storage.g...|                null|100.45597,13.72265|206/52 ถนน เพชรเก...|ปากคลองภาษีเจริญ|        ภาษีเจริญ|       กรุงเทพมหานคร|2021-11-23 02:03:...|กำลังดำเนินการ|null|        null|2022-02-22 04:29:...|\n",
            "|2021-94U766|    {คลอง,ความสะอาด}|                null|มีผู้นำขยะมาแยกแล...|https://storage.g...|                null|100.65011,13.71290|17/1 ซอย อ่อนนุช ...|         สวนหลวง|          สวนหลวง|       กรุงเทพมหานคร|2021-11-25 03:43:...|กำลังดำเนินการ|null|        null|2022-02-22 04:29:...|\n",
            "|2021-3MBGD7|                  {}|                null|แจ้งตัวเงินตัวทอง...|https://storage.g...|                null|100.49126,13.73705|59/21 ซอย วัดกัลย...|      วัดกัลยาณ์|           ธนบุรี|       กรุงเทพมหานคร|2021-11-25 09:16:...|กำลังดำเนินการ|null|        null|2022-02-22 04:29:...|\n",
            "+-----------+--------------------+--------------------+--------------------+--------------------+--------------------+------------------+--------------------+----------------+-----------------+--------------------+--------------------+--------------+----+------------+--------------------+\n",
            "only showing top 20 rows\n",
            "\n"
          ]
        }
      ],
      "source": [
        "path = '/content/bangkok_traffy.csv'\n",
        "\n",
        "df = spark.read.option(\"delimiter\", \",\").option(\"multiline\", \"true\").option(\"quote\", '\"').option(\"header\", \"true\").option(\"escape\", \"\\\\\").option(\"escape\", '\"').csv(path)\n",
        "df.show()\n",
        "\n",
        "# df = spark.read.option(\"delimiter\", \",\").option(\"multiline\", \"true\").option(\"quote\", '\"').option(\"header\", \"true\").option(\"escape\", \"\\\\\").option(\"escape\", '\"').csv(\"file://\" + SparkFiles.get(\"bangkok_traffy.csv\"))\n",
        "# df.show()"
      ]
    },
    {
      "cell_type": "code",
      "execution_count": 25,
      "metadata": {
        "id": "3zW8TptTrqIs",
        "colab": {
          "base_uri": "https://localhost:8080/"
        },
        "outputId": "6c2fdf56-dc18-499a-ed33-736a247fc19c"
      },
      "outputs": [
        {
          "output_type": "execute_result",
          "data": {
            "text/plain": [
              "270632"
            ]
          },
          "metadata": {},
          "execution_count": 25
        }
      ],
      "source": [
        "df.count()"
      ]
    },
    {
      "cell_type": "code",
      "execution_count": 26,
      "metadata": {
        "id": "rZQHAl2jeukE",
        "colab": {
          "base_uri": "https://localhost:8080/"
        },
        "outputId": "dd36312b-03f3-4644-834d-9c8851b2ded4"
      },
      "outputs": [
        {
          "output_type": "stream",
          "name": "stdout",
          "text": [
            "root\n",
            " |-- ticket_id: string (nullable = true)\n",
            " |-- type: string (nullable = true)\n",
            " |-- organization: string (nullable = true)\n",
            " |-- comment: string (nullable = true)\n",
            " |-- photo: string (nullable = true)\n",
            " |-- photo_after: string (nullable = true)\n",
            " |-- coords: string (nullable = true)\n",
            " |-- address: string (nullable = true)\n",
            " |-- subdistrict: string (nullable = true)\n",
            " |-- district: string (nullable = true)\n",
            " |-- province: string (nullable = true)\n",
            " |-- timestamp: string (nullable = true)\n",
            " |-- state: string (nullable = true)\n",
            " |-- star: string (nullable = true)\n",
            " |-- count_reopen: string (nullable = true)\n",
            " |-- last_activity: string (nullable = true)\n",
            "\n"
          ]
        }
      ],
      "source": [
        "df.printSchema()"
      ]
    },
    {
      "cell_type": "code",
      "execution_count": 27,
      "metadata": {
        "id": "zkSxZwyhhogp"
      },
      "outputs": [],
      "source": [
        "# drop unused column\n",
        "cols = ['ticket_id','photo', 'photo_after']\n",
        "df = df.drop(*cols)"
      ]
    },
    {
      "cell_type": "markdown",
      "metadata": {
        "id": "zQ-tKWmfphpd"
      },
      "source": [
        " ## Convert to proper data type"
      ]
    },
    {
      "cell_type": "code",
      "execution_count": 28,
      "metadata": {
        "id": "I_odU4hugBuz"
      },
      "outputs": [],
      "source": [
        "from pyspark.sql.functions import col\n",
        "cols = ['star', 'count_reopen']\n",
        "for c in cols:\n",
        "    df = df.withColumn(c, col(c).cast('int'))"
      ]
    },
    {
      "cell_type": "code",
      "execution_count": 29,
      "metadata": {
        "id": "yaRYxv0ngvXl"
      },
      "outputs": [],
      "source": [
        "cols = ['timestamp', 'last_activity']\n",
        "for c in cols:\n",
        "    df = df.withColumn(c, col(c).cast('timestamp'))"
      ]
    },
    {
      "cell_type": "code",
      "execution_count": 30,
      "metadata": {
        "id": "2RhnWhrggjc3"
      },
      "outputs": [],
      "source": [
        "from pyspark.sql.functions import split, regexp_replace\n",
        "cols = ['type']\n",
        "for c in cols:\n",
        "    df = df.withColumn(c, split(regexp_replace(col(c), \"[{}]\", \"\"), \",\"))"
      ]
    },
    {
      "cell_type": "code",
      "execution_count": 31,
      "metadata": {
        "id": "XpwmMf9Li1lt"
      },
      "outputs": [],
      "source": [
        "cols = ['organization', 'coords']\n",
        "for c in cols:\n",
        "  df = df.withColumn(c, split(col(c), \",\"))"
      ]
    },
    {
      "cell_type": "code",
      "source": [
        "from pyspark.sql.functions import col, round\n",
        "\n",
        "# Split the coords array into separate latitude and longitude columns\n",
        "df = df.withColumn(\"latitude\", col(\"coords\").getItem(0).cast(\"double\")) \\\n",
        "             .withColumn(\"latitude\", round(col(\"latitude\"), 2)) \\\n",
        "             .withColumn(\"longitude\", col(\"coords\").getItem(1).cast(\"double\")) \\\n",
        "             .withColumn(\"longitude\", round(col(\"longitude\"), 2)) \\\n",
        "             .drop(\"coords\")"
      ],
      "metadata": {
        "id": "iLeS0z6LzZ6J"
      },
      "execution_count": 33,
      "outputs": []
    },
    {
      "cell_type": "code",
      "execution_count": 34,
      "metadata": {
        "id": "D-njdIeXhFjH",
        "colab": {
          "base_uri": "https://localhost:8080/"
        },
        "outputId": "67777488-32f4-4c69-b777-b9c0d49da556"
      },
      "outputs": [
        {
          "output_type": "stream",
          "name": "stdout",
          "text": [
            "root\n",
            " |-- type: array (nullable = true)\n",
            " |    |-- element: string (containsNull = false)\n",
            " |-- organization: array (nullable = true)\n",
            " |    |-- element: string (containsNull = false)\n",
            " |-- comment: string (nullable = true)\n",
            " |-- address: string (nullable = true)\n",
            " |-- subdistrict: string (nullable = true)\n",
            " |-- district: string (nullable = true)\n",
            " |-- province: string (nullable = true)\n",
            " |-- timestamp: timestamp (nullable = true)\n",
            " |-- state: string (nullable = true)\n",
            " |-- star: integer (nullable = true)\n",
            " |-- count_reopen: integer (nullable = true)\n",
            " |-- last_activity: timestamp (nullable = true)\n",
            " |-- latitude: double (nullable = true)\n",
            " |-- longitude: double (nullable = true)\n",
            "\n"
          ]
        }
      ],
      "source": [
        "df.printSchema()"
      ]
    },
    {
      "cell_type": "code",
      "execution_count": 35,
      "metadata": {
        "id": "x7rb_wgkh8sI",
        "colab": {
          "base_uri": "https://localhost:8080/"
        },
        "outputId": "ba60b2f3-a6f5-4ccf-8af7-a24067259bc0"
      },
      "outputs": [
        {
          "output_type": "stream",
          "name": "stdout",
          "text": [
            "+--------------------+--------------------+--------------------+--------------------+----------------+-----------------+--------------------+--------------------+--------------+----+------------+--------------------+--------+---------+\n",
            "|                type|        organization|             comment|             address|     subdistrict|         district|            province|           timestamp|         state|star|count_reopen|       last_activity|latitude|longitude|\n",
            "+--------------------+--------------------+--------------------+--------------------+----------------+-----------------+--------------------+--------------------+--------------+----+------------+--------------------+--------+---------+\n",
            "|                  []|                null|            ไม่มีภาพ|1867 จรัญสนิทวงศ์...|         บางพลัด|          บางพลัด|       กรุงเทพมหานคร|2021-09-01 10:44:...|กำลังดำเนินการ|null|        null|2022-02-22 04:59:...|  100.49|    13.79|\n",
            "|         [ความสะอาด]|        [เขตบางซื่อ]|             ขยะเยอะ|12/14 ถนน กรุงเทพ...|            null|             null|       กรุงเทพมหานคร|2021-09-03 12:51:...|     เสร็จสิ้น|null|        null|2022-06-04 15:34:...|  100.53|    13.82|\n",
            "|             [สายไฟ]|[ยังไม่มีหน่วยงาน...|1. เถาวัลย์งอดบนส...|335/31 ลาดพร้าว แ...|       สามเสนนอก|         ห้วยขวาง|จังหวัดกรุงเทพมหานคร|2021-09-19 06:47:...|กำลังดำเนินการ|null|        null|2022-02-22 04:30:...|  100.58|     13.8|\n",
            "|        [ถนน, สะพาน]|                null|1 ซ่อมทางเท้าหลัง...|37 10 ซอย สีลม 9 ...|            สีลม|           บางรัก|       กรุงเทพมหานคร|2021-09-19 07:40:...|กำลังดำเนินการ|null|        null|2022-02-22 04:30:...|  100.53|    13.72|\n",
            "|[น้ำท่วม, ร้องเรียน]|[เขตประเวศ, ฝ่ายโ...|น้ำท่วมเวลาฝนตกแล...|189 เฉลิมพระเกียร...|         หนองบอน|           ประเวศ|       กรุงเทพมหานคร|2021-09-19 14:56:...|     เสร็จสิ้น|   4|        null|2022-06-21 08:21:...|  100.67|    13.68|\n",
            "|[ถนน, ร้องเรียน, ...|                null|1) พื้นที่นี้ขาดห...|3/8 ขุมทอง-ลำต้อย...|          ขุมทอง|        ลาดกระบัง|       กรุงเทพมหานคร|2021-09-20 00:24:...|กำลังดำเนินการ|null|        null|2022-02-22 04:29:...|  100.86|    13.73|\n",
            "|              [คลอง]|                null|   น้ำเน่าเสียในคลอง|50 พระราม ที่ 9 แ...|         สวนหลวง|          สวนหลวง|       กรุงเทพมหานคร|2021-09-21 05:22:...|กำลังดำเนินการ|null|        null|2022-02-22 04:29:...|  100.62|    13.74|\n",
            "|      [ถนน, น้ำท่วม]|                null|น้ำท่วม เอ่อล้นถน...|3 ถนน พัฒนาชนบท 3...|  คลองสองต้นนุ่น|        ลาดกระบัง|       กรุงเทพมหานคร|2021-09-22 05:06:...|กำลังดำเนินการ|null|        null|2022-02-22 04:29:...|  100.72|    13.74|\n",
            "|[ร้องเรียน, ถนน, ...|                null|มีการยกถนนในซอยเม...|95 ซอย 12 มีนบุรี...|         มีนบุรี|          มีนบุรี|       กรุงเทพมหานคร|2021-09-23 06:25:...|กำลังดำเนินการ|null|        null|2022-02-22 04:29:...|  100.72|    13.79|\n",
            "|                  []|                null|งานไม่เสร็จ ควรเก...|1 ถนน จรัญสนิทวงศ...|          บางอ้อ|          บางพลัด|       กรุงเทพมหานคร|2021-09-24 04:15:...|กำลังดำเนินการ|null|        null|2022-02-22 04:29:...|  100.51|     13.8|\n",
            "|             [สะพาน]|           [เขตสาทร]|สะพานลอยปรับปรุงไ...|191/1 ถนน สาทรเหน...|         ยานนาวา|             สาทร|       กรุงเทพมหานคร|2021-09-26 05:03:...|     เสร็จสิ้น|null|        null|2022-06-06 01:17:...|  100.53|    13.72|\n",
            "|               [ถนน]|                null|1.ซอยราษฎร์นิมิตร...|147 ซอย ราษฎร์นิม...|   สามวาตะวันออก|        คลองสามวา|       กรุงเทพมหานคร|2021-09-28 23:01:...|กำลังดำเนินการ|null|        null|2022-02-22 04:29:...|  100.73|    13.92|\n",
            "|           [น้ำท่วม]|[เขตบางซื่อ, ฝ่าย...|             น้ำท่วม|12/14 ถนน กรุงเทพ...|            null|             null|       กรุงเทพมหานคร|2021-10-14 10:45:...|     เสร็จสิ้น|null|        null|2022-09-08 08:35:...|  100.53|    13.82|\n",
            "|                  []|                null|            แสงสว่าง|5 ถนน รางน้ำ แขวง...|        ถนนพญาไท|          ราชเทวี|       กรุงเทพมหานคร|2021-11-07 05:39:...|กำลังดำเนินการ|null|        null|2022-02-22 04:29:...|  100.54|    13.76|\n",
            "|[ท่อระบายน้ำ, ควา...|                null|มีฝาท่อระบายน้ำชำ...|19/31 ซอย เพชรเกษ...|         บางหว้า|        ภาษีเจริญ|       กรุงเทพมหานคร|2021-11-12 02:19:...|กำลังดำเนินการ|null|        null|2022-02-22 04:29:...|  100.45|    13.72|\n",
            "|           [ทางเท้า]|                null|             ทางเท้า|542/26 ถนน เพชรบุ...|        ถนนพญาไท|          ราชเทวี|       กรุงเทพมหานคร|2021-11-14 10:21:...|กำลังดำเนินการ|null|        null|2022-02-22 04:29:...|  100.54|    13.75|\n",
            "|           [ทางเท้า]|                null|             ทางเท้า|326 ถนน พลับพลาไช...|        ป้อมปราบ|ป้อมปราบศัตรูพ่าย|       กรุงเทพมหานคร|2021-11-16 04:16:...|กำลังดำเนินการ|null|        null|2022-02-22 04:29:...|  100.51|    13.74|\n",
            "|                  []|                null|ขอร่วมเป็นพลังทำใ...|206/52 ถนน เพชรเก...|ปากคลองภาษีเจริญ|        ภาษีเจริญ|       กรุงเทพมหานคร|2021-11-23 02:03:...|กำลังดำเนินการ|null|        null|2022-02-22 04:29:...|  100.46|    13.72|\n",
            "|   [คลอง, ความสะอาด]|                null|มีผู้นำขยะมาแยกแล...|17/1 ซอย อ่อนนุช ...|         สวนหลวง|          สวนหลวง|       กรุงเทพมหานคร|2021-11-25 03:43:...|กำลังดำเนินการ|null|        null|2022-02-22 04:29:...|  100.65|    13.71|\n",
            "|                  []|                null|แจ้งตัวเงินตัวทอง...|59/21 ซอย วัดกัลย...|      วัดกัลยาณ์|           ธนบุรี|       กรุงเทพมหานคร|2021-11-25 09:16:...|กำลังดำเนินการ|null|        null|2022-02-22 04:29:...|  100.49|    13.74|\n",
            "+--------------------+--------------------+--------------------+--------------------+----------------+-----------------+--------------------+--------------------+--------------+----+------------+--------------------+--------+---------+\n",
            "only showing top 20 rows\n",
            "\n"
          ]
        }
      ],
      "source": [
        "df.show()"
      ]
    },
    {
      "cell_type": "markdown",
      "metadata": {
        "id": "52IjQ3ASa-oP"
      },
      "source": [
        "## Drop null"
      ]
    },
    {
      "cell_type": "code",
      "execution_count": 36,
      "metadata": {
        "id": "XwFRa_u7onyv"
      },
      "outputs": [],
      "source": [
        "# count null\n",
        "import pyspark.sql.functions as F\n",
        "\n",
        "df_agg = df.agg(*[F.count(F.when(F.isnull(c), c)).alias(c) for c in df.columns])"
      ]
    },
    {
      "cell_type": "code",
      "execution_count": 37,
      "metadata": {
        "id": "VqKQF8PmpJ5O",
        "colab": {
          "base_uri": "https://localhost:8080/"
        },
        "outputId": "c11828ab-b141-441b-c25f-e41944f04894"
      },
      "outputs": [
        {
          "output_type": "stream",
          "name": "stdout",
          "text": [
            "+----+------------+-------+-------+-----------+--------+--------+---------+-----+------+------------+-------------+--------+---------+\n",
            "|type|organization|comment|address|subdistrict|district|province|timestamp|state|  star|count_reopen|last_activity|latitude|longitude|\n",
            "+----+------------+-------+-------+-----------+--------+--------+---------+-----+------+------------+-------------+--------+---------+\n",
            "|  97|        1002|   2648|   2648|         72|      74|      25|        0|    0|171624|      117695|            0|       0|        0|\n",
            "+----+------------+-------+-------+-----------+--------+--------+---------+-----+------+------------+-------------+--------+---------+\n",
            "\n"
          ]
        }
      ],
      "source": [
        "df_agg.show()"
      ]
    },
    {
      "cell_type": "code",
      "execution_count": 38,
      "metadata": {
        "id": "I0PPKipZppQF",
        "colab": {
          "base_uri": "https://localhost:8080/"
        },
        "outputId": "57ba14af-aeaa-4b21-f57b-b60c3201aa4d"
      },
      "outputs": [
        {
          "output_type": "stream",
          "name": "stdout",
          "text": [
            "+----+------------+-------+-------+-----------+--------+--------+---------+-----+----+------------+-------------+--------+---------+\n",
            "|type|organization|comment|address|subdistrict|district|province|timestamp|state|star|count_reopen|last_activity|latitude|longitude|\n",
            "+----+------------+-------+-------+-----------+--------+--------+---------+-----+----+------------+-------------+--------+---------+\n",
            "+----+------------+-------+-------+-----------+--------+--------+---------+-----+----+------------+-------------+--------+---------+\n",
            "\n"
          ]
        }
      ],
      "source": [
        "df.filter(\"last_activity is NULL\").show()"
      ]
    },
    {
      "cell_type": "code",
      "execution_count": 39,
      "metadata": {
        "id": "CkfShJfVq-Yd"
      },
      "outputs": [],
      "source": [
        "# drop rows where last_activity = null\n",
        "df = df.na.drop(subset=[\"last_activity\"])"
      ]
    },
    {
      "cell_type": "code",
      "execution_count": 40,
      "metadata": {
        "id": "Q5B0O8jVrbiP",
        "colab": {
          "base_uri": "https://localhost:8080/"
        },
        "outputId": "6e92e341-44c4-47ab-c7bf-59dc2c8599d9"
      },
      "outputs": [
        {
          "output_type": "execute_result",
          "data": {
            "text/plain": [
              "270632"
            ]
          },
          "metadata": {},
          "execution_count": 40
        }
      ],
      "source": [
        "df.count()"
      ]
    },
    {
      "cell_type": "markdown",
      "source": [
        "## filter latitude and longitude"
      ],
      "metadata": {
        "id": "A1m86JN_zLx9"
      }
    },
    {
      "cell_type": "code",
      "source": [
        "# Select only latitude and longitude inside Bangkok area\n",
        "df = df.filter((col(\"latitude\") >= 100.32) & (col(\"latitude\") <= 100.96) & \\\n",
        "               (col(\"longitude\") >= 13.40) & (col(\"longitude\") <= 13.96))\n",
        "\n",
        "df.count()"
      ],
      "metadata": {
        "colab": {
          "base_uri": "https://localhost:8080/"
        },
        "id": "FaGg1OG5zMGA",
        "outputId": "0d7407aa-f7cd-490f-807f-d6e85980995d"
      },
      "execution_count": 41,
      "outputs": [
        {
          "output_type": "execute_result",
          "data": {
            "text/plain": [
              "270299"
            ]
          },
          "metadata": {},
          "execution_count": 41
        }
      ]
    },
    {
      "cell_type": "markdown",
      "metadata": {
        "id": "W8rpFSjKwNk7"
      },
      "source": [
        "## calculate date_to_state"
      ]
    },
    {
      "cell_type": "code",
      "execution_count": 42,
      "metadata": {
        "id": "ZX3vq0NSaii0",
        "colab": {
          "base_uri": "https://localhost:8080/"
        },
        "outputId": "eadcfffd-c73f-4be6-91f2-7ea99453efe1"
      },
      "outputs": [
        {
          "output_type": "stream",
          "name": "stdout",
          "text": [
            "+--------------------+--------------------+--------------------+--------------------+----------------+-----------------+--------------------+--------------------+--------------+----+------------+--------------------+--------+---------+-------------+\n",
            "|                type|        organization|             comment|             address|     subdistrict|         district|            province|           timestamp|         state|star|count_reopen|       last_activity|latitude|longitude|date_to_state|\n",
            "+--------------------+--------------------+--------------------+--------------------+----------------+-----------------+--------------------+--------------------+--------------+----+------------+--------------------+--------+---------+-------------+\n",
            "|                  []|                null|            ไม่มีภาพ|1867 จรัญสนิทวงศ์...|         บางพลัด|          บางพลัด|       กรุงเทพมหานคร|2021-09-01 10:44:...|กำลังดำเนินการ|null|        null|2022-02-22 04:59:...|  100.49|    13.79|          174|\n",
            "|         [ความสะอาด]|        [เขตบางซื่อ]|             ขยะเยอะ|12/14 ถนน กรุงเทพ...|            null|             null|       กรุงเทพมหานคร|2021-09-03 12:51:...|     เสร็จสิ้น|null|        null|2022-06-04 15:34:...|  100.53|    13.82|          274|\n",
            "|             [สายไฟ]|[ยังไม่มีหน่วยงาน...|1. เถาวัลย์งอดบนส...|335/31 ลาดพร้าว แ...|       สามเสนนอก|         ห้วยขวาง|จังหวัดกรุงเทพมหานคร|2021-09-19 06:47:...|กำลังดำเนินการ|null|        null|2022-02-22 04:30:...|  100.58|     13.8|          156|\n",
            "|        [ถนน, สะพาน]|                null|1 ซ่อมทางเท้าหลัง...|37 10 ซอย สีลม 9 ...|            สีลม|           บางรัก|       กรุงเทพมหานคร|2021-09-19 07:40:...|กำลังดำเนินการ|null|        null|2022-02-22 04:30:...|  100.53|    13.72|          156|\n",
            "|[น้ำท่วม, ร้องเรียน]|[เขตประเวศ, ฝ่ายโ...|น้ำท่วมเวลาฝนตกแล...|189 เฉลิมพระเกียร...|         หนองบอน|           ประเวศ|       กรุงเทพมหานคร|2021-09-19 14:56:...|     เสร็จสิ้น|   4|        null|2022-06-21 08:21:...|  100.67|    13.68|          275|\n",
            "|[ถนน, ร้องเรียน, ...|                null|1) พื้นที่นี้ขาดห...|3/8 ขุมทอง-ลำต้อย...|          ขุมทอง|        ลาดกระบัง|       กรุงเทพมหานคร|2021-09-20 00:24:...|กำลังดำเนินการ|null|        null|2022-02-22 04:29:...|  100.86|    13.73|          155|\n",
            "|              [คลอง]|                null|   น้ำเน่าเสียในคลอง|50 พระราม ที่ 9 แ...|         สวนหลวง|          สวนหลวง|       กรุงเทพมหานคร|2021-09-21 05:22:...|กำลังดำเนินการ|null|        null|2022-02-22 04:29:...|  100.62|    13.74|          154|\n",
            "|      [ถนน, น้ำท่วม]|                null|น้ำท่วม เอ่อล้นถน...|3 ถนน พัฒนาชนบท 3...|  คลองสองต้นนุ่น|        ลาดกระบัง|       กรุงเทพมหานคร|2021-09-22 05:06:...|กำลังดำเนินการ|null|        null|2022-02-22 04:29:...|  100.72|    13.74|          153|\n",
            "|[ร้องเรียน, ถนน, ...|                null|มีการยกถนนในซอยเม...|95 ซอย 12 มีนบุรี...|         มีนบุรี|          มีนบุรี|       กรุงเทพมหานคร|2021-09-23 06:25:...|กำลังดำเนินการ|null|        null|2022-02-22 04:29:...|  100.72|    13.79|          152|\n",
            "|                  []|                null|งานไม่เสร็จ ควรเก...|1 ถนน จรัญสนิทวงศ...|          บางอ้อ|          บางพลัด|       กรุงเทพมหานคร|2021-09-24 04:15:...|กำลังดำเนินการ|null|        null|2022-02-22 04:29:...|  100.51|     13.8|          151|\n",
            "|             [สะพาน]|           [เขตสาทร]|สะพานลอยปรับปรุงไ...|191/1 ถนน สาทรเหน...|         ยานนาวา|             สาทร|       กรุงเทพมหานคร|2021-09-26 05:03:...|     เสร็จสิ้น|null|        null|2022-06-06 01:17:...|  100.53|    13.72|          253|\n",
            "|               [ถนน]|                null|1.ซอยราษฎร์นิมิตร...|147 ซอย ราษฎร์นิม...|   สามวาตะวันออก|        คลองสามวา|       กรุงเทพมหานคร|2021-09-28 23:01:...|กำลังดำเนินการ|null|        null|2022-02-22 04:29:...|  100.73|    13.92|          147|\n",
            "|           [น้ำท่วม]|[เขตบางซื่อ, ฝ่าย...|             น้ำท่วม|12/14 ถนน กรุงเทพ...|            null|             null|       กรุงเทพมหานคร|2021-10-14 10:45:...|     เสร็จสิ้น|null|        null|2022-09-08 08:35:...|  100.53|    13.82|          329|\n",
            "|                  []|                null|            แสงสว่าง|5 ถนน รางน้ำ แขวง...|        ถนนพญาไท|          ราชเทวี|       กรุงเทพมหานคร|2021-11-07 05:39:...|กำลังดำเนินการ|null|        null|2022-02-22 04:29:...|  100.54|    13.76|          107|\n",
            "|[ท่อระบายน้ำ, ควา...|                null|มีฝาท่อระบายน้ำชำ...|19/31 ซอย เพชรเกษ...|         บางหว้า|        ภาษีเจริญ|       กรุงเทพมหานคร|2021-11-12 02:19:...|กำลังดำเนินการ|null|        null|2022-02-22 04:29:...|  100.45|    13.72|          102|\n",
            "|           [ทางเท้า]|                null|             ทางเท้า|542/26 ถนน เพชรบุ...|        ถนนพญาไท|          ราชเทวี|       กรุงเทพมหานคร|2021-11-14 10:21:...|กำลังดำเนินการ|null|        null|2022-02-22 04:29:...|  100.54|    13.75|          100|\n",
            "|           [ทางเท้า]|                null|             ทางเท้า|326 ถนน พลับพลาไช...|        ป้อมปราบ|ป้อมปราบศัตรูพ่าย|       กรุงเทพมหานคร|2021-11-16 04:16:...|กำลังดำเนินการ|null|        null|2022-02-22 04:29:...|  100.51|    13.74|           98|\n",
            "|                  []|                null|ขอร่วมเป็นพลังทำใ...|206/52 ถนน เพชรเก...|ปากคลองภาษีเจริญ|        ภาษีเจริญ|       กรุงเทพมหานคร|2021-11-23 02:03:...|กำลังดำเนินการ|null|        null|2022-02-22 04:29:...|  100.46|    13.72|           91|\n",
            "|   [คลอง, ความสะอาด]|                null|มีผู้นำขยะมาแยกแล...|17/1 ซอย อ่อนนุช ...|         สวนหลวง|          สวนหลวง|       กรุงเทพมหานคร|2021-11-25 03:43:...|กำลังดำเนินการ|null|        null|2022-02-22 04:29:...|  100.65|    13.71|           89|\n",
            "|                  []|                null|แจ้งตัวเงินตัวทอง...|59/21 ซอย วัดกัลย...|      วัดกัลยาณ์|           ธนบุรี|       กรุงเทพมหานคร|2021-11-25 09:16:...|กำลังดำเนินการ|null|        null|2022-02-22 04:29:...|  100.49|    13.74|           89|\n",
            "+--------------------+--------------------+--------------------+--------------------+----------------+-----------------+--------------------+--------------------+--------------+----+------------+--------------------+--------+---------+-------------+\n",
            "only showing top 20 rows\n",
            "\n"
          ]
        }
      ],
      "source": [
        "from pyspark.sql.functions import datediff\n",
        "\n",
        "# calculate date_to_state\n",
        "df = df.withColumn(\"date_to_state\", datediff(col(\"last_activity\"), col(\"timestamp\")))\n",
        "df.show()"
      ]
    },
    {
      "cell_type": "markdown",
      "metadata": {
        "id": "OGTi-NOVwghg"
      },
      "source": [
        "## (Run everything before this, after this is optional)"
      ]
    },
    {
      "cell_type": "markdown",
      "metadata": {
        "id": "rogCMq1uXAZn"
      },
      "source": [
        "## Visualization Start here"
      ]
    },
    {
      "cell_type": "code",
      "source": [
        "df.printSchema()"
      ],
      "metadata": {
        "colab": {
          "base_uri": "https://localhost:8080/"
        },
        "id": "w4STk89sv1k8",
        "outputId": "4df6d6f9-a259-4d82-c93a-402d49389f1c"
      },
      "execution_count": 43,
      "outputs": [
        {
          "output_type": "stream",
          "name": "stdout",
          "text": [
            "root\n",
            " |-- type: array (nullable = true)\n",
            " |    |-- element: string (containsNull = false)\n",
            " |-- organization: array (nullable = true)\n",
            " |    |-- element: string (containsNull = false)\n",
            " |-- comment: string (nullable = true)\n",
            " |-- address: string (nullable = true)\n",
            " |-- subdistrict: string (nullable = true)\n",
            " |-- district: string (nullable = true)\n",
            " |-- province: string (nullable = true)\n",
            " |-- timestamp: timestamp (nullable = true)\n",
            " |-- state: string (nullable = true)\n",
            " |-- star: integer (nullable = true)\n",
            " |-- count_reopen: integer (nullable = true)\n",
            " |-- last_activity: timestamp (nullable = true)\n",
            " |-- latitude: double (nullable = true)\n",
            " |-- longitude: double (nullable = true)\n",
            " |-- date_to_state: integer (nullable = true)\n",
            "\n"
          ]
        }
      ]
    },
    {
      "cell_type": "code",
      "source": [
        "from pyspark.sql.functions import explode\n",
        "\n",
        "df_vis = df.select(explode('type').alias('type_exploded'), \"*\").drop('type','organization','comment')\n",
        "df_vis.show()\n",
        "\n",
        "df_vis.write.option(\"header\", \"true\").csv(path=\"/content/spark_output/vis\")"
      ],
      "metadata": {
        "colab": {
          "base_uri": "https://localhost:8080/"
        },
        "id": "G3sLPtOvt3fq",
        "outputId": "2db65b8c-f613-4b11-b823-ded731429c11"
      },
      "execution_count": 44,
      "outputs": [
        {
          "output_type": "stream",
          "name": "stdout",
          "text": [
            "+-------------+--------------------+--------------+---------+--------------------+--------------------+--------------+----+------------+--------------------+--------+---------+-------------+\n",
            "|type_exploded|             address|   subdistrict| district|            province|           timestamp|         state|star|count_reopen|       last_activity|latitude|longitude|date_to_state|\n",
            "+-------------+--------------------+--------------+---------+--------------------+--------------------+--------------+----+------------+--------------------+--------+---------+-------------+\n",
            "|             |1867 จรัญสนิทวงศ์...|       บางพลัด|  บางพลัด|       กรุงเทพมหานคร|2021-09-01 10:44:...|กำลังดำเนินการ|null|        null|2022-02-22 04:59:...|  100.49|    13.79|          174|\n",
            "|    ความสะอาด|12/14 ถนน กรุงเทพ...|          null|     null|       กรุงเทพมหานคร|2021-09-03 12:51:...|     เสร็จสิ้น|null|        null|2022-06-04 15:34:...|  100.53|    13.82|          274|\n",
            "|        สายไฟ|335/31 ลาดพร้าว แ...|     สามเสนนอก| ห้วยขวาง|จังหวัดกรุงเทพมหานคร|2021-09-19 06:47:...|กำลังดำเนินการ|null|        null|2022-02-22 04:30:...|  100.58|     13.8|          156|\n",
            "|          ถนน|37 10 ซอย สีลม 9 ...|          สีลม|   บางรัก|       กรุงเทพมหานคร|2021-09-19 07:40:...|กำลังดำเนินการ|null|        null|2022-02-22 04:30:...|  100.53|    13.72|          156|\n",
            "|        สะพาน|37 10 ซอย สีลม 9 ...|          สีลม|   บางรัก|       กรุงเทพมหานคร|2021-09-19 07:40:...|กำลังดำเนินการ|null|        null|2022-02-22 04:30:...|  100.53|    13.72|          156|\n",
            "|      น้ำท่วม|189 เฉลิมพระเกียร...|       หนองบอน|   ประเวศ|       กรุงเทพมหานคร|2021-09-19 14:56:...|     เสร็จสิ้น|   4|        null|2022-06-21 08:21:...|  100.67|    13.68|          275|\n",
            "|    ร้องเรียน|189 เฉลิมพระเกียร...|       หนองบอน|   ประเวศ|       กรุงเทพมหานคร|2021-09-19 14:56:...|     เสร็จสิ้น|   4|        null|2022-06-21 08:21:...|  100.67|    13.68|          275|\n",
            "|          ถนน|3/8 ขุมทอง-ลำต้อย...|        ขุมทอง|ลาดกระบัง|       กรุงเทพมหานคร|2021-09-20 00:24:...|กำลังดำเนินการ|null|        null|2022-02-22 04:29:...|  100.86|    13.73|          155|\n",
            "|    ร้องเรียน|3/8 ขุมทอง-ลำต้อย...|        ขุมทอง|ลาดกระบัง|       กรุงเทพมหานคร|2021-09-20 00:24:...|กำลังดำเนินการ|null|        null|2022-02-22 04:29:...|  100.86|    13.73|          155|\n",
            "|      น้ำท่วม|3/8 ขุมทอง-ลำต้อย...|        ขุมทอง|ลาดกระบัง|       กรุงเทพมหานคร|2021-09-20 00:24:...|กำลังดำเนินการ|null|        null|2022-02-22 04:29:...|  100.86|    13.73|          155|\n",
            "|  ความปลอดภัย|3/8 ขุมทอง-ลำต้อย...|        ขุมทอง|ลาดกระบัง|       กรุงเทพมหานคร|2021-09-20 00:24:...|กำลังดำเนินการ|null|        null|2022-02-22 04:29:...|  100.86|    13.73|          155|\n",
            "|         คลอง|50 พระราม ที่ 9 แ...|       สวนหลวง|  สวนหลวง|       กรุงเทพมหานคร|2021-09-21 05:22:...|กำลังดำเนินการ|null|        null|2022-02-22 04:29:...|  100.62|    13.74|          154|\n",
            "|          ถนน|3 ถนน พัฒนาชนบท 3...|คลองสองต้นนุ่น|ลาดกระบัง|       กรุงเทพมหานคร|2021-09-22 05:06:...|กำลังดำเนินการ|null|        null|2022-02-22 04:29:...|  100.72|    13.74|          153|\n",
            "|      น้ำท่วม|3 ถนน พัฒนาชนบท 3...|คลองสองต้นนุ่น|ลาดกระบัง|       กรุงเทพมหานคร|2021-09-22 05:06:...|กำลังดำเนินการ|null|        null|2022-02-22 04:29:...|  100.72|    13.74|          153|\n",
            "|    ร้องเรียน|95 ซอย 12 มีนบุรี...|       มีนบุรี|  มีนบุรี|       กรุงเทพมหานคร|2021-09-23 06:25:...|กำลังดำเนินการ|null|        null|2022-02-22 04:29:...|  100.72|    13.79|          152|\n",
            "|          ถนน|95 ซอย 12 มีนบุรี...|       มีนบุรี|  มีนบุรี|       กรุงเทพมหานคร|2021-09-23 06:25:...|กำลังดำเนินการ|null|        null|2022-02-22 04:29:...|  100.72|    13.79|          152|\n",
            "|      น้ำท่วม|95 ซอย 12 มีนบุรี...|       มีนบุรี|  มีนบุรี|       กรุงเทพมหานคร|2021-09-23 06:25:...|กำลังดำเนินการ|null|        null|2022-02-22 04:29:...|  100.72|    13.79|          152|\n",
            "|             |1 ถนน จรัญสนิทวงศ...|        บางอ้อ|  บางพลัด|       กรุงเทพมหานคร|2021-09-24 04:15:...|กำลังดำเนินการ|null|        null|2022-02-22 04:29:...|  100.51|     13.8|          151|\n",
            "|        สะพาน|191/1 ถนน สาทรเหน...|       ยานนาวา|     สาทร|       กรุงเทพมหานคร|2021-09-26 05:03:...|     เสร็จสิ้น|null|        null|2022-06-06 01:17:...|  100.53|    13.72|          253|\n",
            "|          ถนน|147 ซอย ราษฎร์นิม...| สามวาตะวันออก|คลองสามวา|       กรุงเทพมหานคร|2021-09-28 23:01:...|กำลังดำเนินการ|null|        null|2022-02-22 04:29:...|  100.73|    13.92|          147|\n",
            "+-------------+--------------------+--------------+---------+--------------------+--------------------+--------------+----+------------+--------------------+--------+---------+-------------+\n",
            "only showing top 20 rows\n",
            "\n"
          ]
        }
      ]
    },
    {
      "cell_type": "markdown",
      "metadata": {
        "id": "E8P61ry0a7Vs"
      },
      "source": [
        "## Focus on state"
      ]
    },
    {
      "cell_type": "code",
      "execution_count": 45,
      "metadata": {
        "id": "LUvDmcZ4aIey",
        "colab": {
          "base_uri": "https://localhost:8080/"
        },
        "outputId": "5e2b6269-86cf-43ed-bc86-12f6780a1a3c"
      },
      "outputs": [
        {
          "output_type": "stream",
          "name": "stdout",
          "text": [
            "+--------------+------+\n",
            "|         state| count|\n",
            "+--------------+------+\n",
            "|   รอรับเรื่อง| 18501|\n",
            "|กำลังดำเนินการ| 49431|\n",
            "|     เสร็จสิ้น|202367|\n",
            "+--------------+------+\n",
            "\n"
          ]
        }
      ],
      "source": [
        "df_state_1 = df.groupby('state').count()\n",
        "df_state_1.show()"
      ]
    },
    {
      "cell_type": "code",
      "execution_count": 46,
      "metadata": {
        "id": "cy4Cpn9Khb2S"
      },
      "outputs": [],
      "source": [
        "df_state_1.write.option(\"header\", \"true\").csv(path=\"/content/spark_output/state_1\")"
      ]
    },
    {
      "cell_type": "code",
      "execution_count": 47,
      "metadata": {
        "id": "YRwvwiQubN6M",
        "colab": {
          "base_uri": "https://localhost:8080/"
        },
        "outputId": "c17d2c92-2268-4699-afcc-1ad644f8d970"
      },
      "outputs": [
        {
          "output_type": "stream",
          "name": "stdout",
          "text": [
            "+--------------+-----------------+------------------+-----------------+\n",
            "|state         |min_date_to_state|avg_date_to_state |max_date_to_state|\n",
            "+--------------+-----------------+------------------+-----------------+\n",
            "|รอรับเรื่อง   |0                |11.590508621155614|336              |\n",
            "|กำลังดำเนินการ|0                |85.57648034634137 |491              |\n",
            "|เสร็จสิ้น     |0                |43.693438159383696|464              |\n",
            "+--------------+-----------------+------------------+-----------------+\n",
            "\n"
          ]
        }
      ],
      "source": [
        "from pyspark.sql.functions import min, avg, max\n",
        "\n",
        "df_state_2 = df.groupby('state').agg(min('date_to_state').alias('min_date_to_state'),\n",
        "                         avg('date_to_state').alias('avg_date_to_state'),\n",
        "                         max('date_to_state').alias('max_date_to_state'))\n",
        "df_state_2.show(20, False)"
      ]
    },
    {
      "cell_type": "code",
      "execution_count": 48,
      "metadata": {
        "id": "qr3evPfBkf2Z"
      },
      "outputs": [],
      "source": [
        "df_state_2.write.option(\"header\", \"true\").csv(path=\"/content/spark_output/state_2\")"
      ]
    },
    {
      "cell_type": "code",
      "execution_count": 49,
      "metadata": {
        "id": "CGtE9teVhcRk",
        "colab": {
          "base_uri": "https://localhost:8080/"
        },
        "outputId": "cb8b90ae-fd76-4cbc-f79d-208870d4f4e4"
      },
      "outputs": [
        {
          "output_type": "stream",
          "name": "stdout",
          "text": [
            "+----+-----+-----+\n",
            "|year|month|count|\n",
            "+----+-----+-----+\n",
            "|2021|    9|   12|\n",
            "|2021|   10|    1|\n",
            "|2021|   11|    7|\n",
            "|2021|   12|  162|\n",
            "|2022|    1|  160|\n",
            "|2022|    2|  172|\n",
            "|2022|    3|  108|\n",
            "|2022|    4|   24|\n",
            "|2022|    5| 2214|\n",
            "|2022|    6|61602|\n",
            "|2022|    7|40821|\n",
            "|2022|    8|26959|\n",
            "|2022|    9|22306|\n",
            "|2022|   10|13504|\n",
            "|2022|   11|11471|\n",
            "|2022|   12|11371|\n",
            "|2023|    1|18572|\n",
            "|2023|    2|18559|\n",
            "|2023|    3|18193|\n",
            "|2023|    4|17588|\n",
            "+----+-----+-----+\n",
            "only showing top 20 rows\n",
            "\n"
          ]
        }
      ],
      "source": [
        "from pyspark.sql.functions import year, month\n",
        "\n",
        "df_state_3 = df.groupBy(year('timestamp').alias('year'), month('timestamp').alias('month')).count().orderBy('year', 'month')\n",
        "df_state_3.show()"
      ]
    },
    {
      "cell_type": "code",
      "execution_count": 50,
      "metadata": {
        "id": "4GRa0iQlktQE"
      },
      "outputs": [],
      "source": [
        "df_state_3.write.option(\"header\", \"true\").csv(path=\"/content/spark_output/state_3\")"
      ]
    },
    {
      "cell_type": "code",
      "execution_count": 51,
      "metadata": {
        "id": "N5SnidwOh0nC",
        "colab": {
          "base_uri": "https://localhost:8080/"
        },
        "outputId": "8d47b050-ccdb-44da-8dd5-b35304e79a82"
      },
      "outputs": [
        {
          "output_type": "stream",
          "name": "stdout",
          "text": [
            "+----+-----+--------------+---------+-----------------+------------------+-----------------+\n",
            "|year|month|state         |row_count|min_date_to_state|avg_date_to_state |max_date_to_state|\n",
            "+----+-----+--------------+---------+-----------------+------------------+-----------------+\n",
            "|2021|9    |กำลังดำเนินการ|9        |147              |155.33333333333334|174              |\n",
            "|2021|11   |กำลังดำเนินการ|7        |89               |96.57142857142857 |107              |\n",
            "|2021|12   |กำลังดำเนินการ|154      |54               |72.57792207792208 |491              |\n",
            "|2022|1    |กำลังดำเนินการ|141      |1                |40.94326241134752 |436              |\n",
            "|2022|2    |กำลังดำเนินการ|135      |0                |19.637037037037036|34               |\n",
            "|2022|3    |กำลังดำเนินการ|56       |0                |7.910714285714286 |14               |\n",
            "|2022|4    |กำลังดำเนินการ|3        |0                |0.0               |0                |\n",
            "|2022|5    |กำลังดำเนินการ|300      |0                |189.08666666666667|346              |\n",
            "|2022|6    |กำลังดำเนินการ|10050    |0                |171.91771144278607|344              |\n",
            "|2022|7    |กำลังดำเนินการ|6378     |0                |152.61602383192223|314              |\n",
            "|2022|8    |กำลังดำเนินการ|3721     |0                |127.17038430529428|280              |\n",
            "|2022|9    |กำลังดำเนินการ|2680     |0                |108.67276119402985|251              |\n",
            "|2022|10   |กำลังดำเนินการ|1814     |0                |92.31256890848952 |216              |\n",
            "|2022|11   |กำลังดำเนินการ|1675     |0                |77.09611940298508 |191              |\n",
            "|2022|12   |กำลังดำเนินการ|1930     |0                |59.17305699481865 |158              |\n",
            "|2023|1    |กำลังดำเนินการ|3349     |0                |33.534786503433864|130              |\n",
            "|2023|2    |กำลังดำเนินการ|4016     |0                |20.433764940239044|99               |\n",
            "|2023|3    |กำลังดำเนินการ|4317     |0                |11.68566133889275 |71               |\n",
            "|2023|4    |กำลังดำเนินการ|5562     |0                |4.575332614167565 |41               |\n",
            "|2023|5    |กำลังดำเนินการ|3134     |0                |1.4757498404594767|10               |\n",
            "|2022|2    |รอรับเรื่อง   |8        |0                |0.0               |0                |\n",
            "|2022|3    |รอรับเรื่อง   |34       |0                |1.6470588235294117|56               |\n",
            "|2022|4    |รอรับเรื่อง   |20       |0                |0.0               |0                |\n",
            "|2022|5    |รอรับเรื่อง   |123      |0                |13.544715447154472|303              |\n",
            "|2022|6    |รอรับเรื่อง   |1511     |0                |58.0              |336              |\n",
            "|2022|7    |รอรับเรื่อง   |2260     |0                |21.00796460176991 |311              |\n",
            "|2022|8    |รอรับเรื่อง   |1680     |0                |15.564285714285715|259              |\n",
            "|2022|9    |รอรับเรื่อง   |1511     |0                |9.44540039708802  |241              |\n",
            "|2022|10   |รอรับเรื่อง   |1090     |0                |7.377064220183486 |216              |\n",
            "|2022|11   |รอรับเรื่อง   |1164     |0                |6.591924398625429 |186              |\n",
            "|2022|12   |รอรับเรื่อง   |1120     |0                |5.74375           |157              |\n",
            "|2023|1    |รอรับเรื่อง   |1472     |0                |3.1345108695652173|118              |\n",
            "|2023|2    |รอรับเรื่อง   |1442     |0                |2.622746185852982 |94               |\n",
            "|2023|3    |รอรับเรื่อง   |1696     |0                |1.9127358490566038|68               |\n",
            "|2023|4    |รอรับเรื่อง   |1953     |0                |1.3230926779313876|40               |\n",
            "|2023|5    |รอรับเรื่อง   |1417     |0                |0.5695130557515878|10               |\n",
            "|2021|9    |เสร็จสิ้น     |3        |253              |267.3333333333333 |275              |\n",
            "|2021|10   |เสร็จสิ้น     |1        |329              |329.0             |329              |\n",
            "|2021|12   |เสร็จสิ้น     |8        |166              |235.75            |456              |\n",
            "|2022|1    |เสร็จสิ้น     |19       |29               |186.73684210526315|464              |\n",
            "|2022|2    |เสร็จสิ้น     |29       |0                |85.20689655172414 |434              |\n",
            "|2022|3    |เสร็จสิ้น     |18       |4                |84.55555555555556 |278              |\n",
            "|2022|4    |เสร็จสิ้น     |1        |6                |6.0               |6                |\n",
            "|2022|5    |เสร็จสิ้น     |1791     |0                |82.32049134561697 |346              |\n",
            "|2022|6    |เสร็จสิ้น     |50041    |0                |72.98057592773925 |343              |\n",
            "|2022|7    |เสร็จสิ้น     |32183    |0                |61.78821116738651 |313              |\n",
            "|2022|8    |เสร็จสิ้น     |21558    |0                |48.15859541701457 |283              |\n",
            "|2022|9    |เสร็จสิ้น     |18115    |0                |39.79718465360199 |251              |\n",
            "|2022|10   |เสร็จสิ้น     |10600    |0                |31.815849056603774|220              |\n",
            "|2022|11   |เสร็จสิ้น     |8632     |0                |27.25023169601483 |188              |\n",
            "|2022|12   |เสร็จสิ้น     |8321     |0                |22.91227015983656 |161              |\n",
            "|2023|1    |เสร็จสิ้น     |13751    |0                |15.372991055195985|128              |\n",
            "|2023|2    |เสร็จสิ้น     |13101    |0                |10.895122509732081|98               |\n",
            "|2023|3    |เสร็จสิ้น     |12180    |0                |8.58128078817734  |71               |\n",
            "|2023|4    |เสร็จสิ้น     |10073    |0                |5.713690062543433 |40               |\n",
            "|2023|5    |เสร็จสิ้น     |1942     |0                |2.62615859938208  |11               |\n",
            "+----+-----+--------------+---------+-----------------+------------------+-----------------+\n",
            "\n"
          ]
        }
      ],
      "source": [
        "from pyspark.sql.functions import year, month, count\n",
        "\n",
        "df_state_4 = df.groupBy(year('timestamp').alias('year'), month('timestamp').alias('month'), 'state')\\\n",
        "  .agg(count('date_to_state').alias('row_count'),\n",
        "       min('date_to_state').alias('min_date_to_state'),\n",
        "       avg('date_to_state').alias('avg_date_to_state'),\n",
        "       max('date_to_state').alias('max_date_to_state'))\\\n",
        "  .orderBy('state','year', 'month')\n",
        "df_state_4.show(100, False)"
      ]
    },
    {
      "cell_type": "code",
      "execution_count": 52,
      "metadata": {
        "id": "OGZBHq10kzRK"
      },
      "outputs": [],
      "source": [
        "df_state_4.write.option(\"header\", \"true\").csv(path=\"/content/spark_output/state_4\")"
      ]
    },
    {
      "cell_type": "code",
      "execution_count": 53,
      "metadata": {
        "id": "nlkVCTbYkzhA",
        "colab": {
          "base_uri": "https://localhost:8080/"
        },
        "outputId": "b0f4283c-755a-4162-f962-0281610cc3a0"
      },
      "outputs": [
        {
          "output_type": "stream",
          "name": "stdout",
          "text": [
            "+----+-----+--------------+---------+-----------+--------------------+\n",
            "|year|month|state         |row_count|total_count|state_ratio         |\n",
            "+----+-----+--------------+---------+-----------+--------------------+\n",
            "|2021|9    |กำลังดำเนินการ|9        |12         |0.75                |\n",
            "|2021|9    |เสร็จสิ้น     |3        |12         |0.25                |\n",
            "|2021|10   |เสร็จสิ้น     |1        |1          |1.0                 |\n",
            "|2021|11   |กำลังดำเนินการ|7        |7          |1.0                 |\n",
            "|2021|12   |กำลังดำเนินการ|154      |162        |0.9506172839506173  |\n",
            "|2021|12   |เสร็จสิ้น     |8        |162        |0.04938271604938271 |\n",
            "|2022|1    |กำลังดำเนินการ|141      |160        |0.88125             |\n",
            "|2022|1    |เสร็จสิ้น     |19       |160        |0.11875             |\n",
            "|2022|2    |กำลังดำเนินการ|135      |172        |0.7848837209302325  |\n",
            "|2022|2    |รอรับเรื่อง   |8        |172        |0.046511627906976744|\n",
            "|2022|2    |เสร็จสิ้น     |29       |172        |0.1686046511627907  |\n",
            "|2022|3    |กำลังดำเนินการ|56       |108        |0.5185185185185185  |\n",
            "|2022|3    |รอรับเรื่อง   |34       |108        |0.3148148148148148  |\n",
            "|2022|3    |เสร็จสิ้น     |18       |108        |0.16666666666666666 |\n",
            "|2022|4    |กำลังดำเนินการ|3        |24         |0.125               |\n",
            "|2022|4    |รอรับเรื่อง   |20       |24         |0.8333333333333334  |\n",
            "|2022|4    |เสร็จสิ้น     |1        |24         |0.041666666666666664|\n",
            "|2022|5    |กำลังดำเนินการ|300      |2214       |0.13550135501355012 |\n",
            "|2022|5    |รอรับเรื่อง   |123      |2214       |0.05555555555555555 |\n",
            "|2022|5    |เสร็จสิ้น     |1791     |2214       |0.8089430894308943  |\n",
            "|2022|6    |กำลังดำเนินการ|10050    |61602      |0.16314405376448818 |\n",
            "|2022|6    |รอรับเรื่อง   |1511     |61602      |0.024528424401805138|\n",
            "|2022|6    |เสร็จสิ้น     |50041    |61602      |0.8123275218337067  |\n",
            "|2022|7    |กำลังดำเนินการ|6378     |40821      |0.15624311016388623 |\n",
            "|2022|7    |รอรับเรื่อง   |2260     |40821      |0.055363660860831436|\n",
            "|2022|7    |เสร็จสิ้น     |32183    |40821      |0.7883932289752823  |\n",
            "|2022|8    |กำลังดำเนินการ|3721     |26959      |0.13802440743351013 |\n",
            "|2022|8    |รอรับเรื่อง   |1680     |26959      |0.06231685151526392 |\n",
            "|2022|8    |เสร็จสิ้น     |21558    |26959      |0.7996587410512259  |\n",
            "|2022|9    |กำลังดำเนินการ|2680     |22306      |0.12014704563794494 |\n",
            "|2022|9    |รอรับเรื่อง   |1511     |22306      |0.06773962162646821 |\n",
            "|2022|9    |เสร็จสิ้น     |18115    |22306      |0.8121133327355868  |\n",
            "|2022|10   |กำลังดำเนินการ|1814     |13504      |0.13433056872037916 |\n",
            "|2022|10   |รอรับเรื่อง   |1090     |13504      |0.08071682464454977 |\n",
            "|2022|10   |เสร็จสิ้น     |10600    |13504      |0.784952606635071   |\n",
            "|2022|11   |กำลังดำเนินการ|1675     |11471      |0.1460203992677186  |\n",
            "|2022|11   |รอรับเรื่อง   |1164     |11471      |0.10147328044634295 |\n",
            "|2022|11   |เสร็จสิ้น     |8632     |11471      |0.7525063202859384  |\n",
            "|2022|12   |กำลังดำเนินการ|1930     |11371      |0.1697300149503122  |\n",
            "|2022|12   |รอรับเรื่อง   |1120     |11371      |0.09849617447893765 |\n",
            "|2022|12   |เสร็จสิ้น     |8321     |11371      |0.7317738105707502  |\n",
            "|2023|1    |กำลังดำเนินการ|3349     |18572      |0.18032522076243807 |\n",
            "|2023|1    |รอรับเรื่อง   |1472     |18572      |0.07925909972000862 |\n",
            "|2023|1    |เสร็จสิ้น     |13751    |18572      |0.7404156795175533  |\n",
            "|2023|2    |กำลังดำเนินการ|4016     |18559      |0.21639096934102053 |\n",
            "|2023|2    |รอรับเรื่อง   |1442     |18559      |0.07769815184007758 |\n",
            "|2023|2    |เสร็จสิ้น     |13101    |18559      |0.7059108788189019  |\n",
            "|2023|3    |กำลังดำเนินการ|4317     |18193      |0.23728906722365745 |\n",
            "|2023|3    |รอรับเรื่อง   |1696     |18193      |0.09322266805914363 |\n",
            "|2023|3    |เสร็จสิ้น     |12180    |18193      |0.6694882647171989  |\n",
            "|2023|4    |กำลังดำเนินการ|5562     |17588      |0.3162383443256766  |\n",
            "|2023|4    |รอรับเรื่อง   |1953     |17588      |0.11104161928587673 |\n",
            "|2023|4    |เสร็จสิ้น     |10073    |17588      |0.5727200363884467  |\n",
            "|2023|5    |กำลังดำเนินการ|3134     |6493       |0.4826736485445865  |\n",
            "|2023|5    |รอรับเรื่อง   |1417     |6493       |0.21823502233174188 |\n",
            "|2023|5    |เสร็จสิ้น     |1942     |6493       |0.29909132912367165 |\n",
            "+----+-----+--------------+---------+-----------+--------------------+\n",
            "\n"
          ]
        }
      ],
      "source": [
        "from pyspark.sql.functions import year, month, count, sum, col\n",
        "\n",
        "df_count = df.groupBy(year('timestamp').alias('year'), month('timestamp').alias('month'), 'state') \\\n",
        "             .agg(count('date_to_state').alias('row_count'))\n",
        "\n",
        "df_total_count = df_count.groupBy('year', 'month') \\\n",
        "                         .agg(sum('row_count').alias('total_count'))\n",
        "\n",
        "df_ratio = df_count.join(df_total_count, ['year', 'month']) \\\n",
        "                   .withColumn('state_ratio', col('row_count') / col('total_count')) \\\n",
        "                   \n",
        "\n",
        "df_state_5 = df_ratio.orderBy('year', 'month','state')\n",
        "df_state_5.show(100, False)"
      ]
    },
    {
      "cell_type": "code",
      "execution_count": 54,
      "metadata": {
        "id": "Y1qevqNVlCXg"
      },
      "outputs": [],
      "source": [
        "df_state_5.write.option(\"header\", \"true\").csv(path=\"/content/spark_output/state_5\")"
      ]
    },
    {
      "cell_type": "code",
      "execution_count": 55,
      "metadata": {
        "id": "OtGx1Lh9oE45",
        "colab": {
          "base_uri": "https://localhost:8080/"
        },
        "outputId": "09b3fc87-f578-4b42-c252-330064f72e44"
      },
      "outputs": [
        {
          "output_type": "stream",
          "name": "stdout",
          "text": [
            "+----+-----+--------------+---------+-----------+--------------------+\n",
            "|year|month|state         |row_count|total_count|state_ratio         |\n",
            "+----+-----+--------------+---------+-----------+--------------------+\n",
            "|2021|9    |กำลังดำเนินการ|9        |12         |0.75                |\n",
            "|2021|11   |กำลังดำเนินการ|7        |7          |1.0                 |\n",
            "|2021|12   |กำลังดำเนินการ|154      |162        |0.9506172839506173  |\n",
            "|2022|1    |กำลังดำเนินการ|141      |160        |0.88125             |\n",
            "|2022|2    |กำลังดำเนินการ|135      |172        |0.7848837209302325  |\n",
            "|2022|3    |กำลังดำเนินการ|56       |108        |0.5185185185185185  |\n",
            "|2022|4    |กำลังดำเนินการ|3        |24         |0.125               |\n",
            "|2022|5    |กำลังดำเนินการ|300      |2214       |0.13550135501355012 |\n",
            "|2022|6    |กำลังดำเนินการ|10050    |61602      |0.16314405376448818 |\n",
            "|2022|7    |กำลังดำเนินการ|6378     |40821      |0.15624311016388623 |\n",
            "|2022|8    |กำลังดำเนินการ|3721     |26959      |0.13802440743351013 |\n",
            "|2022|9    |กำลังดำเนินการ|2680     |22306      |0.12014704563794494 |\n",
            "|2022|10   |กำลังดำเนินการ|1814     |13504      |0.13433056872037916 |\n",
            "|2022|11   |กำลังดำเนินการ|1675     |11471      |0.1460203992677186  |\n",
            "|2022|12   |กำลังดำเนินการ|1930     |11371      |0.1697300149503122  |\n",
            "|2023|1    |กำลังดำเนินการ|3349     |18572      |0.18032522076243807 |\n",
            "|2023|2    |กำลังดำเนินการ|4016     |18559      |0.21639096934102053 |\n",
            "|2023|3    |กำลังดำเนินการ|4317     |18193      |0.23728906722365745 |\n",
            "|2023|4    |กำลังดำเนินการ|5562     |17588      |0.3162383443256766  |\n",
            "|2023|5    |กำลังดำเนินการ|3134     |6493       |0.4826736485445865  |\n",
            "|2022|2    |รอรับเรื่อง   |8        |172        |0.046511627906976744|\n",
            "|2022|3    |รอรับเรื่อง   |34       |108        |0.3148148148148148  |\n",
            "|2022|4    |รอรับเรื่อง   |20       |24         |0.8333333333333334  |\n",
            "|2022|5    |รอรับเรื่อง   |123      |2214       |0.05555555555555555 |\n",
            "|2022|6    |รอรับเรื่อง   |1511     |61602      |0.024528424401805138|\n",
            "|2022|7    |รอรับเรื่อง   |2260     |40821      |0.055363660860831436|\n",
            "|2022|8    |รอรับเรื่อง   |1680     |26959      |0.06231685151526392 |\n",
            "|2022|9    |รอรับเรื่อง   |1511     |22306      |0.06773962162646821 |\n",
            "|2022|10   |รอรับเรื่อง   |1090     |13504      |0.08071682464454977 |\n",
            "|2022|11   |รอรับเรื่อง   |1164     |11471      |0.10147328044634295 |\n",
            "|2022|12   |รอรับเรื่อง   |1120     |11371      |0.09849617447893765 |\n",
            "|2023|1    |รอรับเรื่อง   |1472     |18572      |0.07925909972000862 |\n",
            "|2023|2    |รอรับเรื่อง   |1442     |18559      |0.07769815184007758 |\n",
            "|2023|3    |รอรับเรื่อง   |1696     |18193      |0.09322266805914363 |\n",
            "|2023|4    |รอรับเรื่อง   |1953     |17588      |0.11104161928587673 |\n",
            "|2023|5    |รอรับเรื่อง   |1417     |6493       |0.21823502233174188 |\n",
            "|2021|9    |เสร็จสิ้น     |3        |12         |0.25                |\n",
            "|2021|10   |เสร็จสิ้น     |1        |1          |1.0                 |\n",
            "|2021|12   |เสร็จสิ้น     |8        |162        |0.04938271604938271 |\n",
            "|2022|1    |เสร็จสิ้น     |19       |160        |0.11875             |\n",
            "|2022|2    |เสร็จสิ้น     |29       |172        |0.1686046511627907  |\n",
            "|2022|3    |เสร็จสิ้น     |18       |108        |0.16666666666666666 |\n",
            "|2022|4    |เสร็จสิ้น     |1        |24         |0.041666666666666664|\n",
            "|2022|5    |เสร็จสิ้น     |1791     |2214       |0.8089430894308943  |\n",
            "|2022|6    |เสร็จสิ้น     |50041    |61602      |0.8123275218337067  |\n",
            "|2022|7    |เสร็จสิ้น     |32183    |40821      |0.7883932289752823  |\n",
            "|2022|8    |เสร็จสิ้น     |21558    |26959      |0.7996587410512259  |\n",
            "|2022|9    |เสร็จสิ้น     |18115    |22306      |0.8121133327355868  |\n",
            "|2022|10   |เสร็จสิ้น     |10600    |13504      |0.784952606635071   |\n",
            "|2022|11   |เสร็จสิ้น     |8632     |11471      |0.7525063202859384  |\n",
            "|2022|12   |เสร็จสิ้น     |8321     |11371      |0.7317738105707502  |\n",
            "|2023|1    |เสร็จสิ้น     |13751    |18572      |0.7404156795175533  |\n",
            "|2023|2    |เสร็จสิ้น     |13101    |18559      |0.7059108788189019  |\n",
            "|2023|3    |เสร็จสิ้น     |12180    |18193      |0.6694882647171989  |\n",
            "|2023|4    |เสร็จสิ้น     |10073    |17588      |0.5727200363884467  |\n",
            "|2023|5    |เสร็จสิ้น     |1942     |6493       |0.29909132912367165 |\n",
            "+----+-----+--------------+---------+-----------+--------------------+\n",
            "\n"
          ]
        }
      ],
      "source": [
        "df_state_6 = df_ratio.orderBy('state','year', 'month')\n",
        "df_state_6.show(100, False)"
      ]
    },
    {
      "cell_type": "code",
      "execution_count": 56,
      "metadata": {
        "id": "BS2RcwsNlJhi"
      },
      "outputs": [],
      "source": [
        "df_state_6.write.option(\"header\", \"true\").csv(path=\"/content/spark_output/state_6\")"
      ]
    },
    {
      "cell_type": "markdown",
      "metadata": {
        "id": "-6XgqYoyr6J6"
      },
      "source": [
        "## Focus on type"
      ]
    },
    {
      "cell_type": "code",
      "execution_count": 57,
      "metadata": {
        "id": "UY7Stn4Noxz5",
        "colab": {
          "base_uri": "https://localhost:8080/"
        },
        "outputId": "bb1721dd-5927-49e3-d31c-a9d1f3091f4b"
      },
      "outputs": [
        {
          "output_type": "stream",
          "name": "stdout",
          "text": [
            "+-------------+--------------+---------+-----------------+------------------+-----------------+\n",
            "|type_exploded|state         |row_count|min_date_to_state|avg_date_to_state |max_date_to_state|\n",
            "+-------------+--------------+---------+-----------------+------------------+-----------------+\n",
            "|             |รอรับเรื่อง   |4414     |0                |12.421159945627549|330              |\n",
            "|             |กำลังดำเนินการ|8608     |0                |109.98013475836431|491              |\n",
            "|             |เสร็จสิ้น     |49221    |0                |47.833485707320044|456              |\n",
            "|PM2.5        |เสร็จสิ้น     |848      |0                |9.441037735849056 |96               |\n",
            "|PM2.5        |กำลังดำเนินการ|227      |0                |7.488986784140969 |81               |\n",
            "|PM2.5        |รอรับเรื่อง   |56       |0                |2.125             |27               |\n",
            "|การเดินทาง   |รอรับเรื่อง   |84       |0                |3.6785714285714284|156              |\n",
            "|การเดินทาง   |กำลังดำเนินการ|154      |0                |75.75974025974025 |286              |\n",
            "|การเดินทาง   |เสร็จสิ้น     |300      |0                |37.79666666666667 |301              |\n",
            "|กีดขวาง      |กำลังดำเนินการ|1419     |0                |52.29245947850599 |343              |\n",
            "|กีดขวาง      |รอรับเรื่อง   |1807     |0                |5.698948533480908 |324              |\n",
            "|กีดขวาง      |เสร็จสิ้น     |12463    |0                |25.20909893284121 |328              |\n",
            "|คนจรจัด      |เสร็จสิ้น     |782      |0                |15.801790281329923|265              |\n",
            "|คนจรจัด      |กำลังดำเนินการ|90       |0                |40.62222222222222 |276              |\n",
            "|คนจรจัด      |รอรับเรื่อง   |95       |0                |2.6210526315789475|99               |\n",
            "|คลอง         |รอรับเรื่อง   |343      |0                |10.434402332361516|292              |\n",
            "|คลอง         |กำลังดำเนินการ|1521     |0                |52.30966469428008 |338              |\n",
            "|คลอง         |เสร็จสิ้น     |6791     |0                |42.706670593432484|341              |\n",
            "|ความปลอดภัย  |กำลังดำเนินการ|5581     |0                |78.41300842142985 |436              |\n",
            "|ความปลอดภัย  |รอรับเรื่อง   |1942     |0                |11.2605561277034  |317              |\n",
            "|ความปลอดภัย  |เสร็จสิ้น     |13077    |0                |47.45981494226505 |341              |\n",
            "|ความสะอาด    |กำลังดำเนินการ|1241     |0                |32.05560032232071 |328              |\n",
            "|ความสะอาด    |เสร็จสิ้น     |18276    |0                |27.6913985554826  |322              |\n",
            "|ความสะอาด    |รอรับเรื่อง   |381      |0                |7.687664041994751 |259              |\n",
            "|จราจร        |รอรับเรื่อง   |2236     |0                |6.040250447227192 |311              |\n",
            "|จราจร        |เสร็จสิ้น     |8283     |0                |33.44138597126645 |335              |\n",
            "|จราจร        |กำลังดำเนินการ|1829     |0                |83.4794969928923  |344              |\n",
            "|ต้นไม้       |กำลังดำเนินการ|935      |0                |57.319786096256685|339              |\n",
            "|ต้นไม้       |รอรับเรื่อง   |213      |0                |20.492957746478872|263              |\n",
            "|ต้นไม้       |เสร็จสิ้น     |6949     |0                |38.60526694488416 |327              |\n",
            "|ถนน          |กำลังดำเนินการ|16873    |0                |73.11266520476501 |436              |\n",
            "|ถนน          |เสร็จสิ้น     |55220    |0                |43.26043100325969 |462              |\n",
            "|ถนน          |รอรับเรื่อง   |4768     |0                |10.373112416107382|315              |\n",
            "|ทางเท้า      |รอรับเรื่อง   |1283     |0                |11.155884645362432|321              |\n",
            "|ทางเท้า      |เสร็จสิ้น     |23726    |0                |43.88539998314086 |464              |\n",
            "|ทางเท้า      |กำลังดำเนินการ|6711     |0                |96.73476382059306 |344              |\n",
            "|ท่อระบายน้ำ  |รอรับเรื่อง   |374      |0                |27.788770053475936|315              |\n",
            "|ท่อระบายน้ำ  |เสร็จสิ้น     |10812    |0                |42.253144654088054|337              |\n",
            "|ท่อระบายน้ำ  |กำลังดำเนินการ|2759     |0                |69.40703153316419 |344              |\n",
            "|น้ำท่วม      |เสร็จสิ้น     |17096    |0                |42.00848151614413 |329              |\n",
            "|น้ำท่วม      |รอรับเรื่อง   |348      |0                |9.827586206896552 |259              |\n",
            "|น้ำท่วม      |กำลังดำเนินการ|1698     |0                |75.47349823321555 |343              |\n",
            "|ป้าย         |รอรับเรื่อง   |549      |0                |4.302367941712204 |186              |\n",
            "|ป้าย         |เสร็จสิ้น     |4789     |0                |11.435790352892043|195              |\n",
            "|ป้าย         |กำลังดำเนินการ|1202     |0                |19.92928452579035 |181              |\n",
            "|ป้ายจราจร    |รอรับเรื่อง   |24       |0                |1.875             |17               |\n",
            "|ป้ายจราจร    |กำลังดำเนินการ|48       |0                |13.625            |128              |\n",
            "|ป้ายจราจร    |เสร็จสิ้น     |187      |0                |20.44385026737968 |187              |\n",
            "|ร้องเรียน    |กำลังดำเนินการ|1846     |0                |13.02979414951246 |182              |\n",
            "|ร้องเรียน    |รอรับเรื่อง   |786      |0                |2.464376590330789 |119              |\n",
            "|ร้องเรียน    |เสร็จสิ้น     |4940     |0                |12.747570850202429|275              |\n",
            "|สอบถาม       |รอรับเรื่อง   |113      |0                |2.849557522123894 |93               |\n",
            "|สอบถาม       |เสร็จสิ้น     |827      |0                |13.107617896009673|181              |\n",
            "|สอบถาม       |กำลังดำเนินการ|254      |0                |13.098425196850394|134              |\n",
            "|สะพาน        |กำลังดำเนินการ|3469     |0                |99.59267800518882 |342              |\n",
            "|สะพาน        |รอรับเรื่อง   |1048     |0                |15.620229007633588|336              |\n",
            "|สะพาน        |เสร็จสิ้น     |7741     |0                |54.16522413124919 |434              |\n",
            "|สัตว์จรจัด   |รอรับเรื่อง   |557      |0                |1.8402154398563735|178              |\n",
            "|สัตว์จรจัด   |กำลังดำเนินการ|1046     |0                |38.618546845124285|305              |\n",
            "|สัตว์จรจัด   |เสร็จสิ้น     |2577     |0                |34.69499417927823 |284              |\n",
            "|สายไฟ        |รอรับเรื่อง   |2297     |0                |22.609055289508053|320              |\n",
            "|สายไฟ        |กำลังดำเนินการ|2807     |0                |112.8717491984325 |340              |\n",
            "|สายไฟ        |เสร็จสิ้น     |4537     |0                |55.98302843288516 |327              |\n",
            "|ห้องน้ำ      |เสร็จสิ้น     |197      |0                |14.314720812182742|159              |\n",
            "|ห้องน้ำ      |รอรับเรื่อง   |17       |0                |9.176470588235293 |119              |\n",
            "|ห้องน้ำ      |กำลังดำเนินการ|67       |0                |22.074626865671643|121              |\n",
            "|เสนอแนะ      |เสร็จสิ้น     |752      |0                |34.097074468085104|339              |\n",
            "|เสนอแนะ      |รอรับเรื่อง   |88       |0                |2.7045454545454546|62               |\n",
            "|เสนอแนะ      |กำลังดำเนินการ|174      |0                |46.310344827586206|326              |\n",
            "|เสียงรบกวน   |เสร็จสิ้น     |7011     |0                |27.970902866923407|321              |\n",
            "|เสียงรบกวน   |รอรับเรื่อง   |526      |0                |5.159695817490494 |257              |\n",
            "|เสียงรบกวน   |กำลังดำเนินการ|1313     |0                |30.011424219345013|319              |\n",
            "|แสงสว่าง     |กำลังดำเนินการ|9766     |0                |86.62830227319272 |341              |\n",
            "|แสงสว่าง     |เสร็จสิ้น     |11766    |0                |78.50977392486827 |336              |\n",
            "|แสงสว่าง     |รอรับเรื่อง   |1137     |0                |15.944591029023746|330              |\n",
            "+-------------+--------------+---------+-----------------+------------------+-----------------+\n",
            "\n"
          ]
        }
      ],
      "source": [
        "from pyspark.sql.functions import explode, size\n",
        "\n",
        "df_exploded = df.select(explode('type').alias('type_exploded'), 'state', 'date_to_state')\n",
        "\n",
        "df_grouped = df_exploded.groupBy('type_exploded', 'state') \\\n",
        "                        .agg(count('date_to_state').alias('row_count'),\n",
        "                             min('date_to_state').alias('min_date_to_state'),\n",
        "                             avg('date_to_state').alias('avg_date_to_state'),\n",
        "                             max('date_to_state').alias('max_date_to_state')) \\\n",
        "                        .orderBy('type_exploded')\n",
        "\n",
        "df_type_1 = df_grouped\n",
        "df_type_1.show(100, False)"
      ]
    },
    {
      "cell_type": "code",
      "execution_count": 58,
      "metadata": {
        "id": "yZfUx0WhlW8F"
      },
      "outputs": [],
      "source": [
        "df_type_1.write.option(\"header\", \"true\").csv(path=\"/content/spark_output/type_1\")"
      ]
    },
    {
      "cell_type": "markdown",
      "metadata": {
        "id": "2YsXaSBrssar"
      },
      "source": [
        "## Focus on organization"
      ]
    },
    {
      "cell_type": "code",
      "execution_count": 59,
      "metadata": {
        "id": "v_UZ_GlesCjd",
        "colab": {
          "base_uri": "https://localhost:8080/"
        },
        "outputId": "d391fb1e-94ec-4baa-d2a4-b66c9e4cc619"
      },
      "outputs": [
        {
          "output_type": "stream",
          "name": "stdout",
          "text": [
            "+-----------------------------------------------------+---------+---------+-----------------+------------------+-----------------+\n",
            "|organization_exploded                                |state    |row_count|min_date_to_state|avg_date_to_state |max_date_to_state|\n",
            "+-----------------------------------------------------+---------+---------+-----------------+------------------+-----------------+\n",
            "|กลุ่มกรุงเทพใต้ (นายชาตรี วัฒนเขจร)                  |เสร็จสิ้น|32475    |0                |68.27729022324866 |340              |\n",
            "|กลุ่มกรุงเทพตะวันออก (นายณรงค์ เรืองศรี)             |เสร็จสิ้น|32027    |0                |41.602772660567645|343              |\n",
            "|กลุ่มกรุงเทพเหนือ (นางวันทนีย์ วัฒนะ)                |เสร็จสิ้น|27202    |0                |56.427505330490405|335              |\n",
            "|กลุ่มกรุงเทพกลาง (นายสุขสันต์ กิตติศุภกร)            |เสร็จสิ้น|21876    |0                |38.814774181751694|346              |\n",
            "|สำนักการโยธา กทม.                                    |เสร็จสิ้น|19246    |0                |99.2743946794139  |464              |\n",
            "|กลุ่มกรุงธนใต้ (นายเฉลิมพล โชตินุชิต)                |เสร็จสิ้น|18863    |0                |20.788262736574247|346              |\n",
            "|สำนักงานตำรวจแห่งชาติ (Royal Thai Police)            |เสร็จสิ้น|16745    |0                |31.593968348760825|346              |\n",
            "|กองบัญชาการตำรวจนครบาล (บช.น.)                       |เสร็จสิ้น|16734    |0                |31.431337396916458|346              |\n",
            "|กลุ่มกรุงธนเหนือ (นายเฉลิมพล โชตินุชิต)              |เสร็จสิ้น|16215    |0                |50.40277520814061 |343              |\n",
            "|การไฟฟ้านครหลวง MEA                                  |เสร็จสิ้น|11501    |0                |99.30623424050083 |343              |\n",
            "|เขตจตุจักร                                           |เสร็จสิ้น|10064    |0                |93.30067567567568 |339              |\n",
            "|สำนักการจราจรและขนส่ง กรุงเทพมหานคร (สจส.)           |เสร็จสิ้น|9795     |0                |85.59979581419091 |462              |\n",
            "|เขตประเวศ                                            |เสร็จสิ้น|8823     |0                |27.61453020514564 |336              |\n",
            "|เขตบางแค                                             |เสร็จสิ้น|7848     |0                |19.80020387359837 |341              |\n",
            "|ผอ.เขตจตุจักร (นายพรเลิศ)                            |เสร็จสิ้น|7752     |0                |110.14138286893704|311              |\n",
            "|ผอ.เขตประเวศ (นายอนุชิต)                             |เสร็จสิ้น|7248     |0                |29.636451434878587|336              |\n",
            "|เขตบางเขน                                            |เสร็จสิ้น|6960     |0                |23.70948275862069 |328              |\n",
            "|เขตวัฒนา                                             |เสร็จสิ้น|6813     |0                |42.871715837369734|340              |\n",
            "|เขตลาดกระบัง                                         |เสร็จสิ้น|6642     |0                |35.351249623607345|334              |\n",
            "|เขตบางกะปิ                                           |เสร็จสิ้น|6615     |0                |40.167498110355254|342              |\n",
            "|เขตคลองเตย                                           |เสร็จสิ้น|6097     |0                |33.09348860095129 |343              |\n",
            "|ผอ.เขตบางแค (นายณรงค์)                               |เสร็จสิ้น|5822     |0                |16.63947097217451 |341              |\n",
            "|เขตสวนหลวง                                           |เสร็จสิ้น|5751     |0                |151.14432272648236|336              |\n",
            "|สำนักงานก่อสร้างและบูรณะ สำนักการโยธา (สกบ.สนย.) กทม.|เสร็จสิ้น|5545     |0                |128.9697024346258 |335              |\n",
            "|ผอ.เขตวัฒนา (น.ส.สุชิรา)                             |เสร็จสิ้น|5475     |0                |45.910502283105025|340              |\n",
            "|ผอ.เขตบางเขน (น.ส.พิศมัย)                            |เสร็จสิ้น|5431     |0                |22.803167004234947|328              |\n",
            "|ผอ.เขตลาดกระบัง (นายธนะสิทธิ์)                       |เสร็จสิ้น|5237     |0                |32.66813060912736 |328              |\n",
            "|เขตบางขุนเทียน                                       |เสร็จสิ้น|5162     |0                |21.023440526927548|329              |\n",
            "|ผอ.เขตบางกะปิ (นายไพรัตน์)                           |เสร็จสิ้น|5070     |0                |42.370808678500985|342              |\n",
            "|เขตบึงกุ่ม                                           |เสร็จสิ้น|4966     |0                |30.711236407571487|309              |\n",
            "|สำนักการระบายน้ำ กทม.                                |เสร็จสิ้น|4916     |0                |69.9953213995118  |343              |\n",
            "|ผอ.เขตสวนหลวง (นางสุภมาส)                            |เสร็จสิ้น|4731     |0                |173.48869160853943|336              |\n",
            "|เขตบางซื่อ                                           |เสร็จสิ้น|4721     |0                |44.35500953187884 |329              |\n",
            "|เขตปทุมวัน                                           |เสร็จสิ้น|4662     |0                |39.49141999141999 |331              |\n",
            "|ผอ.เขตคลองเตย (นางเบญญา)                             |เสร็จสิ้น|4601     |0                |30.748967615735708|323              |\n",
            "|เขตราชเทวี                                           |เสร็จสิ้น|4593     |0                |37.10624863923362 |321              |\n",
            "|ฝ่ายโยธา เขตประเวศ                                   |เสร็จสิ้น|4494     |0                |31.954606141522028|309              |\n",
            "|เขตดินแดง                                            |เสร็จสิ้น|4461     |0                |36.78681909885676 |337              |\n",
            "|เขตสาทร                                              |เสร็จสิ้น|4368     |0                |37.75915750915751 |464              |\n",
            "|เขตลาดพร้าว                                          |เสร็จสิ้น|4362     |0                |27.216185236130215|462              |\n",
            "|เขตบางกอกน้อย                                        |เสร็จสิ้น|4360     |0                |77.3032110091743  |343              |\n",
            "|เขตบางรัก                                            |เสร็จสิ้น|4311     |0                |131.02551612154951|338              |\n",
            "|เขตวังทองหลาง                                        |เสร็จสิ้น|4283     |0                |41.842400186784964|336              |\n",
            "|สำนักงานวิศวกรรมจราจร สวจ. สจส.                      |เสร็จสิ้น|4098     |0                |96.56417764763299 |462              |\n",
            "|ผอ.เขตบางขุนเทียน (นางภัสรา)                         |เสร็จสิ้น|4071     |0                |20.57749938590027 |294              |\n",
            "|เขตพญาไท                                             |เสร็จสิ้น|4051     |0                |39.111330535670206|334              |\n",
            "|เขตธนบุรี                                            |เสร็จสิ้น|4021     |0                |30.50534692862472 |336              |\n",
            "|เขตสายไหม                                            |เสร็จสิ้น|3910     |0                |39.16112531969309 |335              |\n",
            "|เขตบางนา                                             |เสร็จสิ้น|3884     |0                |40.42070030895984 |321              |\n",
            "|เขตคลองสามวา                                         |เสร็จสิ้น|3839     |0                |43.98072414691326 |334              |\n",
            "|ผอ.เขตบึงกุ่ม (นายนันทพงศ์)                          |เสร็จสิ้น|3812     |0                |32.05561385099685 |309              |\n",
            "|ผอ.เขตบางซื่อ (นายสรสิช)                             |เสร็จสิ้น|3788     |0                |50.910506863780356|325              |\n",
            "|เขตพระนคร                                            |เสร็จสิ้น|3755     |0                |30.919840213049266|329              |\n",
            "|สำนักสิ่งแวดล้อม กทม.                                |เสร็จสิ้น|3599     |0                |20.136426785218116|318              |\n",
            "|ผอ.เขตราชเทวี (นายณันทพงศ์)                          |เสร็จสิ้น|3558     |0                |36.94912872400225 |312              |\n",
            "|เขตมีนบุรี                                           |เสร็จสิ้น|3550     |0                |35.88112676056338 |326              |\n",
            "|เขตห้วยขวาง                                          |เสร็จสิ้น|3535     |0                |45.27751060820368 |337              |\n",
            "|เขตบางพลัด                                           |เสร็จสิ้น|3492     |0                |34.15807560137457 |335              |\n",
            "|เขตภาษีเจริญ                                         |เสร็จสิ้น|3465     |0                |23.832900432900434|329              |\n",
            "|ผอ.เขตปทุมวัน (น.ส.สุขวิชญาณ์)                       |เสร็จสิ้น|3401     |0                |34.262863863569535|298              |\n",
            "|ฝ่ายเทศกิจ เขตบางแค                                  |เสร็จสิ้น|3389     |0                |5.775154912953673 |260              |\n",
            "|ผอ.เขตลาดพร้าว (นางสุภาพร)                           |เสร็จสิ้น|3380     |0                |28.13550295857988 |332              |\n",
            "|ผอ.เขตสาทร (นายชาติชาย)                              |เสร็จสิ้น|3357     |0                |42.1295799821269  |322              |\n",
            "|ผอ.เขตบางกอกน้อย (นางธราพร)                          |เสร็จสิ้น|3346     |0                |93.10161386730424 |343              |\n",
            "|ผอ.เขตดินแดง (นายชูชาติ)                             |เสร็จสิ้น|3287     |0                |31.58351080012169 |337              |\n",
            "|ผอ.เขตพญาไท (นางสุวรรณ)                              |เสร็จสิ้น|3281     |0                |40.105455653764096|334              |\n",
            "|เขตพระโขนง                                           |เสร็จสิ้น|3281     |0                |28.7375800060957  |331              |\n",
            "|เขตสะพานสูง                                          |เสร็จสิ้น|3276     |0                |61.855006105006105|343              |\n",
            "|เขตหนองจอก                                           |เสร็จสิ้น|3276     |0                |60.35042735042735 |324              |\n",
            "|เขตหลักสี่                                           |เสร็จสิ้น|3257     |0                |34.258213079521035|334              |\n",
            "|ผอ.เขตบางนา (น.ส.โศรยา)                              |เสร็จสิ้น|3182     |0                |36.604651162790695|321              |\n",
            "|ผอ.เขตวังทองหลาง (นายโครงการ)                        |เสร็จสิ้น|3178     |0                |49.591252359974824|303              |\n",
            "|เขตดอนเมือง                                          |เสร็จสิ้น|3155     |0                |25.761965134706813|321              |\n",
            "|เขตจอมทอง                                            |เสร็จสิ้น|3142     |0                |42.63462762571611 |335              |\n",
            "|ผอ.เขตคลองสามวา (นายพันธ์ศักดิ์)                     |เสร็จสิ้น|3095     |0                |50.40613893376413 |334              |\n",
            "|กองบังคับการตำรวจนครบาล 5 (บก.น.5)                   |เสร็จสิ้น|3077     |0                |38.37179070523237 |327              |\n",
            "|ผอ.เขตสายไหม (นายสมบัติ)                             |เสร็จสิ้น|3075     |0                |44.59317073170732 |335              |\n",
            "|ฝ่ายโยธา เขตวัฒนา                                    |เสร็จสิ้น|3014     |0                |54.17352355673523 |324              |\n",
            "|ผอ.เขตบางรัก (น.ส.อัญชนา)                            |เสร็จสิ้น|2979     |0                |169.3313192346425 |333              |\n",
            "|เขตตลิ่งชัน                                          |เสร็จสิ้น|2875     |0                |38.90573913043478 |341              |\n",
            "|ผอ.เขตมีนบุรี (นายศักดิ์ชัย)                         |เสร็จสิ้น|2790     |0                |35.75268817204301 |301              |\n",
            "|เขตทุ่งครุ                                           |เสร็จสิ้น|2750     |0                |21.650181818181817|341              |\n",
            "|ผอ.เขตพระนคร (นายสัมฤทธิ์)                           |เสร็จสิ้น|2741     |0                |35.783290769792046|313              |\n",
            "|เขตป้อมปราบศัตรูพ่าย                                 |เสร็จสิ้น|2714     |0                |30.999263080324244|346              |\n",
            "|ผอ.เขตสะพานสูง (น.ส.เสาวลักษณ์)                      |เสร็จสิ้น|2712     |0                |68.3698377581121  |343              |\n",
            "|เขตหนองแขม                                           |เสร็จสิ้น|2710     |0                |27.050922509225092|346              |\n",
            "|เขตยานนาวา                                           |เสร็จสิ้น|2706     |0                |38.336659275683665|337              |\n",
            "|ผอ.เขตพระโขนง (น.ส.วรุณลักษม์)                       |เสร็จสิ้น|2703     |0                |28.485016648168703|283              |\n",
            "|ผอ.เขตธนบุรี (ว่าที่ ร.ต.เดชาธร)                     |เสร็จสิ้น|2642     |0                |30.152914458743375|336              |\n",
            "|ผอ.เขตดอนเมือง (นายสาโรจน์)                          |เสร็จสิ้น|2622     |0                |26.18192219679634 |319              |\n",
            "|ผอ.เขตห้วยขวาง (นายไพฑูรย์)                          |เสร็จสิ้น|2603     |0                |33.70918171340761 |328              |\n",
            "|ผอ.เขตหนองจอก (นายไพโรจน์)                           |เสร็จสิ้น|2585     |0                |68.16750483558994 |297              |\n",
            "|ฝ่ายโยธา เขตจตุจักร                                  |เสร็จสิ้น|2558     |0                |144.82329945269743|336              |\n",
            "|ผอ.เขตภาษีเจริญ (นางเยาวะสกุล)                       |เสร็จสิ้น|2551     |0                |20.907095256762055|305              |\n",
            "|ผอ.เขตหลักสี่ (นางสมฤดี)                             |เสร็จสิ้น|2530     |0                |38.48616600790514 |334              |\n",
            "|เขตบางคอแหลม                                         |เสร็จสิ้น|2498     |0                |16.28062449959968 |328              |\n",
            "|เขตบางบอน                                            |เสร็จสิ้น|2450     |0                |31.066530612244897|336              |\n",
            "|ผอ.เขตบางพลัด (น.ส.อารียา)                           |เสร็จสิ้น|2436     |0                |32.41748768472906 |335              |\n",
            "|กรุงเทพโปร่งใส                                       |เสร็จสิ้น|2434     |0                |20.32087099424815 |274              |\n",
            "|กองบังคับการตำรวจนครบาล 2 (บก.น.2)                   |เสร็จสิ้น|2430     |0                |26.616872427983537|298              |\n",
            "+-----------------------------------------------------+---------+---------+-----------------+------------------+-----------------+\n",
            "only showing top 100 rows\n",
            "\n"
          ]
        }
      ],
      "source": [
        "from pyspark.sql.functions import explode, size\n",
        "\n",
        "df_exploded = df.select(explode('organization').alias('organization_exploded'), 'state', 'date_to_state')\n",
        "\n",
        "df_grouped = df_exploded.groupBy('organization_exploded', 'state') \\\n",
        "                        .agg(count('date_to_state').alias('row_count'),\n",
        "                             min('date_to_state').alias('min_date_to_state'),\n",
        "                             avg('date_to_state').alias('avg_date_to_state'),\n",
        "                             max('date_to_state').alias('max_date_to_state')) \\\n",
        "                        .filter(col('state') == 'เสร็จสิ้น') \\\n",
        "                        .orderBy('row_count', ascending=False)\n",
        "\n",
        "df_org_1 = df_grouped\n",
        "df_org_1.show(100, False)"
      ]
    },
    {
      "cell_type": "code",
      "execution_count": 60,
      "metadata": {
        "id": "pRTghIw2leZh"
      },
      "outputs": [],
      "source": [
        "df_org_1.write.option(\"header\", \"true\").csv(path=\"/content/spark_output/org_1\")"
      ]
    },
    {
      "cell_type": "markdown",
      "metadata": {
        "id": "G1H6Qs3NtdYx"
      },
      "source": [
        "## Focus on district"
      ]
    },
    {
      "cell_type": "code",
      "execution_count": 61,
      "metadata": {
        "id": "wpoqk83YtSha",
        "colab": {
          "base_uri": "https://localhost:8080/"
        },
        "outputId": "529413d7-9ab0-4edc-d649-92fd880eb5f6"
      },
      "outputs": [
        {
          "output_type": "stream",
          "name": "stdout",
          "text": [
            "+-------------+--------------+---------+-----------------+------------------+-----------------+\n",
            "|district     |state         |row_count|min_date_to_state|avg_date_to_state |max_date_to_state|\n",
            "+-------------+--------------+---------+-----------------+------------------+-----------------+\n",
            "|null         |กำลังดำเนินการ|4        |147              |195.75            |275              |\n",
            "|null         |รอรับเรื่อง   |4        |0                |0.75              |2                |\n",
            "|null         |เสร็จสิ้น     |35       |0                |85.62857142857143 |329              |\n",
            "|กระทุ่มแบน   |รอรับเรื่อง   |3        |0                |0.0               |0                |\n",
            "|คลองสาน      |เสร็จสิ้น     |2228     |0                |46.864901256732495|341              |\n",
            "|คลองสาน      |รอรับเรื่อง   |260      |0                |14.457692307692307|321              |\n",
            "|คลองสาน      |กำลังดำเนินการ|433      |0                |101.64665127020785|329              |\n",
            "|คลองสามวา    |กำลังดำเนินการ|1214     |0                |78.34184514003294 |325              |\n",
            "|คลองสามวา    |เสร็จสิ้น     |3726     |0                |44.947933440687066|334              |\n",
            "|คลองสามวา    |รอรับเรื่อง   |247      |0                |2.8421052631578947|178              |\n",
            "|คลองเตย      |เสร็จสิ้น     |6068     |0                |33.200065919578115|343              |\n",
            "|คลองเตย      |กำลังดำเนินการ|1378     |0                |87.12917271407838 |338              |\n",
            "|คลองเตย      |รอรับเรื่อง   |996      |0                |11.264056224899598|304              |\n",
            "|คันนายาว     |เสร็จสิ้น     |1969     |0                |23.39207719654647 |306              |\n",
            "|คันนายาว     |รอรับเรื่อง   |108      |0                |8.083333333333334 |224              |\n",
            "|คันนายาว     |กำลังดำเนินการ|823      |0                |50.308626974483595|341              |\n",
            "|จตุจักร      |กำลังดำเนินการ|3593     |0                |84.1839688282772  |343              |\n",
            "|จตุจักร      |รอรับเรื่อง   |1383     |0                |9.843094721619668 |314              |\n",
            "|จตุจักร      |เสร็จสิ้น     |9960     |0                |93.36295180722891 |339              |\n",
            "|จอมทอง       |กำลังดำเนินการ|723      |0                |83.46749654218534 |334              |\n",
            "|จอมทอง       |เสร็จสิ้น     |3140     |0                |44.09299363057325 |335              |\n",
            "|จอมทอง       |รอรับเรื่อง   |485      |0                |15.383505154639176|320              |\n",
            "|ดอนเมือง     |เสร็จสิ้น     |3146     |0                |25.87730451366815 |321              |\n",
            "|ดอนเมือง     |รอรับเรื่อง   |289      |0                |3.9965397923875434|311              |\n",
            "|ดอนเมือง     |กำลังดำเนินการ|492      |0                |78.15243902439025 |327              |\n",
            "|ดินแดง       |รอรับเรื่อง   |424      |0                |14.007075471698114|306              |\n",
            "|ดินแดง       |เสร็จสิ้น     |4419     |0                |37.0296447159991  |337              |\n",
            "|ดินแดง       |กำลังดำเนินการ|1869     |0                |90.33868378812198 |344              |\n",
            "|ดุสิต        |กำลังดำเนินการ|648      |0                |116.41975308641975|335              |\n",
            "|ดุสิต        |เสร็จสิ้น     |2193     |0                |41.6124031007752  |434              |\n",
            "|ดุสิต        |รอรับเรื่อง   |161      |0                |6.46583850931677  |162              |\n",
            "|ตลิ่งชัน     |กำลังดำเนินการ|785      |0                |98.46751592356688 |328              |\n",
            "|ตลิ่งชัน     |รอรับเรื่อง   |539      |0                |10.827458256029685|268              |\n",
            "|ตลิ่งชัน     |เสร็จสิ้น     |2866     |0                |38.945917655268666|341              |\n",
            "|ทวีวัฒนา     |เสร็จสิ้น     |1968     |0                |32.864837398373986|323              |\n",
            "|ทวีวัฒนา     |รอรับเรื่อง   |157      |0                |3.3694267515923566|236              |\n",
            "|ทวีวัฒนา     |กำลังดำเนินการ|330      |0                |50.20909090909091 |329              |\n",
            "|ทุ่งครุ      |กำลังดำเนินการ|321      |0                |64.3177570093458  |321              |\n",
            "|ทุ่งครุ      |รอรับเรื่อง   |147      |0                |7.64625850340136  |283              |\n",
            "|ทุ่งครุ      |เสร็จสิ้น     |2723     |0                |21.808666911494676|341              |\n",
            "|ธนบุรี       |รอรับเรื่อง   |401      |0                |18.83790523690773 |330              |\n",
            "|ธนบุรี       |เสร็จสิ้น     |3979     |0                |30.464438301080673|336              |\n",
            "|ธนบุรี       |กำลังดำเนินการ|647      |0                |98.85162287480681 |341              |\n",
            "|บางกรวย      |เสร็จสิ้น     |2        |21               |34.0              |47               |\n",
            "|บางกรวย      |รอรับเรื่อง   |71       |0                |0.0               |0                |\n",
            "|บางกรวย      |กำลังดำเนินการ|9        |4                |31.555555555555557|64               |\n",
            "|บางกอกน้อย   |เสร็จสิ้น     |4345     |0                |77.15742232451093 |343              |\n",
            "|บางกอกน้อย   |กำลังดำเนินการ|516      |0                |53.98062015503876 |332              |\n",
            "|บางกอกน้อย   |รอรับเรื่อง   |125      |0                |10.08             |336              |\n",
            "|บางกอกใหญ่   |กำลังดำเนินการ|278      |0                |82.46762589928058 |332              |\n",
            "|บางกอกใหญ่   |เสร็จสิ้น     |1597     |0                |53.7407639323732  |334              |\n",
            "|บางกอกใหญ่   |รอรับเรื่อง   |150      |0                |39.63333333333333 |287              |\n",
            "|บางกะปิ      |เสร็จสิ้น     |6544     |0                |40.00030562347188 |342              |\n",
            "|บางกะปิ      |กำลังดำเนินการ|1951     |0                |93.92055356227576 |341              |\n",
            "|บางกะปิ      |รอรับเรื่อง   |662      |0                |7.47583081570997  |282              |\n",
            "|บางขุนเทียน  |รอรับเรื่อง   |687      |0                |4.986899563318778 |283              |\n",
            "|บางขุนเทียน  |เสร็จสิ้น     |5134     |0                |21.030775223996883|329              |\n",
            "|บางขุนเทียน  |กำลังดำเนินการ|967      |0                |77.11995863495346 |337              |\n",
            "|บางคอแหลม    |กำลังดำเนินการ|472      |0                |99.73305084745763 |340              |\n",
            "|บางคอแหลม    |เสร็จสิ้น     |2466     |0                |16.714517437145176|328              |\n",
            "|บางคอแหลม    |รอรับเรื่อง   |217      |0                |8.474654377880185 |265              |\n",
            "|บางซื่อ      |รอรับเรื่อง   |181      |0                |9.011049723756907 |276              |\n",
            "|บางซื่อ      |กำลังดำเนินการ|1195     |0                |99.6510460251046  |335              |\n",
            "|บางซื่อ      |เสร็จสิ้น     |4712     |0                |44.05241935483871 |325              |\n",
            "|บางนา        |รอรับเรื่อง   |476      |0                |7.390756302521009 |319              |\n",
            "|บางนา        |เสร็จสิ้น     |3816     |0                |40.107180293501045|321              |\n",
            "|บางนา        |กำลังดำเนินการ|1459     |0                |69.17683344756682 |436              |\n",
            "|บางน้ำเปรี้ยว|เสร็จสิ้น     |1        |9                |9.0               |9                |\n",
            "|บางน้ำเปรี้ยว|รอรับเรื่อง   |1        |0                |0.0               |0                |\n",
            "|บางบอน       |กำลังดำเนินการ|515      |0                |76.25242718446601 |329              |\n",
            "|บางบอน       |เสร็จสิ้น     |2427     |0                |33.206015657189944|336              |\n",
            "|บางบอน       |รอรับเรื่อง   |139      |0                |18.25179856115108 |319              |\n",
            "|บางบัวทอง    |รอรับเรื่อง   |4        |0                |0.0               |0                |\n",
            "|บางบ่อ       |กำลังดำเนินการ|1        |303              |303.0             |303              |\n",
            "|บางปะกง      |กำลังดำเนินการ|1        |128              |128.0             |128              |\n",
            "|บางปะกง      |รอรับเรื่อง   |1        |0                |0.0               |0                |\n",
            "|บางพลัด      |เสร็จสิ้น     |3425     |0                |33.88905109489051 |335              |\n",
            "|บางพลัด      |กำลังดำเนินการ|936      |0                |97.6698717948718  |339              |\n",
            "|บางพลัด      |รอรับเรื่อง   |330      |0                |25.169696969696968|276              |\n",
            "|บางพลี       |รอรับเรื่อง   |48       |0                |51.1875           |293              |\n",
            "|บางพลี       |กำลังดำเนินการ|22       |92               |274.77272727272725|320              |\n",
            "|บางพลี       |เสร็จสิ้น     |13       |249              |276.53846153846155|310              |\n",
            "|บางรัก       |เสร็จสิ้น     |4255     |0                |130.99553466509988|338              |\n",
            "|บางรัก       |รอรับเรื่อง   |462      |0                |23.205627705627705|330              |\n",
            "|บางรัก       |กำลังดำเนินการ|998      |0                |103.38376753507013|339              |\n",
            "|บางเขน       |รอรับเรื่อง   |83       |0                |20.951807228915662|221              |\n",
            "|บางเขน       |กำลังดำเนินการ|1304     |0                |49.26150306748466 |331              |\n",
            "|บางเขน       |เสร็จสิ้น     |6863     |0                |23.74165816698237 |315              |\n",
            "|บางเสาธง     |รอรับเรื่อง   |18       |0                |195.0             |302              |\n",
            "|บางเสาธง     |เสร็จสิ้น     |10       |0                |252.5             |324              |\n",
            "|บางแค        |กำลังดำเนินการ|1452     |0                |78.94972451790633 |491              |\n",
            "|บางแค        |รอรับเรื่อง   |405      |0                |12.120987654320988|311              |\n",
            "|บางแค        |เสร็จสิ้น     |7803     |0                |20.16403947199795 |341              |\n",
            "|บางใหญ่      |เสร็จสิ้น     |1        |88               |88.0              |88               |\n",
            "|บางใหญ่      |รอรับเรื่อง   |12       |0                |0.0               |0                |\n",
            "|บึงกุ่ม      |กำลังดำเนินการ|1022     |0                |52.61545988258317 |307              |\n",
            "|บึงกุ่ม      |เสร็จสิ้น     |4885     |0                |30.623541453428864|304              |\n",
            "|บึงกุ่ม      |รอรับเรื่อง   |261      |0                |11.754789272030651|223              |\n",
            "|ปทุมวัน      |รอรับเรื่อง   |648      |0                |14.905864197530864|303              |\n",
            "|ปทุมวัน      |เสร็จสิ้น     |4557     |0                |38.70133859995611 |331              |\n",
            "+-------------+--------------+---------+-----------------+------------------+-----------------+\n",
            "only showing top 100 rows\n",
            "\n"
          ]
        }
      ],
      "source": [
        "df_grouped = df.groupBy('district', 'state') \\\n",
        "                        .agg(count('date_to_state').alias('row_count'),\n",
        "                             min('date_to_state').alias('min_date_to_state'),\n",
        "                             avg('date_to_state').alias('avg_date_to_state'),\n",
        "                             max('date_to_state').alias('max_date_to_state')) \\\n",
        "                        .orderBy('district')\n",
        "\n",
        "df_dist_1 = df_grouped\n",
        "df_dist_1.show(100, False)"
      ]
    },
    {
      "cell_type": "code",
      "execution_count": 62,
      "metadata": {
        "id": "OuYLkblelki4"
      },
      "outputs": [],
      "source": [
        "df_dist_1.write.option(\"header\", \"true\").csv(path=\"/content/spark_output/dist_1\")"
      ]
    },
    {
      "cell_type": "code",
      "execution_count": 63,
      "metadata": {
        "id": "6x5s-ehht0fO",
        "colab": {
          "base_uri": "https://localhost:8080/"
        },
        "outputId": "4fe6292c-1ddf-44aa-ae1d-df2693dbb2d9"
      },
      "outputs": [
        {
          "output_type": "stream",
          "name": "stdout",
          "text": [
            "+-----------------+---------+---------+-----------------+------------------+-----------------+\n",
            "|district         |state    |row_count|min_date_to_state|avg_date_to_state |max_date_to_state|\n",
            "+-----------------+---------+---------+-----------------+------------------+-----------------+\n",
            "|ราษฎร์บูรณะ      |เสร็จสิ้น|2075     |0                |15.88867469879518 |326              |\n",
            "|บางคอแหลม        |เสร็จสิ้น|2466     |0                |16.714517437145176|328              |\n",
            "|บางแค            |เสร็จสิ้น|7803     |0                |20.16403947199795 |341              |\n",
            "|สัมพันธวงศ์      |เสร็จสิ้น|1074     |0                |20.459962756052143|346              |\n",
            "|บางขุนเทียน      |เสร็จสิ้น|5134     |0                |21.030775223996883|329              |\n",
            "|ทุ่งครุ          |เสร็จสิ้น|2723     |0                |21.808666911494676|341              |\n",
            "|คันนายาว         |เสร็จสิ้น|1969     |0                |23.39207719654647 |306              |\n",
            "|บางเขน           |เสร็จสิ้น|6863     |0                |23.74165816698237 |315              |\n",
            "|ภาษีเจริญ        |เสร็จสิ้น|3421     |0                |23.775796550716166|329              |\n",
            "|ดอนเมือง         |เสร็จสิ้น|3146     |0                |25.87730451366815 |321              |\n",
            "|ลาดพร้าว         |เสร็จสิ้น|4303     |0                |26.587961887055542|462              |\n",
            "|ประเวศ           |เสร็จสิ้น|8844     |0                |27.502826775214835|336              |\n",
            "|พระโขนง          |เสร็จสิ้น|3193     |0                |27.619793297839024|331              |\n",
            "|หนองแขม          |เสร็จสิ้น|2725     |0                |28.319633027522936|346              |\n",
            "|ธนบุรี           |เสร็จสิ้น|3979     |0                |30.464438301080673|336              |\n",
            "|บึงกุ่ม          |เสร็จสิ้น|4885     |0                |30.623541453428864|304              |\n",
            "|ป้อมปราบศัตรูพ่าย|เสร็จสิ้น|2698     |0                |30.872127501853225|341              |\n",
            "|พระนคร           |เสร็จสิ้น|3751     |0                |31.358304452146093|329              |\n",
            "|ทวีวัฒนา         |เสร็จสิ้น|1968     |0                |32.864837398373986|323              |\n",
            "|คลองเตย          |เสร็จสิ้น|6068     |0                |33.200065919578115|343              |\n",
            "|บางบอน           |เสร็จสิ้น|2427     |0                |33.206015657189944|336              |\n",
            "|หลักสี่          |เสร็จสิ้น|3182     |0                |33.79415461973601 |334              |\n",
            "|บางพลัด          |เสร็จสิ้น|3425     |0                |33.88905109489051 |335              |\n",
            "|ลาดกระบัง        |เสร็จสิ้น|6612     |0                |35.64745916515427 |334              |\n",
            "|มีนบุรี          |เสร็จสิ้น|3560     |0                |36.15308988764045 |326              |\n",
            "|ดินแดง           |เสร็จสิ้น|4419     |0                |37.0296447159991  |337              |\n",
            "|สาทร             |เสร็จสิ้น|4280     |0                |37.31892523364486 |464              |\n",
            "|ราชเทวี          |เสร็จสิ้น|4556     |0                |37.55267778753292 |321              |\n",
            "|ปทุมวัน          |เสร็จสิ้น|4557     |0                |38.70133859995611 |331              |\n",
            "|ยานนาวา          |เสร็จสิ้น|2653     |0                |38.74104787033547 |337              |\n",
            "|ตลิ่งชัน         |เสร็จสิ้น|2866     |0                |38.945917655268666|341              |\n",
            "|พญาไท            |เสร็จสิ้น|4023     |0                |39.22694506587124 |334              |\n",
            "|สายไหม           |เสร็จสิ้น|3796     |0                |39.33587987355111 |335              |\n",
            "|บางกะปิ          |เสร็จสิ้น|6544     |0                |40.00030562347188 |342              |\n",
            "|บางนา            |เสร็จสิ้น|3816     |0                |40.107180293501045|321              |\n",
            "|ดุสิต            |เสร็จสิ้น|2193     |0                |41.6124031007752  |434              |\n",
            "|วังทองหลาง       |เสร็จสิ้น|4204     |0                |42.26117982873454 |336              |\n",
            "|วัฒนา            |เสร็จสิ้น|6386     |0                |42.65393047290949 |324              |\n",
            "|บางซื่อ          |เสร็จสิ้น|4712     |0                |44.05241935483871 |325              |\n",
            "|จอมทอง           |เสร็จสิ้น|3140     |0                |44.09299363057325 |335              |\n",
            "|คลองสามวา        |เสร็จสิ้น|3726     |0                |44.947933440687066|334              |\n",
            "|ห้วยขวาง         |เสร็จสิ้น|3475     |0                |46.80374100719425 |337              |\n",
            "|คลองสาน          |เสร็จสิ้น|2228     |0                |46.864901256732495|341              |\n",
            "|บางกอกใหญ่       |เสร็จสิ้น|1597     |0                |53.7407639323732  |334              |\n",
            "|หนองจอก          |เสร็จสิ้น|3250     |0                |60.95046153846154 |324              |\n",
            "|สะพานสูง         |เสร็จสิ้น|3255     |0                |61.83348694316436 |343              |\n",
            "|บางกอกน้อย       |เสร็จสิ้น|4345     |0                |77.15742232451093 |343              |\n",
            "|จตุจักร          |เสร็จสิ้น|9960     |0                |93.36295180722891 |339              |\n",
            "|บางรัก           |เสร็จสิ้น|4255     |0                |130.99553466509988|338              |\n",
            "|สวนหลวง          |เสร็จสิ้น|5741     |0                |151.23480229925102|335              |\n",
            "+-----------------+---------+---------+-----------------+------------------+-----------------+\n",
            "\n"
          ]
        }
      ],
      "source": [
        "# rank by avg_date_to_state\n",
        "\n",
        "df_grouped = df.groupBy('district', 'state') \\\n",
        "                        .agg(count('date_to_state').alias('row_count'),\n",
        "                             min('date_to_state').alias('min_date_to_state'),\n",
        "                             avg('date_to_state').alias('avg_date_to_state'),\n",
        "                             max('date_to_state').alias('max_date_to_state')) \\\n",
        "                        .filter((col('state') == 'เสร็จสิ้น') & (col('row_count') > 50)) \\\n",
        "                        .orderBy('avg_date_to_state')\n",
        "\n",
        "df_dist_2 = df_grouped\n",
        "df_dist_2.show(100, False)"
      ]
    },
    {
      "cell_type": "code",
      "execution_count": 64,
      "metadata": {
        "id": "3nRck53Xlwya"
      },
      "outputs": [],
      "source": [
        "df_dist_2.write.option(\"header\", \"true\").csv(path=\"/content/spark_output/dist_2\")"
      ]
    },
    {
      "cell_type": "markdown",
      "metadata": {
        "id": "0xEFPNPUutlS"
      },
      "source": [
        "## Focus on star"
      ]
    },
    {
      "cell_type": "code",
      "execution_count": 65,
      "metadata": {
        "id": "HQz_UaA8ujzc",
        "colab": {
          "base_uri": "https://localhost:8080/"
        },
        "outputId": "6f91f491-27de-4d46-fba1-e9cb9fd956c3"
      },
      "outputs": [
        {
          "output_type": "stream",
          "name": "stdout",
          "text": [
            "+----+---------+---------+-----------------+------------------+-----------------+\n",
            "|star|state    |row_count|min_date_to_state|avg_date_to_state |max_date_to_state|\n",
            "+----+---------+---------+-----------------+------------------+-----------------+\n",
            "|null|เสร็จสิ้น|104732   |0                |45.65467096971317 |464              |\n",
            "|1   |เสร็จสิ้น|13772    |0                |50.977708393842576|434              |\n",
            "|2   |เสร็จสิ้น|4629     |0                |51.606826528407865|325              |\n",
            "|3   |เสร็จสิ้น|10394    |0                |48.483740619588225|343              |\n",
            "|4   |เสร็จสิ้น|21080    |0                |41.2600569259962  |342              |\n",
            "|5   |เสร็จสิ้น|47760    |0                |36.55674204355109 |343              |\n",
            "+----+---------+---------+-----------------+------------------+-----------------+\n",
            "\n"
          ]
        }
      ],
      "source": [
        "df_grouped = df.groupBy('star', 'state') \\\n",
        "                        .agg(count('date_to_state').alias('row_count'),\n",
        "                             min('date_to_state').alias('min_date_to_state'),\n",
        "                             avg('date_to_state').alias('avg_date_to_state'),\n",
        "                             max('date_to_state').alias('max_date_to_state')) \\\n",
        "                        .filter((col('state') == \"เสร็จสิ้น\")) \\\n",
        "                        .orderBy('star')\n",
        "\n",
        "df_star_1 = df_grouped\n",
        "df_star_1.show(100, False)"
      ]
    },
    {
      "cell_type": "code",
      "execution_count": 66,
      "metadata": {
        "id": "_9FqZ2Fll1XE"
      },
      "outputs": [],
      "source": [
        "df_star_1.write.option(\"header\", \"true\").csv(path=\"/content/spark_output/star_1\")"
      ]
    },
    {
      "cell_type": "markdown",
      "metadata": {
        "id": "b_KM-PIXWO_g"
      },
      "source": [
        "## AI/ML Start predict time to เสร็จสิ้น here"
      ]
    },
    {
      "cell_type": "code",
      "execution_count": 67,
      "metadata": {
        "id": "ZqryuOPfVhx8",
        "colab": {
          "base_uri": "https://localhost:8080/"
        },
        "outputId": "76a93030-6fec-4dad-8053-631ebf8446ab"
      },
      "outputs": [
        {
          "output_type": "stream",
          "name": "stdout",
          "text": [
            "+--------------------+--------------------+--------------------+--------------------+-----------+--------+-------------+--------------------+---------+----+------------+--------------------+--------+---------+-------------+\n",
            "|                type|        organization|             comment|             address|subdistrict|district|     province|           timestamp|    state|star|count_reopen|       last_activity|latitude|longitude|date_to_state|\n",
            "+--------------------+--------------------+--------------------+--------------------+-----------+--------+-------------+--------------------+---------+----+------------+--------------------+--------+---------+-------------+\n",
            "|         [ความสะอาด]|        [เขตบางซื่อ]|             ขยะเยอะ|12/14 ถนน กรุงเทพ...|       null|    null|กรุงเทพมหานคร|2021-09-03 12:51:...|เสร็จสิ้น|null|        null|2022-06-04 15:34:...|  100.53|    13.82|          274|\n",
            "|[น้ำท่วม, ร้องเรียน]|[เขตประเวศ, ฝ่ายโ...|น้ำท่วมเวลาฝนตกแล...|189 เฉลิมพระเกียร...|    หนองบอน|  ประเวศ|กรุงเทพมหานคร|2021-09-19 14:56:...|เสร็จสิ้น|   4|        null|2022-06-21 08:21:...|  100.67|    13.68|          275|\n",
            "|             [สะพาน]|           [เขตสาทร]|สะพานลอยปรับปรุงไ...|191/1 ถนน สาทรเหน...|    ยานนาวา|    สาทร|กรุงเทพมหานคร|2021-09-26 05:03:...|เสร็จสิ้น|null|        null|2022-06-06 01:17:...|  100.53|    13.72|          253|\n",
            "|           [น้ำท่วม]|[เขตบางซื่อ, ฝ่าย...|             น้ำท่วม|12/14 ถนน กรุงเทพ...|       null|    null|กรุงเทพมหานคร|2021-10-14 10:45:...|เสร็จสิ้น|null|        null|2022-09-08 08:35:...|  100.53|    13.82|          329|\n",
            "|      [น้ำท่วม, ถนน]|[เขตลาดพร้าว, ฝ่า...|ซอยลาดพร้าววังหิน...|702 ถ. ลาดพร้าววั...|   ลาดพร้าว|ลาดพร้าว|กรุงเทพมหานคร|2021-12-09 12:29:...|เสร็จสิ้น|   5|        null|2022-08-12 07:18:...|  100.59|    13.82|          246|\n",
            "|                  []|[เขตลาดพร้าว, การ...|หน้าปากซอย ลาดพร้...|17/73 17/73 ถ. ลา...|   ลาดพร้าว|ลาดพร้าว|กรุงเทพมหานคร|2021-12-13 05:53:...|เสร็จสิ้น|null|        null|2023-03-14 12:09:...|  100.59|    13.81|          456|\n",
            "|                  []|          [เขตดุสิต]|ยังไม่มีหน่วยงานไ...|627 ถนนสามเสน แขว...|      ดุสิต|   ดุสิต|กรุงเทพมหานคร|2021-12-17 08:46:...|เสร็จสิ้น|   5|        null|2022-06-01 03:16:...|  100.51|    13.78|          166|\n",
            "|         [ความสะอาด]|[เขตประเวศ, ฝ่ายเ...|คนเอาขยะมาทิ้งจนก...|110 ซอย มีสุข แขว...|    หนองบอน|  ประเวศ|กรุงเทพมหานคร|2021-12-18 14:50:...|เสร็จสิ้น|   2|        null|2022-06-14 07:36:...|  100.65|    13.67|          178|\n",
            "|                  []|[เขตประเวศ, ฝ่ายเ...|ระยะหลังๆ นี้ พบเ...|208/22 ถ. พัฒนากา...|     ประเวศ|  ประเวศ|กรุงเทพมหานคร|2021-12-21 23:03:...|เสร็จสิ้น|   2|        null|2022-06-24 06:32:...|  100.66|    13.73|          185|\n",
            "|       [ท่อระบายน้ำ]|[เขตประเวศ, ฝ่ายโ...|ขอแจ้งเรื่องท่อระ...|70 ซอย เฉลิมพระเก...|    หนองบอน|  ประเวศ|กรุงเทพมหานคร|2021-12-22 10:15:...|เสร็จสิ้น|   5|        null|2022-06-20 13:12:...|  100.65|    13.68|          180|\n",
            "|                  []|[เขตประเวศ, ฝ่ายโ...|แจ้งเรื่องพื้นผิว...|55 ถนน ศรีนครินทร...|    หนองบอน|  ประเวศ|กรุงเทพมหานคร|2021-12-23 10:26:...|เสร็จสิ้น|null|        null|2022-09-28 08:35:...|  100.65|    13.69|          279|\n",
            "|         [ความสะอาด]|[เขตประเวศ, สำนัก...|ปัญหากลิ่นขยะจากโ...|22/1 ซอย อ่อนนุช ...|     ประเวศ|  ประเวศ|กรุงเทพมหานคร|2021-12-28 03:59:...|เสร็จสิ้น|   4|        null|2022-07-12 06:50:...|  100.69|    13.72|          196|\n",
            "|      [ถนน, ทางเท้า]|[เขตสาทร, ฝ่ายโยธ...|บริเวณนราธิวาส  แ...|แยกจันทน์-นราธิวา...| ทุ่งมหาเมฆ|    สาทร|กรุงเทพมหานคร|2022-01-02 10:53:...|เสร็จสิ้น|null|        null|2022-06-08 05:46:...|  100.54|    13.71|          157|\n",
            "|                  []|[เขตสาทร, ฝ่ายเทศ...|มอเตอร์ไซด์จอดบนท...|184 ซอย จันทน์ 18...| ทุ่งวัดดอน|    สาทร|กรุงเทพมหานคร|2022-01-14 01:17:...|เสร็จสิ้น|null|        null|2022-06-22 08:06:...|  100.53|    13.71|          159|\n",
            "|                  []|[เขตสาทร, ฝ่ายเทศ...|มอเตอร์ไซด์จอดบนถ...|184 ซอย จันทน์ 18...| ทุ่งวัดดอน|    สาทร|กรุงเทพมหานคร|2022-01-14 01:18:...|เสร็จสิ้น|null|        null|2022-06-22 08:10:...|  100.53|    13.71|          159|\n",
            "|                  []|[เขตประเวศ, สำนัก...|อยากให้สวนหลวง ร9...|444 ซอย หมู่บ้านเ...|    หนองบอน|  ประเวศ|กรุงเทพมหานคร|2022-01-15 12:52:...|เสร็จสิ้น|null|        null|2022-06-20 07:12:...|  100.66|    13.69|          156|\n",
            "|        [ถนน, สะพาน]|[เขตสาทร, สำนักกา...|ถนนจันทน์ช่วงสะพา...|1357/1-4 ซอย จันท...| ทุ่งวัดดอน|    สาทร|กรุงเทพมหานคร|2022-01-16 10:57:...|เสร็จสิ้น|null|        null|2023-01-29 03:27:...|  100.53|    13.71|          378|\n",
            "|                  []|           [เขตสาทร]|ปากซอย จันทน์ 18/...|3 ซอย จันทน์ 18/4...| ทุ่งวัดดอน|    สาทร|กรุงเทพมหานคร|2022-01-16 11:02:...|เสร็จสิ้น|null|        null|2022-06-09 03:49:...|  100.53|    13.71|          144|\n",
            "|             [สะพาน]|[เขตสาทร, ฝ่ายเทศ...|ริมถนน ตรงสะพานสา...|3 ซอย จันทน์ 18/4...| ทุ่งวัดดอน|    สาทร|กรุงเทพมหานคร|2022-01-16 11:08:...|เสร็จสิ้น|null|        null|2022-06-23 08:06:...|  100.53|    13.71|          158|\n",
            "| [จราจร, สะพาน, ถนน]|[เขตสาทร, สน.ยานน...|บริเวณสะพานสามถนน...|3 ซอย จันทน์ 18/4...| ทุ่งวัดดอน|    สาทร|กรุงเทพมหานคร|2022-01-16 11:14:...|เสร็จสิ้น|null|        null|2022-06-22 08:18:...|  100.53|    13.71|          157|\n",
            "+--------------------+--------------------+--------------------+--------------------+-----------+--------+-------------+--------------------+---------+----+------------+--------------------+--------+---------+-------------+\n",
            "only showing top 20 rows\n",
            "\n"
          ]
        }
      ],
      "source": [
        "df_ml = df.filter(df.state == \"เสร็จสิ้น\")\n",
        "df_ml.show()"
      ]
    },
    {
      "cell_type": "code",
      "execution_count": 68,
      "metadata": {
        "id": "R5GCSBZ4XMcL",
        "colab": {
          "base_uri": "https://localhost:8080/"
        },
        "outputId": "a8d1b4ed-3618-47cc-af6b-5acc43b3ff28"
      },
      "outputs": [
        {
          "output_type": "execute_result",
          "data": {
            "text/plain": [
              "202367"
            ]
          },
          "metadata": {},
          "execution_count": 68
        }
      ],
      "source": [
        "df_ml.count()"
      ]
    },
    {
      "cell_type": "markdown",
      "metadata": {
        "id": "M2BKUr8IVFbp"
      },
      "source": [
        "# 2. AI/ML"
      ]
    },
    {
      "cell_type": "code",
      "source": [
        "# find correlation between comment length and date_to_state\n",
        "from pyspark.sql.functions import length, expr, corr\n",
        "time_format = \"yyyy-MM-dd HH:mm:ss\"\n",
        "df = df.withColumn(\"comment_len\", length(\"comment\"))\n",
        "df = df.withColumn(\"date_to_state_sec\", expr(\"cast(date_to_state as long)\"))\n",
        "correlation = df.select(corr(\"comment_len\", \"date_to_state_sec\").alias(\"correlation\")).collect()[0][\"correlation\"]\n",
        "print(correlation)"
      ],
      "metadata": {
        "id": "oMPqfQCOrLkh",
        "colab": {
          "base_uri": "https://localhost:8080/"
        },
        "outputId": "106977e6-b832-4bfe-9054-983b6278a452"
      },
      "execution_count": 70,
      "outputs": [
        {
          "output_type": "stream",
          "name": "stdout",
          "text": [
            "-0.06673141980196019\n"
          ]
        }
      ]
    },
    {
      "cell_type": "code",
      "source": [
        "df = df_ml.sample(False, 0.001, seed=0)"
      ],
      "metadata": {
        "id": "tR0lGRAcrdpU"
      },
      "execution_count": 98,
      "outputs": []
    },
    {
      "cell_type": "code",
      "source": [
        "from pyspark.sql.functions import col, explode, when, length\n",
        "\n",
        "df = df.drop('star', 'state', 'address', 'last_activity', 'subdistrict', 'district', 'province', 'organization', 'timestamp', 'count_reopen')\n",
        "\n",
        "df = df.withColumn('comment_len', length(col('comment')))\n",
        "df = df.drop('comment')\n",
        "\n",
        "# Drop rows with null 'latitude', 'longitude', 'timestamp' and 'date_to_state'\n",
        "df = df.dropna(subset=['date_to_state', 'type', 'latitude', 'longitude'])\n",
        "\n",
        "# Explode 'type' and 'organization' columns\n",
        "df = df.dropna(subset=['type'])\n",
        "df = df.select('*', explode('type').alias('type_exploded'))\n",
        "df = df.drop('type')\n",
        "df = df.withColumn(\"type_exploded\", when(col(\"type_exploded\") == \"\", \"unknown\").otherwise(col(\"type_exploded\")))"
      ],
      "metadata": {
        "id": "6-DFTYynt3ml"
      },
      "execution_count": 99,
      "outputs": []
    },
    {
      "cell_type": "code",
      "source": [
        "df.show()"
      ],
      "metadata": {
        "colab": {
          "base_uri": "https://localhost:8080/"
        },
        "id": "KkWkMoJv7n7w",
        "outputId": "10f268d8-f27a-428d-e4af-aa7c4da9cc16"
      },
      "execution_count": 100,
      "outputs": [
        {
          "output_type": "stream",
          "name": "stdout",
          "text": [
            "+--------+---------+-------------+-----------+-------------+\n",
            "|latitude|longitude|date_to_state|comment_len|type_exploded|\n",
            "+--------+---------+-------------+-----------+-------------+\n",
            "|  100.59|    13.93|           12|         65|      unknown|\n",
            "|  100.59|    13.82|            2|         83|   เสียงรบกวน|\n",
            "|  100.44|    13.67|            4|         75|      เสนอแนะ|\n",
            "|  100.34|    13.69|           14|          9|      unknown|\n",
            "|  100.68|    13.67|           11|        118|      กีดขวาง|\n",
            "|  100.51|    13.72|           76|         53|      unknown|\n",
            "|  100.64|    13.67|           11|         81|          ถนน|\n",
            "|  100.62|    13.67|          134|         15|          ถนน|\n",
            "|  100.61|    13.69|            4|        133|      unknown|\n",
            "|  100.53|    13.81|          215|         33|      ทางเท้า|\n",
            "|  100.53|    13.81|          215|         33|  ท่อระบายน้ำ|\n",
            "|   100.6|    13.81|            0|         39|      น้ำท่วม|\n",
            "|   100.7|    13.83|            6|        123|      กีดขวาง|\n",
            "|   100.7|    13.83|            6|        123|          ถนน|\n",
            "|  100.77|    13.72|            8|         52|        จราจร|\n",
            "|  100.77|    13.72|            8|         52|          ถนน|\n",
            "|  100.65|    13.77|            3|         59|          ถนน|\n",
            "|  100.65|    13.77|            3|         59|        สะพาน|\n",
            "|  100.53|    13.72|          241|         63|        สายไฟ|\n",
            "|  100.64|    13.77|          209|        267|      น้ำท่วม|\n",
            "+--------+---------+-------------+-----------+-------------+\n",
            "only showing top 20 rows\n",
            "\n"
          ]
        }
      ]
    },
    {
      "cell_type": "code",
      "source": [
        "from pyspark.ml import Pipeline\n",
        "from pyspark.ml.feature import StringIndexer, VectorAssembler, OneHotEncoder\n",
        "from pyspark.ml.regression import RandomForestRegressor\n",
        "from pyspark.ml.evaluation import RegressionEvaluator\n",
        "\n",
        "# Update the list of input columns for StringIndexer\n",
        "input_columns = ['type_exploded']\n",
        "\n",
        "# Create StringIndexer for categorical columns\n",
        "indexers = [StringIndexer(inputCol=column, outputCol=column+\"_index\", handleInvalid=\"keep\").fit(df) for column in input_columns]\n",
        "\n",
        "# OneHotEncoder for categorical columns\n",
        "encoders = [OneHotEncoder(inputCol=indexer.getOutputCol(), outputCol=indexer.getOutputCol()+\"_encoded\") for indexer in indexers]\n",
        "\n",
        "# VectorAssembler to combine all features\n",
        "assembler = VectorAssembler(inputCols=[encoder.getOutputCol() for encoder in encoders] + ['latitude', 'longitude', 'comment_len'], outputCol=\"features\")\n",
        "\n",
        "# Regression model\n",
        "rf = RandomForestRegressor(labelCol='date_to_state', featuresCol='features')\n",
        "\n",
        "# Define a pipeline model\n",
        "pipeline = Pipeline(stages=indexers + encoders + [assembler, rf])\n",
        "\n",
        "# Split the data\n",
        "(train_data, test_data) = df.randomSplit([0.8, 0.2], seed = 2023)\n",
        "\n",
        "# Train the model\n",
        "model = pipeline.fit(train_data)\n",
        "\n",
        "# Make predictions\n",
        "predictions = model.transform(test_data)\n",
        "\n",
        "# Evaluate the model\n",
        "evaluator = RegressionEvaluator(labelCol=\"date_to_state\", predictionCol=\"prediction\", metricName=\"rmse\")\n",
        "rmse = evaluator.evaluate(predictions)\n",
        "print(\"Root Mean Squared Error (RMSE) on test data: \", rmse)"
      ],
      "metadata": {
        "id": "6bvuNmX8yYiw",
        "colab": {
          "base_uri": "https://localhost:8080/"
        },
        "outputId": "561cb398-ece4-4cc9-99a4-9ae9c8719752"
      },
      "execution_count": 101,
      "outputs": [
        {
          "output_type": "stream",
          "name": "stdout",
          "text": [
            "Root Mean Squared Error (RMSE) on test data:  57.27392046445446\n"
          ]
        }
      ]
    },
    {
      "cell_type": "code",
      "source": [
        "5698797/60/60/24"
      ],
      "metadata": {
        "id": "rPuVfMrJ1EsM",
        "colab": {
          "base_uri": "https://localhost:8080/"
        },
        "outputId": "a21d0b31-2d41-4449-c37d-ab9da5e92dae"
      },
      "execution_count": 75,
      "outputs": [
        {
          "output_type": "execute_result",
          "data": {
            "text/plain": [
              "65.95829861111112"
            ]
          },
          "metadata": {},
          "execution_count": 75
        }
      ]
    },
    {
      "cell_type": "code",
      "source": [
        "15562591/60/60/24"
      ],
      "metadata": {
        "colab": {
          "base_uri": "https://localhost:8080/"
        },
        "id": "vskJPYH2-dWC",
        "outputId": "53f2b72c-6f3e-458d-fa9d-ebe88df14f54"
      },
      "execution_count": 76,
      "outputs": [
        {
          "output_type": "execute_result",
          "data": {
            "text/plain": [
              "180.12258101851853"
            ]
          },
          "metadata": {},
          "execution_count": 76
        }
      ]
    }
  ],
  "metadata": {
    "colab": {
      "provenance": []
    },
    "kernelspec": {
      "display_name": "Python 3 (ipykernel)",
      "language": "python",
      "name": "python3"
    },
    "language_info": {
      "codemirror_mode": {
        "name": "ipython",
        "version": 3
      },
      "file_extension": ".py",
      "mimetype": "text/x-python",
      "name": "python",
      "nbconvert_exporter": "python",
      "pygments_lexer": "ipython3",
      "version": "3.10.9"
    },
    "toc": {
      "base_numbering": 1,
      "nav_menu": {},
      "number_sections": true,
      "sideBar": true,
      "skip_h1_title": false,
      "title_cell": "Table of Contents",
      "title_sidebar": "Contents",
      "toc_cell": false,
      "toc_position": {},
      "toc_section_display": true,
      "toc_window_display": false
    },
    "varInspector": {
      "cols": {
        "lenName": 16,
        "lenType": 16,
        "lenVar": 40
      },
      "kernels_config": {
        "python": {
          "delete_cmd_postfix": "",
          "delete_cmd_prefix": "del ",
          "library": "var_list.py",
          "varRefreshCmd": "print(var_dic_list())"
        },
        "r": {
          "delete_cmd_postfix": ") ",
          "delete_cmd_prefix": "rm(",
          "library": "var_list.r",
          "varRefreshCmd": "cat(var_dic_list()) "
        }
      },
      "types_to_exclude": [
        "module",
        "function",
        "builtin_function_or_method",
        "instance",
        "_Feature"
      ],
      "window_display": false
    }
  },
  "nbformat": 4,
  "nbformat_minor": 0
}