{
  "cells": [
    {
      "cell_type": "markdown",
      "metadata": {
        "id": "Ews41riJgHhT"
      },
      "source": [
        "# 1. Data Engineering (DE) Spark"
      ]
    },
    {
      "cell_type": "markdown",
      "metadata": {
        "id": "2gID4GQm_zmu"
      },
      "source": [
        "## Spark Preparation (Google Colab Only)"
      ]
    },
    {
      "cell_type": "code",
      "execution_count": 1,
      "metadata": {
        "id": "ZJ5j1cS2_zmw"
      },
      "outputs": [],
      "source": [
        "try:\n",
        "  import google.colab\n",
        "  IN_COLAB = True\n",
        "except:\n",
        "  IN_COLAB = False"
      ]
    },
    {
      "cell_type": "code",
      "execution_count": 2,
      "metadata": {
        "id": "KwvSJUDD_zmx"
      },
      "outputs": [],
      "source": [
        "if IN_COLAB:\n",
        "    !apt-get install openjdk-8-jdk-headless -qq > /dev/null\n",
        "    !wget -q https://dlcdn.apache.org/spark/spark-3.3.2/spark-3.3.2-bin-hadoop3.tgz\n",
        "    !tar xf spark-3.3.2-bin-hadoop3.tgz\n",
        "    !mv spark-3.3.2-bin-hadoop3 spark\n",
        "    !pip install -q findspark\n",
        "    import os\n",
        "    os.environ[\"JAVA_HOME\"] = \"/usr/lib/jvm/java-8-openjdk-amd64\"\n",
        "    os.environ[\"SPARK_HOME\"] = \"/content/spark\""
      ]
    },
    {
      "cell_type": "markdown",
      "metadata": {
        "id": "Snc05R8m_zmx"
      },
      "source": [
        "## Start a Local Cluster"
      ]
    },
    {
      "cell_type": "code",
      "execution_count": 3,
      "metadata": {
        "id": "lnI1PJmN_zmx"
      },
      "outputs": [],
      "source": [
        "import findspark\n",
        "findspark.init()\n",
        "spark_url = 'local'"
      ]
    },
    {
      "cell_type": "code",
      "execution_count": 4,
      "metadata": {
        "id": "F0BK_kUUVFbe"
      },
      "outputs": [],
      "source": [
        "from pyspark.sql import SparkSession\n",
        "spark = SparkSession.builder\\\n",
        "        .master(spark_url)\\\n",
        "        .appName('Spark ML')\\\n",
        "        .getOrCreate()"
      ]
    },
    {
      "cell_type": "markdown",
      "metadata": {
        "id": "9Ke90SRjpadw"
      },
      "source": [
        "## Spark SQL Data Preparation"
      ]
    },
    {
      "cell_type": "code",
      "execution_count": 5,
      "metadata": {
        "id": "XubJZwnJZctg"
      },
      "outputs": [],
      "source": [
        "from pyspark import SparkFiles\n",
        "\n",
        "# Data from https://www.traffy.in.th/?page_id=27351\n",
        "# Update every 3hr\n",
        "\n",
        "# url = 'https://publicapi.traffy.in.th/dump-csv-chadchart/bangkok_traffy.csv'\n",
        "# spark.sparkContext.addFile(url)"
      ]
    },
    {
      "cell_type": "code",
      "execution_count": 6,
      "metadata": {
        "id": "k5ot4tS8d86v",
        "colab": {
          "base_uri": "https://localhost:8080/"
        },
        "outputId": "9d9d524a-9595-443a-c0d3-2e61a743ae93"
      },
      "outputs": [
        {
          "output_type": "stream",
          "name": "stdout",
          "text": [
            "Downloading...\n",
            "From: https://drive.google.com/uc?id=1Fd1R_ZUBlRGuYwx4AH52u1VKWEbJpV1L\n",
            "To: /content/bangkok_traffy.csv\n",
            "100% 357M/357M [00:04<00:00, 81.0MB/s]\n"
          ]
        }
      ],
      "source": [
        "# download data from google drive\n",
        "# https://drive.google.com/file/d/1Fd1R_ZUBlRGuYwx4AH52u1VKWEbJpV1L/view?usp=share_link\n",
        "# data at 12-May-2023 21:46\n",
        "!gdown 1Fd1R_ZUBlRGuYwx4AH52u1VKWEbJpV1L"
      ]
    },
    {
      "cell_type": "code",
      "execution_count": 7,
      "metadata": {
        "id": "GNH120ckUiey",
        "colab": {
          "base_uri": "https://localhost:8080/"
        },
        "outputId": "1a265964-5f1e-485c-81b0-864898a79e35"
      },
      "outputs": [
        {
          "output_type": "stream",
          "name": "stdout",
          "text": [
            "+-----------+--------------------+--------------------+--------------------+--------------------+--------------------+------------------+--------------------+----------------+-----------------+--------------------+--------------------+--------------+----+------------+--------------------+\n",
            "|  ticket_id|                type|        organization|             comment|               photo|         photo_after|            coords|             address|     subdistrict|         district|            province|           timestamp|         state|star|count_reopen|       last_activity|\n",
            "+-----------+--------------------+--------------------+--------------------+--------------------+--------------------+------------------+--------------------+----------------+-----------------+--------------------+--------------------+--------------+----+------------+--------------------+\n",
            "|2021-9LHDM6|                  {}|                null|            ไม่มีภาพ|https://storage.g...|                null|100.48661,13.79386|1867 จรัญสนิทวงศ์...|         บางพลัด|          บางพลัด|       กรุงเทพมหานคร|2021-09-01 10:44:...|กำลังดำเนินการ|null|        null|2022-02-22 04:59:...|\n",
            "|2021-FYJTFP|         {ความสะอาด}|          เขตบางซื่อ|             ขยะเยอะ|https://storage.g...|                null|100.53084,13.81865|12/14 ถนน กรุงเทพ...|            null|             null|       กรุงเทพมหานคร|2021-09-03 12:51:...|     เสร็จสิ้น|null|        null|2022-06-04 15:34:...|\n",
            "|2021-8GKAR9|             {สายไฟ}|ยังไม่มีหน่วยงานร...|1. เถาวัลย์งอดบนส...|https://storage.g...|                null|100.57685,13.79704|335/31 ลาดพร้าว แ...|       สามเสนนอก|         ห้วยขวาง|จังหวัดกรุงเทพมหานคร|2021-09-19 06:47:...|กำลังดำเนินการ|null|        null|2022-02-22 04:30:...|\n",
            "|2021-AFPUXZ|         {ถนน,สะพาน}|                null|1 ซ่อมทางเท้าหลัง...|https://storage.g...|                null|100.52916,13.72338|37 10 ซอย สีลม 9 ...|            สีลม|           บางรัก|       กรุงเทพมหานคร|2021-09-19 07:40:...|กำลังดำเนินการ|null|        null|2022-02-22 04:30:...|\n",
            "|2021-CGPMUN| {น้ำท่วม,ร้องเรียน}|เขตประเวศ,ฝ่ายโยธ...|น้ำท่วมเวลาฝนตกแล...|https://storage.g...|https://storage.g...|100.66709,13.67891|189 เฉลิมพระเกียร...|         หนองบอน|           ประเวศ|       กรุงเทพมหานคร|2021-09-19 14:56:...|     เสร็จสิ้น|   4|        null|2022-06-21 08:21:...|\n",
            "|2021-8Z8JQ3|{ถนน,ร้องเรียน,น้...|                null|1) พื้นที่นี้ขาดห...|https://storage.g...|                null|100.86190,13.72804|3/8 ขุมทอง-ลำต้อย...|          ขุมทอง|        ลาดกระบัง|       กรุงเทพมหานคร|2021-09-20 00:24:...|กำลังดำเนินการ|null|        null|2022-02-22 04:29:...|\n",
            "|2021-G4FN8W|              {คลอง}|                null|   น้ำเน่าเสียในคลอง|https://storage.g...|                null|100.62298,13.74227|50 พระราม ที่ 9 แ...|         สวนหลวง|          สวนหลวง|       กรุงเทพมหานคร|2021-09-21 05:22:...|กำลังดำเนินการ|null|        null|2022-02-22 04:29:...|\n",
            "|2021-AFJYNF|       {ถนน,น้ำท่วม}|                null|น้ำท่วม เอ่อล้นถน...|https://storage.g...|                null|100.71592,13.73614|3 ถนน พัฒนาชนบท 3...|  คลองสองต้นนุ่น|        ลาดกระบัง|       กรุงเทพมหานคร|2021-09-22 05:06:...|กำลังดำเนินการ|null|        null|2022-02-22 04:29:...|\n",
            "|2021-HAJULK|{ร้องเรียน,ถนน,น้...|                null|มีการยกถนนในซอยเม...|https://storage.g...|                null|100.71661,13.79225|95 ซอย 12 มีนบุรี...|         มีนบุรี|          มีนบุรี|       กรุงเทพมหานคร|2021-09-23 06:25:...|กำลังดำเนินการ|null|        null|2022-02-22 04:29:...|\n",
            "|2021-Q7XMCN|                  {}|                null|งานไม่เสร็จ ควรเก...|https://storage.g...|                null|100.50779,13.79675|1 ถนน จรัญสนิทวงศ...|          บางอ้อ|          บางพลัด|       กรุงเทพมหานคร|2021-09-24 04:15:...|กำลังดำเนินการ|null|        null|2022-02-22 04:29:...|\n",
            "|2021-7XATFA|             {สะพาน}|             เขตสาทร|สะพานลอยปรับปรุงไ...|https://storage.g...|                null|100.52649,13.72060|191/1 ถนน สาทรเหน...|         ยานนาวา|             สาทร|       กรุงเทพมหานคร|2021-09-26 05:03:...|     เสร็จสิ้น|null|        null|2022-06-06 01:17:...|\n",
            "|2021-79YL3M|               {ถนน}|                null|1.ซอยราษฎร์นิมิตร...|https://storage.g...|                null|100.73357,13.91732|147 ซอย ราษฎร์นิม...|   สามวาตะวันออก|        คลองสามวา|       กรุงเทพมหานคร|2021-09-28 23:01:...|กำลังดำเนินการ|null|        null|2022-02-22 04:29:...|\n",
            "|2021-9U2NJT|           {น้ำท่วม}|เขตบางซื่อ,ฝ่ายโย...|             น้ำท่วม|https://storage.g...|https://storage.g...|100.53099,13.81853|12/14 ถนน กรุงเทพ...|            null|             null|       กรุงเทพมหานคร|2021-10-14 10:45:...|     เสร็จสิ้น|null|        null|2022-09-08 08:35:...|\n",
            "|2021-DVJPAV|                  {}|                null|            แสงสว่าง|https://storage.g...|                null|100.54188,13.75913|5 ถนน รางน้ำ แขวง...|        ถนนพญาไท|          ราชเทวี|       กรุงเทพมหานคร|2021-11-07 05:39:...|กำลังดำเนินการ|null|        null|2022-02-22 04:29:...|\n",
            "|2021-F7A2PK|{ท่อระบายน้ำ,ความ...|                null|มีฝาท่อระบายน้ำชำ...|https://storage.g...|                null|100.44755,13.71937|19/31 ซอย เพชรเกษ...|         บางหว้า|        ภาษีเจริญ|       กรุงเทพมหานคร|2021-11-12 02:19:...|กำลังดำเนินการ|null|        null|2022-02-22 04:29:...|\n",
            "|2021-DHG7W7|           {ทางเท้า}|                null|             ทางเท้า|https://storage.g...|                null|100.53548,13.75191|542/26 ถนน เพชรบุ...|        ถนนพญาไท|          ราชเทวี|       กรุงเทพมหานคร|2021-11-14 10:21:...|กำลังดำเนินการ|null|        null|2022-02-22 04:29:...|\n",
            "|2021-DANRZQ|           {ทางเท้า}|                null|             ทางเท้า|https://storage.g...|                null|100.51055,13.74463|326 ถนน พลับพลาไช...|        ป้อมปราบ|ป้อมปราบศัตรูพ่าย|       กรุงเทพมหานคร|2021-11-16 04:16:...|กำลังดำเนินการ|null|        null|2022-02-22 04:29:...|\n",
            "|2021-GANMJA|                  {}|                null|ขอร่วมเป็นพลังทำใ...|https://storage.g...|                null|100.45597,13.72265|206/52 ถนน เพชรเก...|ปากคลองภาษีเจริญ|        ภาษีเจริญ|       กรุงเทพมหานคร|2021-11-23 02:03:...|กำลังดำเนินการ|null|        null|2022-02-22 04:29:...|\n",
            "|2021-94U766|    {คลอง,ความสะอาด}|                null|มีผู้นำขยะมาแยกแล...|https://storage.g...|                null|100.65011,13.71290|17/1 ซอย อ่อนนุช ...|         สวนหลวง|          สวนหลวง|       กรุงเทพมหานคร|2021-11-25 03:43:...|กำลังดำเนินการ|null|        null|2022-02-22 04:29:...|\n",
            "|2021-3MBGD7|                  {}|                null|แจ้งตัวเงินตัวทอง...|https://storage.g...|                null|100.49126,13.73705|59/21 ซอย วัดกัลย...|      วัดกัลยาณ์|           ธนบุรี|       กรุงเทพมหานคร|2021-11-25 09:16:...|กำลังดำเนินการ|null|        null|2022-02-22 04:29:...|\n",
            "+-----------+--------------------+--------------------+--------------------+--------------------+--------------------+------------------+--------------------+----------------+-----------------+--------------------+--------------------+--------------+----+------------+--------------------+\n",
            "only showing top 20 rows\n",
            "\n"
          ]
        }
      ],
      "source": [
        "path = '/content/bangkok_traffy.csv'\n",
        "\n",
        "df = spark.read.option(\"delimiter\", \",\").option(\"multiline\", \"true\").option(\"quote\", '\"').option(\"header\", \"true\").option(\"escape\", \"\\\\\").option(\"escape\", '\"').csv(path)\n",
        "df.show()\n",
        "\n",
        "# df = spark.read.option(\"delimiter\", \",\").option(\"multiline\", \"true\").option(\"quote\", '\"').option(\"header\", \"true\").option(\"escape\", \"\\\\\").option(\"escape\", '\"').csv(\"file://\" + SparkFiles.get(\"bangkok_traffy.csv\"))\n",
        "# df.show()"
      ]
    },
    {
      "cell_type": "code",
      "execution_count": 8,
      "metadata": {
        "id": "3zW8TptTrqIs",
        "colab": {
          "base_uri": "https://localhost:8080/"
        },
        "outputId": "1fc86610-2216-4559-e8f2-a84942794a5d"
      },
      "outputs": [
        {
          "output_type": "execute_result",
          "data": {
            "text/plain": [
              "270632"
            ]
          },
          "metadata": {},
          "execution_count": 8
        }
      ],
      "source": [
        "df.count()"
      ]
    },
    {
      "cell_type": "code",
      "execution_count": 9,
      "metadata": {
        "id": "rZQHAl2jeukE",
        "colab": {
          "base_uri": "https://localhost:8080/"
        },
        "outputId": "d84533b8-91e5-47b5-b3fc-17cd72cbaf0c"
      },
      "outputs": [
        {
          "output_type": "stream",
          "name": "stdout",
          "text": [
            "root\n",
            " |-- ticket_id: string (nullable = true)\n",
            " |-- type: string (nullable = true)\n",
            " |-- organization: string (nullable = true)\n",
            " |-- comment: string (nullable = true)\n",
            " |-- photo: string (nullable = true)\n",
            " |-- photo_after: string (nullable = true)\n",
            " |-- coords: string (nullable = true)\n",
            " |-- address: string (nullable = true)\n",
            " |-- subdistrict: string (nullable = true)\n",
            " |-- district: string (nullable = true)\n",
            " |-- province: string (nullable = true)\n",
            " |-- timestamp: string (nullable = true)\n",
            " |-- state: string (nullable = true)\n",
            " |-- star: string (nullable = true)\n",
            " |-- count_reopen: string (nullable = true)\n",
            " |-- last_activity: string (nullable = true)\n",
            "\n"
          ]
        }
      ],
      "source": [
        "df.printSchema()"
      ]
    },
    {
      "cell_type": "code",
      "execution_count": 10,
      "metadata": {
        "id": "zkSxZwyhhogp"
      },
      "outputs": [],
      "source": [
        "# drop unused column\n",
        "cols = ['ticket_id','photo', 'photo_after']\n",
        "df = df.drop(*cols)"
      ]
    },
    {
      "cell_type": "markdown",
      "metadata": {
        "id": "zQ-tKWmfphpd"
      },
      "source": [
        " ## Convert to proper data type"
      ]
    },
    {
      "cell_type": "code",
      "execution_count": 11,
      "metadata": {
        "id": "I_odU4hugBuz"
      },
      "outputs": [],
      "source": [
        "from pyspark.sql.functions import col\n",
        "cols = ['star', 'count_reopen']\n",
        "for c in cols:\n",
        "    df = df.withColumn(c, col(c).cast('int'))"
      ]
    },
    {
      "cell_type": "code",
      "execution_count": 12,
      "metadata": {
        "id": "yaRYxv0ngvXl"
      },
      "outputs": [],
      "source": [
        "cols = ['timestamp', 'last_activity']\n",
        "for c in cols:\n",
        "    df = df.withColumn(c, col(c).cast('timestamp'))"
      ]
    },
    {
      "cell_type": "code",
      "execution_count": 13,
      "metadata": {
        "id": "2RhnWhrggjc3"
      },
      "outputs": [],
      "source": [
        "from pyspark.sql.functions import split, regexp_replace\n",
        "cols = ['type']\n",
        "for c in cols:\n",
        "    df = df.withColumn(c, split(regexp_replace(col(c), \"[{}]\", \"\"), \",\"))"
      ]
    },
    {
      "cell_type": "code",
      "execution_count": 14,
      "metadata": {
        "id": "XpwmMf9Li1lt"
      },
      "outputs": [],
      "source": [
        "cols = ['organization', 'coords']\n",
        "for c in cols:\n",
        "  df = df.withColumn(c, split(col(c), \",\"))"
      ]
    },
    {
      "cell_type": "code",
      "execution_count": 15,
      "metadata": {
        "id": "D-njdIeXhFjH",
        "colab": {
          "base_uri": "https://localhost:8080/"
        },
        "outputId": "41f53b82-0211-4f24-f08f-5a0c2b602be7"
      },
      "outputs": [
        {
          "output_type": "stream",
          "name": "stdout",
          "text": [
            "root\n",
            " |-- type: array (nullable = true)\n",
            " |    |-- element: string (containsNull = false)\n",
            " |-- organization: array (nullable = true)\n",
            " |    |-- element: string (containsNull = false)\n",
            " |-- comment: string (nullable = true)\n",
            " |-- coords: array (nullable = true)\n",
            " |    |-- element: string (containsNull = false)\n",
            " |-- address: string (nullable = true)\n",
            " |-- subdistrict: string (nullable = true)\n",
            " |-- district: string (nullable = true)\n",
            " |-- province: string (nullable = true)\n",
            " |-- timestamp: timestamp (nullable = true)\n",
            " |-- state: string (nullable = true)\n",
            " |-- star: integer (nullable = true)\n",
            " |-- count_reopen: integer (nullable = true)\n",
            " |-- last_activity: timestamp (nullable = true)\n",
            "\n"
          ]
        }
      ],
      "source": [
        "df.printSchema()"
      ]
    },
    {
      "cell_type": "code",
      "execution_count": 16,
      "metadata": {
        "id": "x7rb_wgkh8sI",
        "colab": {
          "base_uri": "https://localhost:8080/"
        },
        "outputId": "8c29314d-dc91-4743-f66e-52b09704daa5"
      },
      "outputs": [
        {
          "output_type": "stream",
          "name": "stdout",
          "text": [
            "+--------------------+--------------------+--------------------+--------------------+--------------------+----------------+-----------------+--------------------+--------------------+--------------+----+------------+--------------------+\n",
            "|                type|        organization|             comment|              coords|             address|     subdistrict|         district|            province|           timestamp|         state|star|count_reopen|       last_activity|\n",
            "+--------------------+--------------------+--------------------+--------------------+--------------------+----------------+-----------------+--------------------+--------------------+--------------+----+------------+--------------------+\n",
            "|                  []|                null|            ไม่มีภาพ|[100.48661, 13.79...|1867 จรัญสนิทวงศ์...|         บางพลัด|          บางพลัด|       กรุงเทพมหานคร|2021-09-01 10:44:...|กำลังดำเนินการ|null|        null|2022-02-22 04:59:...|\n",
            "|         [ความสะอาด]|        [เขตบางซื่อ]|             ขยะเยอะ|[100.53084, 13.81...|12/14 ถนน กรุงเทพ...|            null|             null|       กรุงเทพมหานคร|2021-09-03 12:51:...|     เสร็จสิ้น|null|        null|2022-06-04 15:34:...|\n",
            "|             [สายไฟ]|[ยังไม่มีหน่วยงาน...|1. เถาวัลย์งอดบนส...|[100.57685, 13.79...|335/31 ลาดพร้าว แ...|       สามเสนนอก|         ห้วยขวาง|จังหวัดกรุงเทพมหานคร|2021-09-19 06:47:...|กำลังดำเนินการ|null|        null|2022-02-22 04:30:...|\n",
            "|        [ถนน, สะพาน]|                null|1 ซ่อมทางเท้าหลัง...|[100.52916, 13.72...|37 10 ซอย สีลม 9 ...|            สีลม|           บางรัก|       กรุงเทพมหานคร|2021-09-19 07:40:...|กำลังดำเนินการ|null|        null|2022-02-22 04:30:...|\n",
            "|[น้ำท่วม, ร้องเรียน]|[เขตประเวศ, ฝ่ายโ...|น้ำท่วมเวลาฝนตกแล...|[100.66709, 13.67...|189 เฉลิมพระเกียร...|         หนองบอน|           ประเวศ|       กรุงเทพมหานคร|2021-09-19 14:56:...|     เสร็จสิ้น|   4|        null|2022-06-21 08:21:...|\n",
            "|[ถนน, ร้องเรียน, ...|                null|1) พื้นที่นี้ขาดห...|[100.86190, 13.72...|3/8 ขุมทอง-ลำต้อย...|          ขุมทอง|        ลาดกระบัง|       กรุงเทพมหานคร|2021-09-20 00:24:...|กำลังดำเนินการ|null|        null|2022-02-22 04:29:...|\n",
            "|              [คลอง]|                null|   น้ำเน่าเสียในคลอง|[100.62298, 13.74...|50 พระราม ที่ 9 แ...|         สวนหลวง|          สวนหลวง|       กรุงเทพมหานคร|2021-09-21 05:22:...|กำลังดำเนินการ|null|        null|2022-02-22 04:29:...|\n",
            "|      [ถนน, น้ำท่วม]|                null|น้ำท่วม เอ่อล้นถน...|[100.71592, 13.73...|3 ถนน พัฒนาชนบท 3...|  คลองสองต้นนุ่น|        ลาดกระบัง|       กรุงเทพมหานคร|2021-09-22 05:06:...|กำลังดำเนินการ|null|        null|2022-02-22 04:29:...|\n",
            "|[ร้องเรียน, ถนน, ...|                null|มีการยกถนนในซอยเม...|[100.71661, 13.79...|95 ซอย 12 มีนบุรี...|         มีนบุรี|          มีนบุรี|       กรุงเทพมหานคร|2021-09-23 06:25:...|กำลังดำเนินการ|null|        null|2022-02-22 04:29:...|\n",
            "|                  []|                null|งานไม่เสร็จ ควรเก...|[100.50779, 13.79...|1 ถนน จรัญสนิทวงศ...|          บางอ้อ|          บางพลัด|       กรุงเทพมหานคร|2021-09-24 04:15:...|กำลังดำเนินการ|null|        null|2022-02-22 04:29:...|\n",
            "|             [สะพาน]|           [เขตสาทร]|สะพานลอยปรับปรุงไ...|[100.52649, 13.72...|191/1 ถนน สาทรเหน...|         ยานนาวา|             สาทร|       กรุงเทพมหานคร|2021-09-26 05:03:...|     เสร็จสิ้น|null|        null|2022-06-06 01:17:...|\n",
            "|               [ถนน]|                null|1.ซอยราษฎร์นิมิตร...|[100.73357, 13.91...|147 ซอย ราษฎร์นิม...|   สามวาตะวันออก|        คลองสามวา|       กรุงเทพมหานคร|2021-09-28 23:01:...|กำลังดำเนินการ|null|        null|2022-02-22 04:29:...|\n",
            "|           [น้ำท่วม]|[เขตบางซื่อ, ฝ่าย...|             น้ำท่วม|[100.53099, 13.81...|12/14 ถนน กรุงเทพ...|            null|             null|       กรุงเทพมหานคร|2021-10-14 10:45:...|     เสร็จสิ้น|null|        null|2022-09-08 08:35:...|\n",
            "|                  []|                null|            แสงสว่าง|[100.54188, 13.75...|5 ถนน รางน้ำ แขวง...|        ถนนพญาไท|          ราชเทวี|       กรุงเทพมหานคร|2021-11-07 05:39:...|กำลังดำเนินการ|null|        null|2022-02-22 04:29:...|\n",
            "|[ท่อระบายน้ำ, ควา...|                null|มีฝาท่อระบายน้ำชำ...|[100.44755, 13.71...|19/31 ซอย เพชรเกษ...|         บางหว้า|        ภาษีเจริญ|       กรุงเทพมหานคร|2021-11-12 02:19:...|กำลังดำเนินการ|null|        null|2022-02-22 04:29:...|\n",
            "|           [ทางเท้า]|                null|             ทางเท้า|[100.53548, 13.75...|542/26 ถนน เพชรบุ...|        ถนนพญาไท|          ราชเทวี|       กรุงเทพมหานคร|2021-11-14 10:21:...|กำลังดำเนินการ|null|        null|2022-02-22 04:29:...|\n",
            "|           [ทางเท้า]|                null|             ทางเท้า|[100.51055, 13.74...|326 ถนน พลับพลาไช...|        ป้อมปราบ|ป้อมปราบศัตรูพ่าย|       กรุงเทพมหานคร|2021-11-16 04:16:...|กำลังดำเนินการ|null|        null|2022-02-22 04:29:...|\n",
            "|                  []|                null|ขอร่วมเป็นพลังทำใ...|[100.45597, 13.72...|206/52 ถนน เพชรเก...|ปากคลองภาษีเจริญ|        ภาษีเจริญ|       กรุงเทพมหานคร|2021-11-23 02:03:...|กำลังดำเนินการ|null|        null|2022-02-22 04:29:...|\n",
            "|   [คลอง, ความสะอาด]|                null|มีผู้นำขยะมาแยกแล...|[100.65011, 13.71...|17/1 ซอย อ่อนนุช ...|         สวนหลวง|          สวนหลวง|       กรุงเทพมหานคร|2021-11-25 03:43:...|กำลังดำเนินการ|null|        null|2022-02-22 04:29:...|\n",
            "|                  []|                null|แจ้งตัวเงินตัวทอง...|[100.49126, 13.73...|59/21 ซอย วัดกัลย...|      วัดกัลยาณ์|           ธนบุรี|       กรุงเทพมหานคร|2021-11-25 09:16:...|กำลังดำเนินการ|null|        null|2022-02-22 04:29:...|\n",
            "+--------------------+--------------------+--------------------+--------------------+--------------------+----------------+-----------------+--------------------+--------------------+--------------+----+------------+--------------------+\n",
            "only showing top 20 rows\n",
            "\n"
          ]
        }
      ],
      "source": [
        "df.show()"
      ]
    },
    {
      "cell_type": "markdown",
      "metadata": {
        "id": "52IjQ3ASa-oP"
      },
      "source": [
        "## Drop null"
      ]
    },
    {
      "cell_type": "code",
      "execution_count": 17,
      "metadata": {
        "id": "XwFRa_u7onyv"
      },
      "outputs": [],
      "source": [
        "# count null\n",
        "import pyspark.sql.functions as F\n",
        "\n",
        "df_agg = df.agg(*[F.count(F.when(F.isnull(c), c)).alias(c) for c in df.columns])"
      ]
    },
    {
      "cell_type": "code",
      "execution_count": 18,
      "metadata": {
        "id": "VqKQF8PmpJ5O",
        "colab": {
          "base_uri": "https://localhost:8080/"
        },
        "outputId": "8bc4e462-0c80-40e8-c330-aa9bbe631ce8"
      },
      "outputs": [
        {
          "output_type": "stream",
          "name": "stdout",
          "text": [
            "+----+------------+-------+------+-------+-----------+--------+--------+---------+-----+------+------------+-------------+\n",
            "|type|organization|comment|coords|address|subdistrict|district|province|timestamp|state|  star|count_reopen|last_activity|\n",
            "+----+------------+-------+------+-------+-----------+--------+--------+---------+-----+------+------------+-------------+\n",
            "|  97|        1002|   2648|     0|   2648|         72|      74|      25|        0|    0|171624|      117695|            0|\n",
            "+----+------------+-------+------+-------+-----------+--------+--------+---------+-----+------+------------+-------------+\n",
            "\n"
          ]
        }
      ],
      "source": [
        "df_agg.show()"
      ]
    },
    {
      "cell_type": "code",
      "execution_count": 19,
      "metadata": {
        "id": "I0PPKipZppQF",
        "colab": {
          "base_uri": "https://localhost:8080/"
        },
        "outputId": "588b467f-ba11-4ac3-bb29-7a8c544f38f4"
      },
      "outputs": [
        {
          "output_type": "stream",
          "name": "stdout",
          "text": [
            "+----+------------+-------+------+-------+-----------+--------+--------+---------+-----+----+------------+-------------+\n",
            "|type|organization|comment|coords|address|subdistrict|district|province|timestamp|state|star|count_reopen|last_activity|\n",
            "+----+------------+-------+------+-------+-----------+--------+--------+---------+-----+----+------------+-------------+\n",
            "+----+------------+-------+------+-------+-----------+--------+--------+---------+-----+----+------------+-------------+\n",
            "\n"
          ]
        }
      ],
      "source": [
        "df.filter(\"last_activity is NULL\").show()"
      ]
    },
    {
      "cell_type": "code",
      "execution_count": 20,
      "metadata": {
        "id": "CkfShJfVq-Yd"
      },
      "outputs": [],
      "source": [
        "# drop rows where last_activity = null\n",
        "df = df.na.drop(subset=[\"last_activity\"])"
      ]
    },
    {
      "cell_type": "code",
      "execution_count": 21,
      "metadata": {
        "id": "Q5B0O8jVrbiP",
        "colab": {
          "base_uri": "https://localhost:8080/"
        },
        "outputId": "db5ab879-56d3-45c3-8d6d-80a7bfa313ea"
      },
      "outputs": [
        {
          "output_type": "execute_result",
          "data": {
            "text/plain": [
              "270632"
            ]
          },
          "metadata": {},
          "execution_count": 21
        }
      ],
      "source": [
        "df.count()"
      ]
    },
    {
      "cell_type": "markdown",
      "metadata": {
        "id": "W8rpFSjKwNk7"
      },
      "source": [
        "## calculate time_to_state"
      ]
    },
    {
      "cell_type": "code",
      "execution_count": 22,
      "metadata": {
        "id": "ZX3vq0NSaii0",
        "colab": {
          "base_uri": "https://localhost:8080/"
        },
        "outputId": "1d5e2689-0e15-4b67-edd9-3168aebcd6c4"
      },
      "outputs": [
        {
          "output_type": "stream",
          "name": "stdout",
          "text": [
            "+--------------------+--------------------+--------------------+--------------------+--------------------+----------------+-----------------+--------------------+--------------------+--------------+----+------------+--------------------+--------------------+\n",
            "|                type|        organization|             comment|              coords|             address|     subdistrict|         district|            province|           timestamp|         state|star|count_reopen|       last_activity|       time_to_state|\n",
            "+--------------------+--------------------+--------------------+--------------------+--------------------+----------------+-----------------+--------------------+--------------------+--------------+----+------------+--------------------+--------------------+\n",
            "|                  []|                null|            ไม่มีภาพ|[100.48661, 13.79...|1867 จรัญสนิทวงศ์...|         บางพลัด|          บางพลัด|       กรุงเทพมหานคร|2021-09-01 10:44:...|กำลังดำเนินการ|null|        null|2022-02-22 04:59:...|INTERVAL '173 18:...|\n",
            "|         [ความสะอาด]|        [เขตบางซื่อ]|             ขยะเยอะ|[100.53084, 13.81...|12/14 ถนน กรุงเทพ...|            null|             null|       กรุงเทพมหานคร|2021-09-03 12:51:...|     เสร็จสิ้น|null|        null|2022-06-04 15:34:...|INTERVAL '274 02:...|\n",
            "|             [สายไฟ]|[ยังไม่มีหน่วยงาน...|1. เถาวัลย์งอดบนส...|[100.57685, 13.79...|335/31 ลาดพร้าว แ...|       สามเสนนอก|         ห้วยขวาง|จังหวัดกรุงเทพมหานคร|2021-09-19 06:47:...|กำลังดำเนินการ|null|        null|2022-02-22 04:30:...|INTERVAL '155 21:...|\n",
            "|        [ถนน, สะพาน]|                null|1 ซ่อมทางเท้าหลัง...|[100.52916, 13.72...|37 10 ซอย สีลม 9 ...|            สีลม|           บางรัก|       กรุงเทพมหานคร|2021-09-19 07:40:...|กำลังดำเนินการ|null|        null|2022-02-22 04:30:...|INTERVAL '155 20:...|\n",
            "|[น้ำท่วม, ร้องเรียน]|[เขตประเวศ, ฝ่ายโ...|น้ำท่วมเวลาฝนตกแล...|[100.66709, 13.67...|189 เฉลิมพระเกียร...|         หนองบอน|           ประเวศ|       กรุงเทพมหานคร|2021-09-19 14:56:...|     เสร็จสิ้น|   4|        null|2022-06-21 08:21:...|INTERVAL '274 17:...|\n",
            "|[ถนน, ร้องเรียน, ...|                null|1) พื้นที่นี้ขาดห...|[100.86190, 13.72...|3/8 ขุมทอง-ลำต้อย...|          ขุมทอง|        ลาดกระบัง|       กรุงเทพมหานคร|2021-09-20 00:24:...|กำลังดำเนินการ|null|        null|2022-02-22 04:29:...|INTERVAL '155 04:...|\n",
            "|              [คลอง]|                null|   น้ำเน่าเสียในคลอง|[100.62298, 13.74...|50 พระราม ที่ 9 แ...|         สวนหลวง|          สวนหลวง|       กรุงเทพมหานคร|2021-09-21 05:22:...|กำลังดำเนินการ|null|        null|2022-02-22 04:29:...|INTERVAL '153 23:...|\n",
            "|      [ถนน, น้ำท่วม]|                null|น้ำท่วม เอ่อล้นถน...|[100.71592, 13.73...|3 ถนน พัฒนาชนบท 3...|  คลองสองต้นนุ่น|        ลาดกระบัง|       กรุงเทพมหานคร|2021-09-22 05:06:...|กำลังดำเนินการ|null|        null|2022-02-22 04:29:...|INTERVAL '152 23:...|\n",
            "|[ร้องเรียน, ถนน, ...|                null|มีการยกถนนในซอยเม...|[100.71661, 13.79...|95 ซอย 12 มีนบุรี...|         มีนบุรี|          มีนบุรี|       กรุงเทพมหานคร|2021-09-23 06:25:...|กำลังดำเนินการ|null|        null|2022-02-22 04:29:...|INTERVAL '151 22:...|\n",
            "|                  []|                null|งานไม่เสร็จ ควรเก...|[100.50779, 13.79...|1 ถนน จรัญสนิทวงศ...|          บางอ้อ|          บางพลัด|       กรุงเทพมหานคร|2021-09-24 04:15:...|กำลังดำเนินการ|null|        null|2022-02-22 04:29:...|INTERVAL '151 00:...|\n",
            "|             [สะพาน]|           [เขตสาทร]|สะพานลอยปรับปรุงไ...|[100.52649, 13.72...|191/1 ถนน สาทรเหน...|         ยานนาวา|             สาทร|       กรุงเทพมหานคร|2021-09-26 05:03:...|     เสร็จสิ้น|null|        null|2022-06-06 01:17:...|INTERVAL '252 20:...|\n",
            "|               [ถนน]|                null|1.ซอยราษฎร์นิมิตร...|[100.73357, 13.91...|147 ซอย ราษฎร์นิม...|   สามวาตะวันออก|        คลองสามวา|       กรุงเทพมหานคร|2021-09-28 23:01:...|กำลังดำเนินการ|null|        null|2022-02-22 04:29:...|INTERVAL '146 05:...|\n",
            "|           [น้ำท่วม]|[เขตบางซื่อ, ฝ่าย...|             น้ำท่วม|[100.53099, 13.81...|12/14 ถนน กรุงเทพ...|            null|             null|       กรุงเทพมหานคร|2021-10-14 10:45:...|     เสร็จสิ้น|null|        null|2022-09-08 08:35:...|INTERVAL '328 21:...|\n",
            "|                  []|                null|            แสงสว่าง|[100.54188, 13.75...|5 ถนน รางน้ำ แขวง...|        ถนนพญาไท|          ราชเทวี|       กรุงเทพมหานคร|2021-11-07 05:39:...|กำลังดำเนินการ|null|        null|2022-02-22 04:29:...|INTERVAL '106 22:...|\n",
            "|[ท่อระบายน้ำ, ควา...|                null|มีฝาท่อระบายน้ำชำ...|[100.44755, 13.71...|19/31 ซอย เพชรเกษ...|         บางหว้า|        ภาษีเจริญ|       กรุงเทพมหานคร|2021-11-12 02:19:...|กำลังดำเนินการ|null|        null|2022-02-22 04:29:...|INTERVAL '102 02:...|\n",
            "|           [ทางเท้า]|                null|             ทางเท้า|[100.53548, 13.75...|542/26 ถนน เพชรบุ...|        ถนนพญาไท|          ราชเทวี|       กรุงเทพมหานคร|2021-11-14 10:21:...|กำลังดำเนินการ|null|        null|2022-02-22 04:29:...|INTERVAL '99 18:0...|\n",
            "|           [ทางเท้า]|                null|             ทางเท้า|[100.51055, 13.74...|326 ถนน พลับพลาไช...|        ป้อมปราบ|ป้อมปราบศัตรูพ่าย|       กรุงเทพมหานคร|2021-11-16 04:16:...|กำลังดำเนินการ|null|        null|2022-02-22 04:29:...|INTERVAL '98 00:1...|\n",
            "|                  []|                null|ขอร่วมเป็นพลังทำใ...|[100.45597, 13.72...|206/52 ถนน เพชรเก...|ปากคลองภาษีเจริญ|        ภาษีเจริญ|       กรุงเทพมหานคร|2021-11-23 02:03:...|กำลังดำเนินการ|null|        null|2022-02-22 04:29:...|INTERVAL '91 02:2...|\n",
            "|   [คลอง, ความสะอาด]|                null|มีผู้นำขยะมาแยกแล...|[100.65011, 13.71...|17/1 ซอย อ่อนนุช ...|         สวนหลวง|          สวนหลวง|       กรุงเทพมหานคร|2021-11-25 03:43:...|กำลังดำเนินการ|null|        null|2022-02-22 04:29:...|INTERVAL '89 00:4...|\n",
            "|                  []|                null|แจ้งตัวเงินตัวทอง...|[100.49126, 13.73...|59/21 ซอย วัดกัลย...|      วัดกัลยาณ์|           ธนบุรี|       กรุงเทพมหานคร|2021-11-25 09:16:...|กำลังดำเนินการ|null|        null|2022-02-22 04:29:...|INTERVAL '88 19:1...|\n",
            "+--------------------+--------------------+--------------------+--------------------+--------------------+----------------+-----------------+--------------------+--------------------+--------------+----+------------+--------------------+--------------------+\n",
            "only showing top 20 rows\n",
            "\n"
          ]
        }
      ],
      "source": [
        "from pyspark.sql.functions import expr\n",
        "\n",
        "# calculate time_to_state\n",
        "df = df.withColumn(\"time_to_state\", expr(\"last_activity - timestamp\"))\n",
        "df.show()"
      ]
    },
    {
      "cell_type": "markdown",
      "metadata": {
        "id": "OGTi-NOVwghg"
      },
      "source": [
        "## (Run everything before this, after this is optional)"
      ]
    },
    {
      "cell_type": "markdown",
      "metadata": {
        "id": "rogCMq1uXAZn"
      },
      "source": [
        "## Visualization Start here"
      ]
    },
    {
      "cell_type": "markdown",
      "metadata": {
        "id": "E8P61ry0a7Vs"
      },
      "source": [
        "## Focus on state"
      ]
    },
    {
      "cell_type": "code",
      "execution_count": 23,
      "metadata": {
        "id": "LUvDmcZ4aIey",
        "colab": {
          "base_uri": "https://localhost:8080/"
        },
        "outputId": "059f7339-ec84-49ce-8b11-ada462518fc5"
      },
      "outputs": [
        {
          "output_type": "stream",
          "name": "stdout",
          "text": [
            "+--------------+------+\n",
            "|         state| count|\n",
            "+--------------+------+\n",
            "|   รอรับเรื่อง| 18789|\n",
            "|กำลังดำเนินการ| 49452|\n",
            "|     เสร็จสิ้น|202391|\n",
            "+--------------+------+\n",
            "\n"
          ]
        }
      ],
      "source": [
        "df_state_1 = df.groupby('state').count()\n",
        "df_state_1.show()"
      ]
    },
    {
      "cell_type": "code",
      "execution_count": 24,
      "metadata": {
        "id": "cy4Cpn9Khb2S"
      },
      "outputs": [],
      "source": [
        "df_state_1.write.option(\"header\", \"true\").csv(path=\"/content/spark_output/state_1\")"
      ]
    },
    {
      "cell_type": "code",
      "execution_count": 25,
      "metadata": {
        "id": "YRwvwiQubN6M",
        "colab": {
          "base_uri": "https://localhost:8080/"
        },
        "outputId": "c0d3adfe-366c-40cb-aec0-103dfee8730c"
      },
      "outputs": [
        {
          "output_type": "stream",
          "name": "stdout",
          "text": [
            "+--------------+-------------------------------------------+-------------------------------------------+--------------------------------------------+\n",
            "|state         |min_time_to_state                          |avg_time_to_state                          |max_time_to_state                           |\n",
            "+--------------+-------------------------------------------+-------------------------------------------+--------------------------------------------+\n",
            "|รอรับเรื่อง   |INTERVAL '-0 00:00:00.072412' DAY TO SECOND|INTERVAL '11 08:59:13.817943' DAY TO SECOND|INTERVAL '336 11:49:58.788722' DAY TO SECOND|\n",
            "|กำลังดำเนินการ|INTERVAL '0 00:00:20.096892' DAY TO SECOND |INTERVAL '85 11:27:45.573835' DAY TO SECOND|INTERVAL '490 15:06:39.707912' DAY TO SECOND|\n",
            "|เสร็จสิ้น     |INTERVAL '0 00:00:14.963721' DAY TO SECOND |INTERVAL '43 15:18:58.701763' DAY TO SECOND|INTERVAL '464 10:21:28.527899' DAY TO SECOND|\n",
            "+--------------+-------------------------------------------+-------------------------------------------+--------------------------------------------+\n",
            "\n"
          ]
        }
      ],
      "source": [
        "from pyspark.sql.functions import min, avg, max\n",
        "\n",
        "df_state_2 = df.groupby('state').agg(min('time_to_state').alias('min_time_to_state'),\n",
        "                         avg('time_to_state').alias('avg_time_to_state'),\n",
        "                         max('time_to_state').alias('max_time_to_state'))\n",
        "df_state_2.show(20, False)"
      ]
    },
    {
      "cell_type": "code",
      "execution_count": 26,
      "metadata": {
        "id": "qr3evPfBkf2Z"
      },
      "outputs": [],
      "source": [
        "df_state_2.write.option(\"header\", \"true\").csv(path=\"/content/spark_output/state_2\")"
      ]
    },
    {
      "cell_type": "code",
      "execution_count": 27,
      "metadata": {
        "id": "CGtE9teVhcRk",
        "colab": {
          "base_uri": "https://localhost:8080/"
        },
        "outputId": "9af9fc03-b824-4391-82db-7a5a816be5dc"
      },
      "outputs": [
        {
          "output_type": "stream",
          "name": "stdout",
          "text": [
            "+----+-----+-----+\n",
            "|year|month|count|\n",
            "+----+-----+-----+\n",
            "|2021|    9|   12|\n",
            "|2021|   10|    1|\n",
            "|2021|   11|    7|\n",
            "|2021|   12|  162|\n",
            "|2022|    1|  160|\n",
            "|2022|    2|  172|\n",
            "|2022|    3|  108|\n",
            "|2022|    4|   24|\n",
            "|2022|    5| 2215|\n",
            "|2022|    6|61633|\n",
            "|2022|    7|40880|\n",
            "|2022|    8|27047|\n",
            "|2022|    9|22327|\n",
            "|2022|   10|13520|\n",
            "|2022|   11|11481|\n",
            "|2022|   12|11379|\n",
            "|2023|    1|18591|\n",
            "|2023|    2|18578|\n",
            "|2023|    3|18211|\n",
            "|2023|    4|17620|\n",
            "+----+-----+-----+\n",
            "only showing top 20 rows\n",
            "\n"
          ]
        }
      ],
      "source": [
        "from pyspark.sql.functions import year, month\n",
        "\n",
        "df_state_3 = df.groupBy(year('timestamp').alias('year'), month('timestamp').alias('month')).count().orderBy('year', 'month')\n",
        "df_state_3.show()"
      ]
    },
    {
      "cell_type": "code",
      "execution_count": 28,
      "metadata": {
        "id": "4GRa0iQlktQE"
      },
      "outputs": [],
      "source": [
        "df_state_3.write.option(\"header\", \"true\").csv(path=\"/content/spark_output/state_3\")"
      ]
    },
    {
      "cell_type": "code",
      "execution_count": 29,
      "metadata": {
        "id": "N5SnidwOh0nC",
        "colab": {
          "base_uri": "https://localhost:8080/"
        },
        "outputId": "57488e48-a545-4ebf-d496-fc5793ca0b19"
      },
      "outputs": [
        {
          "output_type": "stream",
          "name": "stdout",
          "text": [
            "+----+-----+--------------+---------+--------------------------------------------+--------------------------------------------+--------------------------------------------+\n",
            "|year|month|state         |row_count|min_time_to_state                           |avg_time_to_state                           |max_time_to_state                           |\n",
            "+----+-----+--------------+---------+--------------------------------------------+--------------------------------------------+--------------------------------------------+\n",
            "|2021|9    |กำลังดำเนินการ|9        |INTERVAL '146 05:28:39.035754' DAY TO SECOND|INTERVAL '155 04:47:42.703305' DAY TO SECOND|INTERVAL '173 18:15:03.269059' DAY TO SECOND|\n",
            "|2021|11   |กำลังดำเนินการ|7        |INTERVAL '88 19:12:22.087276' DAY TO SECOND |INTERVAL '96 12:49:23.998591' DAY TO SECOND |INTERVAL '106 22:50:33.926335' DAY TO SECOND|\n",
            "|2021|12   |กำลังดำเนินการ|154      |INTERVAL '53 15:25:27.671055' DAY TO SECOND |INTERVAL '72 09:29:42.934666' DAY TO SECOND |INTERVAL '490 15:06:39.707912' DAY TO SECOND|\n",
            "|2022|1    |กำลังดำเนินการ|141      |INTERVAL '1 00:16:03.469818' DAY TO SECOND  |INTERVAL '40 18:18:42.892296' DAY TO SECOND |INTERVAL '436 03:44:36.774446' DAY TO SECOND|\n",
            "|2022|2    |กำลังดำเนินการ|135      |INTERVAL '0 00:07:32.783504' DAY TO SECOND  |INTERVAL '19 17:04:32.502368' DAY TO SECOND |INTERVAL '34 13:27:09.694321' DAY TO SECOND |\n",
            "|2022|3    |กำลังดำเนินการ|56       |INTERVAL '0 00:09:02.044879' DAY TO SECOND  |INTERVAL '8 03:14:28.417148' DAY TO SECOND  |INTERVAL '14 03:46:57.2433' DAY TO SECOND   |\n",
            "|2022|4    |กำลังดำเนินการ|3        |INTERVAL '0 00:21:46.498694' DAY TO SECOND  |INTERVAL '0 01:17:44.596285' DAY TO SECOND  |INTERVAL '0 03:04:48.581927' DAY TO SECOND  |\n",
            "|2022|5    |กำลังดำเนินการ|300      |INTERVAL '0 00:08:07.83527' DAY TO SECOND   |INTERVAL '188 22:50:20.321427' DAY TO SECOND|INTERVAL '345 15:36:29.466884' DAY TO SECOND|\n",
            "|2022|6    |กำลังดำเนินการ|10050    |INTERVAL '0 00:00:49.692751' DAY TO SECOND  |INTERVAL '171 19:44:53.501858' DAY TO SECOND|INTERVAL '343 17:26:22.583019' DAY TO SECOND|\n",
            "|2022|7    |กำลังดำเนินการ|6382     |INTERVAL '0 00:00:45.329832' DAY TO SECOND  |INTERVAL '152 10:39:04.0509' DAY TO SECOND  |INTERVAL '313 17:01:46.374524' DAY TO SECOND|\n",
            "|2022|8    |กำลังดำเนินการ|3725     |INTERVAL '0 00:01:01.444985' DAY TO SECOND  |INTERVAL '127 01:54:46.113313' DAY TO SECOND|INTERVAL '280 05:26:47.973186' DAY TO SECOND|\n",
            "|2022|9    |กำลังดำเนินการ|2680     |INTERVAL '0 00:01:30.558359' DAY TO SECOND  |INTERVAL '108 14:02:38.587772' DAY TO SECOND|INTERVAL '250 20:26:40.345769' DAY TO SECOND|\n",
            "|2022|10   |กำลังดำเนินการ|1815     |INTERVAL '0 00:06:19.202534' DAY TO SECOND  |INTERVAL '92 05:58:24.53955' DAY TO SECOND  |INTERVAL '215 09:42:01.894918' DAY TO SECOND|\n",
            "|2022|11   |กำลังดำเนินการ|1675     |INTERVAL '0 00:03:20.34248' DAY TO SECOND   |INTERVAL '77 00:12:56.217103' DAY TO SECOND |INTERVAL '190 23:58:24.469041' DAY TO SECOND|\n",
            "|2022|12   |กำลังดำเนินการ|1931     |INTERVAL '0 00:04:27.065783' DAY TO SECOND  |INTERVAL '59 02:37:54.766842' DAY TO SECOND |INTERVAL '157 23:45:15.309787' DAY TO SECOND|\n",
            "|2023|1    |กำลังดำเนินการ|3351     |INTERVAL '0 00:01:32.882429' DAY TO SECOND  |INTERVAL '33 10:38:59.892491' DAY TO SECOND |INTERVAL '129 23:26:11.949618' DAY TO SECOND|\n",
            "|2023|2    |กำลังดำเนินการ|4023     |INTERVAL '0 00:00:36.639412' DAY TO SECOND  |INTERVAL '20 09:41:30.44899' DAY TO SECOND  |INTERVAL '98 16:41:52.432485' DAY TO SECOND |\n",
            "|2023|3    |กำลังดำเนินการ|4318     |INTERVAL '0 00:01:03.043982' DAY TO SECOND  |INTERVAL '11 14:15:35.481893' DAY TO SECOND |INTERVAL '70 13:56:37.702674' DAY TO SECOND |\n",
            "|2023|4    |กำลังดำเนินการ|5563     |INTERVAL '0 00:00:23.144336' DAY TO SECOND  |INTERVAL '4 11:57:44.958438' DAY TO SECOND  |INTERVAL '40 07:24:09.172045' DAY TO SECOND |\n",
            "|2023|5    |กำลังดำเนินการ|3134     |INTERVAL '0 00:00:20.096892' DAY TO SECOND  |INTERVAL '1 09:26:03.533399' DAY TO SECOND  |INTERVAL '9 21:40:38.132358' DAY TO SECOND  |\n",
            "|2022|2    |รอรับเรื่อง   |8        |INTERVAL '0 00:00:00.497978' DAY TO SECOND  |INTERVAL '0 00:00:00.59953' DAY TO SECOND   |INTERVAL '0 00:00:00.764591' DAY TO SECOND  |\n",
            "|2022|3    |รอรับเรื่อง   |34       |INTERVAL '0 00:00:00.453261' DAY TO SECOND  |INTERVAL '1 15:43:06.697259' DAY TO SECOND  |INTERVAL '56 06:25:26.396403' DAY TO SECOND |\n",
            "|2022|4    |รอรับเรื่อง   |20       |INTERVAL '0 00:00:00.428851' DAY TO SECOND  |INTERVAL '0 00:00:00.626004' DAY TO SECOND  |INTERVAL '0 00:00:00.940276' DAY TO SECOND  |\n",
            "|2022|5    |รอรับเรื่อง   |123      |INTERVAL '0 00:00:00.331278' DAY TO SECOND  |INTERVAL '13 12:56:53.676071' DAY TO SECOND |INTERVAL '302 23:29:29.85021' DAY TO SECOND |\n",
            "|2022|6    |รอรับเรื่อง   |1537     |INTERVAL '0 00:00:00.326533' DAY TO SECOND  |INTERVAL '56 23:20:38.557211' DAY TO SECOND |INTERVAL '336 11:49:58.788722' DAY TO SECOND|\n",
            "|2022|7    |รอรับเรื่อง   |2315     |INTERVAL '0 00:00:00' DAY TO SECOND         |INTERVAL '20 11:28:39.214964' DAY TO SECOND |INTERVAL '310 17:21:04.078381' DAY TO SECOND|\n",
            "|2022|8    |รอรับเรื่อง   |1760     |INTERVAL '0 00:00:00' DAY TO SECOND         |INTERVAL '14 19:34:37.650689' DAY TO SECOND |INTERVAL '259 01:58:20.736821' DAY TO SECOND|\n",
            "|2022|9    |รอรับเรื่อง   |1532     |INTERVAL '0 00:00:00.273266' DAY TO SECOND  |INTERVAL '9 06:35:53.860785' DAY TO SECOND  |INTERVAL '240 08:41:42.784796' DAY TO SECOND|\n",
            "|2022|10   |รอรับเรื่อง   |1105     |INTERVAL '0 00:00:00.642624' DAY TO SECOND  |INTERVAL '7 05:34:47.225313' DAY TO SECOND  |INTERVAL '216 01:04:39.278505' DAY TO SECOND|\n",
            "|2022|11   |รอรับเรื่อง   |1174     |INTERVAL '0 00:00:00.520939' DAY TO SECOND  |INTERVAL '6 12:03:39.780627' DAY TO SECOND  |INTERVAL '185 19:44:26.902455' DAY TO SECOND|\n",
            "|2022|12   |รอรับเรื่อง   |1126     |INTERVAL '0 00:00:00.424223' DAY TO SECOND  |INTERVAL '5 16:16:54.608468' DAY TO SECOND  |INTERVAL '156 19:33:07.814031' DAY TO SECOND|\n",
            "|2023|1    |รอรับเรื่อง   |1481     |INTERVAL '0 00:00:00.541712' DAY TO SECOND  |INTERVAL '3 01:25:30.78235' DAY TO SECOND   |INTERVAL '117 14:08:14.301285' DAY TO SECOND|\n",
            "|2023|2    |รอรับเรื่อง   |1453     |INTERVAL '-0 00:00:00.014532' DAY TO SECOND |INTERVAL '2 13:12:03.085871' DAY TO SECOND  |INTERVAL '93 23:09:31.720771' DAY TO SECOND |\n",
            "|2023|3    |รอรับเรื่อง   |1709     |INTERVAL '-0 00:00:00.01573' DAY TO SECOND  |INTERVAL '1 20:33:58.985002' DAY TO SECOND  |INTERVAL '67 11:56:40.707871' DAY TO SECOND |\n",
            "|2023|4    |รอรับเรื่อง   |1984     |INTERVAL '-0 00:00:00.020084' DAY TO SECOND |INTERVAL '1 06:56:51.003992' DAY TO SECOND  |INTERVAL '39 10:30:25.50094' DAY TO SECOND  |\n",
            "|2023|5    |รอรับเรื่อง   |1428     |INTERVAL '-0 00:00:00.072412' DAY TO SECOND |INTERVAL '0 12:32:46.784211' DAY TO SECOND  |INTERVAL '10 19:57:41.322893' DAY TO SECOND |\n",
            "|2021|9    |เสร็จสิ้น     |3        |INTERVAL '252 20:13:19.678006' DAY TO SECOND|INTERVAL '267 05:27:08.480666' DAY TO SECOND|INTERVAL '274 17:25:00.60779' DAY TO SECOND |\n",
            "|2021|10   |เสร็จสิ้น     |1        |INTERVAL '328 21:50:16.070635' DAY TO SECOND|INTERVAL '328 21:50:16.070635' DAY TO SECOND|INTERVAL '328 21:50:16.070635' DAY TO SECOND|\n",
            "|2021|12   |เสร็จสิ้น     |8        |INTERVAL '165 18:30:31.868194' DAY TO SECOND|INTERVAL '235 14:58:18.016668' DAY TO SECOND|INTERVAL '456 06:15:38.086373' DAY TO SECOND|\n",
            "|2022|1    |เสร็จสิ้น     |19       |INTERVAL '29 10:34:33.640251' DAY TO SECOND |INTERVAL '186 18:31:16.307354' DAY TO SECOND|INTERVAL '464 10:21:28.527899' DAY TO SECOND|\n",
            "|2022|2    |เสร็จสิ้น     |29       |INTERVAL '0 00:01:49.822306' DAY TO SECOND  |INTERVAL '85 04:21:34.447804' DAY TO SECOND |INTERVAL '433 21:32:48.546884' DAY TO SECOND|\n",
            "|2022|3    |เสร็จสิ้น     |18       |INTERVAL '3 17:44:05.338734' DAY TO SECOND  |INTERVAL '84 12:09:51.416675' DAY TO SECOND |INTERVAL '277 22:42:16.145485' DAY TO SECOND|\n",
            "|2022|4    |เสร็จสิ้น     |1        |INTERVAL '5 14:51:51.753647' DAY TO SECOND  |INTERVAL '5 14:51:51.753647' DAY TO SECOND  |INTERVAL '5 14:51:51.753647' DAY TO SECOND  |\n",
            "|2022|5    |เสร็จสิ้น     |1792     |INTERVAL '0 00:01:47.375438' DAY TO SECOND  |INTERVAL '82 03:55:59.25641' DAY TO SECOND  |INTERVAL '345 21:09:21.609915' DAY TO SECOND|\n",
            "|2022|6    |เสร็จสิ้น     |50046    |INTERVAL '0 00:00:42.499754' DAY TO SECOND  |INTERVAL '72 22:00:56.97856' DAY TO SECOND  |INTERVAL '343 05:04:54.883538' DAY TO SECOND|\n",
            "|2022|7    |เสร็จสิ้น     |32183    |INTERVAL '0 00:00:14.963721' DAY TO SECOND  |INTERVAL '61 17:40:38.067199' DAY TO SECOND |INTERVAL '312 16:22:37.987368' DAY TO SECOND|\n",
            "|2022|8    |เสร็จสิ้น     |21562    |INTERVAL '0 00:00:22.599861' DAY TO SECOND  |INTERVAL '48 02:50:17.709248' DAY TO SECOND |INTERVAL '283 11:11:53.366542' DAY TO SECOND|\n",
            "|2022|9    |เสร็จสิ้น     |18115    |INTERVAL '0 00:00:21.569294' DAY TO SECOND  |INTERVAL '39 18:01:04.976409' DAY TO SECOND |INTERVAL '250 14:45:40.542789' DAY TO SECOND|\n",
            "|2022|10   |เสร็จสิ้น     |10600    |INTERVAL '0 00:02:36.164133' DAY TO SECOND  |INTERVAL '31 18:19:17.794628' DAY TO SECOND |INTERVAL '219 16:37:18.863385' DAY TO SECOND|\n",
            "|2022|11   |เสร็จสิ้น     |8632     |INTERVAL '0 00:03:07.214419' DAY TO SECOND  |INTERVAL '27 05:01:59.240307' DAY TO SECOND |INTERVAL '188 05:05:41.649267' DAY TO SECOND|\n",
            "|2022|12   |เสร็จสิ้น     |8322     |INTERVAL '0 00:03:27.033628' DAY TO SECOND  |INTERVAL '22 20:08:33.306092' DAY TO SECOND |INTERVAL '160 20:10:41.670251' DAY TO SECOND|\n",
            "|2023|1    |เสร็จสิ้น     |13759    |INTERVAL '0 00:02:20.235263' DAY TO SECOND  |INTERVAL '15 07:26:16.734781' DAY TO SECOND |INTERVAL '128 02:57:28.174256' DAY TO SECOND|\n",
            "|2023|2    |เสร็จสิ้น     |13102    |INTERVAL '0 00:03:11.923676' DAY TO SECOND  |INTERVAL '10 20:32:19.977918' DAY TO SECOND |INTERVAL '98 12:50:28.05708' DAY TO SECOND  |\n",
            "|2023|3    |เสร็จสิ้น     |12184    |INTERVAL '0 00:03:51.839721' DAY TO SECOND  |INTERVAL '8 12:51:55.615545' DAY TO SECOND  |INTERVAL '70 15:27:31.925111' DAY TO SECOND |\n",
            "|2023|4    |เสร็จสิ้น     |10073    |INTERVAL '0 00:01:40.246213' DAY TO SECOND  |INTERVAL '5 15:39:24.438787' DAY TO SECOND  |INTERVAL '40 03:32:55.451718' DAY TO SECOND |\n",
            "|2023|5    |เสร็จสิ้น     |1942     |INTERVAL '0 00:05:14.834055' DAY TO SECOND  |INTERVAL '2 14:03:08.071144' DAY TO SECOND  |INTERVAL '10 16:06:30.847333' DAY TO SECOND |\n",
            "+----+-----+--------------+---------+--------------------------------------------+--------------------------------------------+--------------------------------------------+\n",
            "\n"
          ]
        }
      ],
      "source": [
        "from pyspark.sql.functions import year, month, count\n",
        "\n",
        "df_state_4 = df.groupBy(year('timestamp').alias('year'), month('timestamp').alias('month'), 'state')\\\n",
        "  .agg(count('time_to_state').alias('row_count'),\n",
        "       min('time_to_state').alias('min_time_to_state'),\n",
        "       avg('time_to_state').alias('avg_time_to_state'),\n",
        "       max('time_to_state').alias('max_time_to_state'))\\\n",
        "  .orderBy('state','year', 'month')\n",
        "df_state_4.show(100, False)"
      ]
    },
    {
      "cell_type": "code",
      "execution_count": 30,
      "metadata": {
        "id": "OGZBHq10kzRK"
      },
      "outputs": [],
      "source": [
        "df_state_4.write.option(\"header\", \"true\").csv(path=\"/content/spark_output/state_4\")"
      ]
    },
    {
      "cell_type": "code",
      "execution_count": 31,
      "metadata": {
        "id": "nlkVCTbYkzhA",
        "colab": {
          "base_uri": "https://localhost:8080/"
        },
        "outputId": "09f0329c-69b3-4d5d-dcc9-144cdb38b944"
      },
      "outputs": [
        {
          "output_type": "stream",
          "name": "stdout",
          "text": [
            "+----+-----+--------------+---------+-----------+--------------------+\n",
            "|year|month|state         |row_count|total_count|state_ratio         |\n",
            "+----+-----+--------------+---------+-----------+--------------------+\n",
            "|2021|9    |กำลังดำเนินการ|9        |12         |0.75                |\n",
            "|2021|9    |เสร็จสิ้น     |3        |12         |0.25                |\n",
            "|2021|10   |เสร็จสิ้น     |1        |1          |1.0                 |\n",
            "|2021|11   |กำลังดำเนินการ|7        |7          |1.0                 |\n",
            "|2021|12   |กำลังดำเนินการ|154      |162        |0.9506172839506173  |\n",
            "|2021|12   |เสร็จสิ้น     |8        |162        |0.04938271604938271 |\n",
            "|2022|1    |กำลังดำเนินการ|141      |160        |0.88125             |\n",
            "|2022|1    |เสร็จสิ้น     |19       |160        |0.11875             |\n",
            "|2022|2    |กำลังดำเนินการ|135      |172        |0.7848837209302325  |\n",
            "|2022|2    |รอรับเรื่อง   |8        |172        |0.046511627906976744|\n",
            "|2022|2    |เสร็จสิ้น     |29       |172        |0.1686046511627907  |\n",
            "|2022|3    |กำลังดำเนินการ|56       |108        |0.5185185185185185  |\n",
            "|2022|3    |รอรับเรื่อง   |34       |108        |0.3148148148148148  |\n",
            "|2022|3    |เสร็จสิ้น     |18       |108        |0.16666666666666666 |\n",
            "|2022|4    |กำลังดำเนินการ|3        |24         |0.125               |\n",
            "|2022|4    |รอรับเรื่อง   |20       |24         |0.8333333333333334  |\n",
            "|2022|4    |เสร็จสิ้น     |1        |24         |0.041666666666666664|\n",
            "|2022|5    |กำลังดำเนินการ|300      |2215       |0.13544018058690746 |\n",
            "|2022|5    |รอรับเรื่อง   |123      |2215       |0.05553047404063206 |\n",
            "|2022|5    |เสร็จสิ้น     |1792     |2215       |0.8090293453724605  |\n",
            "|2022|6    |กำลังดำเนินการ|10050    |61633      |0.16306199600863175 |\n",
            "|2022|6    |รอรับเรื่อง   |1537     |61633      |0.02493793909107134 |\n",
            "|2022|6    |เสร็จสิ้น     |50046    |61633      |0.812000064900297   |\n",
            "|2022|7    |กำลังดำเนินการ|6382     |40880      |0.15611545988258316 |\n",
            "|2022|7    |รอรับเรื่อง   |2315     |40880      |0.05662915851272016 |\n",
            "|2022|7    |เสร็จสิ้น     |32183    |40880      |0.7872553816046967  |\n",
            "|2022|8    |กำลังดำเนินการ|3725     |27047      |0.13772322253854402 |\n",
            "|2022|8    |รอรับเรื่อง   |1760     |27047      |0.06507191185713758 |\n",
            "|2022|8    |เสร็จสิ้น     |21562    |27047      |0.7972048656043184  |\n",
            "|2022|9    |กำลังดำเนินการ|2680     |22327      |0.12003403950373986 |\n",
            "|2022|9    |รอรับเรื่อง   |1532     |22327      |0.06861647332825727 |\n",
            "|2022|9    |เสร็จสิ้น     |18115    |22327      |0.8113494871680028  |\n",
            "|2022|10   |กำลังดำเนินการ|1815     |13520      |0.13424556213017752 |\n",
            "|2022|10   |รอรับเรื่อง   |1105     |13520      |0.08173076923076923 |\n",
            "|2022|10   |เสร็จสิ้น     |10600    |13520      |0.7840236686390533  |\n",
            "|2022|11   |กำลังดำเนินการ|1675     |11481      |0.14589321487675289 |\n",
            "|2022|11   |รอรับเรื่อง   |1174     |11481      |0.10225590105391516 |\n",
            "|2022|11   |เสร็จสิ้น     |8632     |11481      |0.751850884069332   |\n",
            "|2022|12   |กำลังดำเนินการ|1931     |11379      |0.16969856753669038 |\n",
            "|2022|12   |รอรับเรื่อง   |1126     |11379      |0.09895421390280341 |\n",
            "|2022|12   |เสร็จสิ้น     |8322     |11379      |0.7313472185605062  |\n",
            "|2023|1    |กำลังดำเนินการ|3351     |18591      |0.1802485073422624  |\n",
            "|2023|1    |รอรับเรื่อง   |1481     |18591      |0.07966220214082083 |\n",
            "|2023|1    |เสร็จสิ้น     |13759    |18591      |0.7400892905169167  |\n",
            "|2023|2    |กำลังดำเนินการ|4023     |18578      |0.21654645279362686 |\n",
            "|2023|2    |รอรับเรื่อง   |1453     |18578      |0.07821078695230918 |\n",
            "|2023|2    |เสร็จสิ้น     |13102    |18578      |0.705242760254064   |\n",
            "|2023|3    |กำลังดำเนินการ|4318     |18211      |0.2371094393498435  |\n",
            "|2023|3    |รอรับเรื่อง   |1709     |18211      |0.0938443797704684  |\n",
            "|2023|3    |เสร็จสิ้น     |12184    |18211      |0.6690461808796881  |\n",
            "|2023|4    |กำลังดำเนินการ|5563     |17620      |0.3157207718501703  |\n",
            "|2023|4    |รอรับเรื่อง   |1984     |17620      |0.11259931895573212 |\n",
            "|2023|4    |เสร็จสิ้น     |10073    |17620      |0.5716799091940976  |\n",
            "|2023|5    |กำลังดำเนินการ|3134     |6504       |0.48185731857318576 |\n",
            "|2023|5    |รอรับเรื่อง   |1428     |6504       |0.21955719557195572 |\n",
            "|2023|5    |เสร็จสิ้น     |1942     |6504       |0.29858548585485856 |\n",
            "+----+-----+--------------+---------+-----------+--------------------+\n",
            "\n"
          ]
        }
      ],
      "source": [
        "from pyspark.sql.functions import year, month, count, sum, col\n",
        "\n",
        "df_count = df.groupBy(year('timestamp').alias('year'), month('timestamp').alias('month'), 'state') \\\n",
        "             .agg(count('time_to_state').alias('row_count'))\n",
        "\n",
        "df_total_count = df_count.groupBy('year', 'month') \\\n",
        "                         .agg(sum('row_count').alias('total_count'))\n",
        "\n",
        "df_ratio = df_count.join(df_total_count, ['year', 'month']) \\\n",
        "                   .withColumn('state_ratio', col('row_count') / col('total_count')) \\\n",
        "                   \n",
        "\n",
        "df_state_5 = df_ratio.orderBy('year', 'month','state')\n",
        "df_state_5.show(100, False)"
      ]
    },
    {
      "cell_type": "code",
      "execution_count": 32,
      "metadata": {
        "id": "Y1qevqNVlCXg"
      },
      "outputs": [],
      "source": [
        "df_state_5.write.option(\"header\", \"true\").csv(path=\"/content/spark_output/state_5\")"
      ]
    },
    {
      "cell_type": "code",
      "execution_count": 33,
      "metadata": {
        "id": "OtGx1Lh9oE45",
        "colab": {
          "base_uri": "https://localhost:8080/"
        },
        "outputId": "3a52c198-5cec-45e4-e519-4182705f0d2a"
      },
      "outputs": [
        {
          "output_type": "stream",
          "name": "stdout",
          "text": [
            "+----+-----+--------------+---------+-----------+--------------------+\n",
            "|year|month|state         |row_count|total_count|state_ratio         |\n",
            "+----+-----+--------------+---------+-----------+--------------------+\n",
            "|2021|9    |กำลังดำเนินการ|9        |12         |0.75                |\n",
            "|2021|11   |กำลังดำเนินการ|7        |7          |1.0                 |\n",
            "|2021|12   |กำลังดำเนินการ|154      |162        |0.9506172839506173  |\n",
            "|2022|1    |กำลังดำเนินการ|141      |160        |0.88125             |\n",
            "|2022|2    |กำลังดำเนินการ|135      |172        |0.7848837209302325  |\n",
            "|2022|3    |กำลังดำเนินการ|56       |108        |0.5185185185185185  |\n",
            "|2022|4    |กำลังดำเนินการ|3        |24         |0.125               |\n",
            "|2022|5    |กำลังดำเนินการ|300      |2215       |0.13544018058690746 |\n",
            "|2022|6    |กำลังดำเนินการ|10050    |61633      |0.16306199600863175 |\n",
            "|2022|7    |กำลังดำเนินการ|6382     |40880      |0.15611545988258316 |\n",
            "|2022|8    |กำลังดำเนินการ|3725     |27047      |0.13772322253854402 |\n",
            "|2022|9    |กำลังดำเนินการ|2680     |22327      |0.12003403950373986 |\n",
            "|2022|10   |กำลังดำเนินการ|1815     |13520      |0.13424556213017752 |\n",
            "|2022|11   |กำลังดำเนินการ|1675     |11481      |0.14589321487675289 |\n",
            "|2022|12   |กำลังดำเนินการ|1931     |11379      |0.16969856753669038 |\n",
            "|2023|1    |กำลังดำเนินการ|3351     |18591      |0.1802485073422624  |\n",
            "|2023|2    |กำลังดำเนินการ|4023     |18578      |0.21654645279362686 |\n",
            "|2023|3    |กำลังดำเนินการ|4318     |18211      |0.2371094393498435  |\n",
            "|2023|4    |กำลังดำเนินการ|5563     |17620      |0.3157207718501703  |\n",
            "|2023|5    |กำลังดำเนินการ|3134     |6504       |0.48185731857318576 |\n",
            "|2022|2    |รอรับเรื่อง   |8        |172        |0.046511627906976744|\n",
            "|2022|3    |รอรับเรื่อง   |34       |108        |0.3148148148148148  |\n",
            "|2022|4    |รอรับเรื่อง   |20       |24         |0.8333333333333334  |\n",
            "|2022|5    |รอรับเรื่อง   |123      |2215       |0.05553047404063206 |\n",
            "|2022|6    |รอรับเรื่อง   |1537     |61633      |0.02493793909107134 |\n",
            "|2022|7    |รอรับเรื่อง   |2315     |40880      |0.05662915851272016 |\n",
            "|2022|8    |รอรับเรื่อง   |1760     |27047      |0.06507191185713758 |\n",
            "|2022|9    |รอรับเรื่อง   |1532     |22327      |0.06861647332825727 |\n",
            "|2022|10   |รอรับเรื่อง   |1105     |13520      |0.08173076923076923 |\n",
            "|2022|11   |รอรับเรื่อง   |1174     |11481      |0.10225590105391516 |\n",
            "|2022|12   |รอรับเรื่อง   |1126     |11379      |0.09895421390280341 |\n",
            "|2023|1    |รอรับเรื่อง   |1481     |18591      |0.07966220214082083 |\n",
            "|2023|2    |รอรับเรื่อง   |1453     |18578      |0.07821078695230918 |\n",
            "|2023|3    |รอรับเรื่อง   |1709     |18211      |0.0938443797704684  |\n",
            "|2023|4    |รอรับเรื่อง   |1984     |17620      |0.11259931895573212 |\n",
            "|2023|5    |รอรับเรื่อง   |1428     |6504       |0.21955719557195572 |\n",
            "|2021|9    |เสร็จสิ้น     |3        |12         |0.25                |\n",
            "|2021|10   |เสร็จสิ้น     |1        |1          |1.0                 |\n",
            "|2021|12   |เสร็จสิ้น     |8        |162        |0.04938271604938271 |\n",
            "|2022|1    |เสร็จสิ้น     |19       |160        |0.11875             |\n",
            "|2022|2    |เสร็จสิ้น     |29       |172        |0.1686046511627907  |\n",
            "|2022|3    |เสร็จสิ้น     |18       |108        |0.16666666666666666 |\n",
            "|2022|4    |เสร็จสิ้น     |1        |24         |0.041666666666666664|\n",
            "|2022|5    |เสร็จสิ้น     |1792     |2215       |0.8090293453724605  |\n",
            "|2022|6    |เสร็จสิ้น     |50046    |61633      |0.812000064900297   |\n",
            "|2022|7    |เสร็จสิ้น     |32183    |40880      |0.7872553816046967  |\n",
            "|2022|8    |เสร็จสิ้น     |21562    |27047      |0.7972048656043184  |\n",
            "|2022|9    |เสร็จสิ้น     |18115    |22327      |0.8113494871680028  |\n",
            "|2022|10   |เสร็จสิ้น     |10600    |13520      |0.7840236686390533  |\n",
            "|2022|11   |เสร็จสิ้น     |8632     |11481      |0.751850884069332   |\n",
            "|2022|12   |เสร็จสิ้น     |8322     |11379      |0.7313472185605062  |\n",
            "|2023|1    |เสร็จสิ้น     |13759    |18591      |0.7400892905169167  |\n",
            "|2023|2    |เสร็จสิ้น     |13102    |18578      |0.705242760254064   |\n",
            "|2023|3    |เสร็จสิ้น     |12184    |18211      |0.6690461808796881  |\n",
            "|2023|4    |เสร็จสิ้น     |10073    |17620      |0.5716799091940976  |\n",
            "|2023|5    |เสร็จสิ้น     |1942     |6504       |0.29858548585485856 |\n",
            "+----+-----+--------------+---------+-----------+--------------------+\n",
            "\n"
          ]
        }
      ],
      "source": [
        "df_state_6 = df_ratio.orderBy('state','year', 'month')\n",
        "df_state_6.show(100, False)"
      ]
    },
    {
      "cell_type": "code",
      "execution_count": 34,
      "metadata": {
        "id": "BS2RcwsNlJhi"
      },
      "outputs": [],
      "source": [
        "df_state_6.write.option(\"header\", \"true\").csv(path=\"/content/spark_output/state_6\")"
      ]
    },
    {
      "cell_type": "markdown",
      "metadata": {
        "id": "-6XgqYoyr6J6"
      },
      "source": [
        "## Focus on type"
      ]
    },
    {
      "cell_type": "code",
      "execution_count": 35,
      "metadata": {
        "id": "UY7Stn4Noxz5",
        "colab": {
          "base_uri": "https://localhost:8080/"
        },
        "outputId": "168c7711-54c7-4984-8ee5-d739be781923"
      },
      "outputs": [
        {
          "output_type": "stream",
          "name": "stdout",
          "text": [
            "+-------------+--------------+---------+-------------------------------------------+--------------------------------------------+--------------------------------------------+\n",
            "|type_exploded|state         |row_count|min_time_to_state                          |avg_time_to_state                           |max_time_to_state                           |\n",
            "+-------------+--------------+---------+-------------------------------------------+--------------------------------------------+--------------------------------------------+\n",
            "|             |รอรับเรื่อง   |4546     |INTERVAL '-0 00:00:00.028061' DAY TO SECOND|INTERVAL '12 00:42:24.804672' DAY TO SECOND |INTERVAL '330 07:01:20.772967' DAY TO SECOND|\n",
            "|             |กำลังดำเนินการ|8613     |INTERVAL '0 00:00:56.299065' DAY TO SECOND |INTERVAL '109 21:01:12.956501' DAY TO SECOND|INTERVAL '490 15:06:39.707912' DAY TO SECOND|\n",
            "|             |เสร็จสิ้น     |49232    |INTERVAL '0 00:00:14.963721' DAY TO SECOND |INTERVAL '47 18:55:45.469091' DAY TO SECOND |INTERVAL '456 06:15:38.086373' DAY TO SECOND|\n",
            "|PM2.5        |เสร็จสิ้น     |848      |INTERVAL '0 00:08:45.560649' DAY TO SECOND |INTERVAL '9 09:56:59.436236' DAY TO SECOND  |INTERVAL '96 06:10:43.987597' DAY TO SECOND |\n",
            "|PM2.5        |กำลังดำเนินการ|227      |INTERVAL '0 00:02:45.23227' DAY TO SECOND  |INTERVAL '7 11:08:48.491043' DAY TO SECOND  |INTERVAL '81 01:27:15.64746' DAY TO SECOND  |\n",
            "|PM2.5        |รอรับเรื่อง   |56       |INTERVAL '-0 00:00:00.010409' DAY TO SECOND|INTERVAL '2 01:07:32.993461' DAY TO SECOND  |INTERVAL '26 23:02:07.098335' DAY TO SECOND |\n",
            "|การเดินทาง   |รอรับเรื่อง   |84       |INTERVAL '-0 00:00:00.009622' DAY TO SECOND|INTERVAL '3 15:04:43.237653' DAY TO SECOND  |INTERVAL '155 22:57:03.948332' DAY TO SECOND|\n",
            "|การเดินทาง   |กำลังดำเนินการ|155      |INTERVAL '0 00:01:59.10736' DAY TO SECOND  |INTERVAL '75 11:29:19.729093' DAY TO SECOND |INTERVAL '286 06:28:01.037191' DAY TO SECOND|\n",
            "|การเดินทาง   |เสร็จสิ้น     |301      |INTERVAL '0 00:10:11.594787' DAY TO SECOND |INTERVAL '37 15:09:48.665612' DAY TO SECOND |INTERVAL '301 02:21:50.186006' DAY TO SECOND|\n",
            "|กีดขวาง      |กำลังดำเนินการ|1419     |INTERVAL '0 00:00:55.46225' DAY TO SECOND  |INTERVAL '52 05:36:15.326886' DAY TO SECOND |INTERVAL '343 02:21:34.3669' DAY TO SECOND  |\n",
            "|กีดขวาง      |รอรับเรื่อง   |1813     |INTERVAL '-0 00:00:00.049869' DAY TO SECOND|INTERVAL '5 15:44:08.652369' DAY TO SECOND  |INTERVAL '324 02:33:49.593128' DAY TO SECOND|\n",
            "|กีดขวาง      |เสร็จสิ้น     |12465    |INTERVAL '0 00:01:40.246213' DAY TO SECOND |INTERVAL '25 04:14:40.173682' DAY TO SECOND |INTERVAL '328 02:50:19.341271' DAY TO SECOND|\n",
            "|คนจรจัด      |เสร็จสิ้น     |782      |INTERVAL '0 00:18:11.417263' DAY TO SECOND |INTERVAL '15 18:27:27.571145' DAY TO SECOND |INTERVAL '264 23:48:09.991635' DAY TO SECOND|\n",
            "|คนจรจัด      |กำลังดำเนินการ|90       |INTERVAL '0 00:04:45.011651' DAY TO SECOND |INTERVAL '40 13:06:44.208077' DAY TO SECOND |INTERVAL '276 09:12:21.461128' DAY TO SECOND|\n",
            "|คนจรจัด      |รอรับเรื่อง   |95       |INTERVAL '-0 00:00:00.014619' DAY TO SECOND|INTERVAL '2 14:14:30.33529' DAY TO SECOND   |INTERVAL '98 13:54:26.739737' DAY TO SECOND |\n",
            "|คลอง         |รอรับเรื่อง   |350      |INTERVAL '-0 00:00:00.010111' DAY TO SECOND|INTERVAL '10 04:17:31.604936' DAY TO SECOND |INTERVAL '291 23:54:46.707563' DAY TO SECOND|\n",
            "|คลอง         |กำลังดำเนินการ|1522     |INTERVAL '0 00:00:43.055188' DAY TO SECOND |INTERVAL '52 05:53:02.399707' DAY TO SECOND |INTERVAL '337 17:20:54.687589' DAY TO SECOND|\n",
            "|คลอง         |เสร็จสิ้น     |6791     |INTERVAL '0 00:00:35.969617' DAY TO SECOND |INTERVAL '42 15:51:20.575329' DAY TO SECOND |INTERVAL '340 20:06:33.647664' DAY TO SECOND|\n",
            "|ความปลอดภัย  |กำลังดำเนินการ|5583     |INTERVAL '0 00:00:28.576483' DAY TO SECOND |INTERVAL '78 07:36:07.664399' DAY TO SECOND |INTERVAL '436 03:44:36.774446' DAY TO SECOND|\n",
            "|ความปลอดภัย  |รอรับเรื่อง   |1956     |INTERVAL '-0 00:00:00.016421' DAY TO SECOND|INTERVAL '11 03:31:49.115735' DAY TO SECOND |INTERVAL '316 21:34:45.007218' DAY TO SECOND|\n",
            "|ความปลอดภัย  |เสร็จสิ้น     |13078    |INTERVAL '0 00:01:23.578147' DAY TO SECOND |INTERVAL '47 09:26:59.918375' DAY TO SECOND |INTERVAL '340 23:05:52.56384' DAY TO SECOND |\n",
            "|ความสะอาด    |กำลังดำเนินการ|1243     |INTERVAL '0 00:01:00.690098' DAY TO SECOND |INTERVAL '32 02:03:41.244217' DAY TO SECOND |INTERVAL '327 12:40:20.659879' DAY TO SECOND|\n",
            "|ความสะอาด    |เสร็จสิ้น     |18277    |INTERVAL '0 00:00:52.811171' DAY TO SECOND |INTERVAL '27 15:17:08.194522' DAY TO SECOND |INTERVAL '321 19:52:45.614238' DAY TO SECOND|\n",
            "|ความสะอาด    |รอรับเรื่อง   |394      |INTERVAL '-0 00:00:00.013913' DAY TO SECOND|INTERVAL '7 09:53:52.007031' DAY TO SECOND  |INTERVAL '258 22:58:27.518217' DAY TO SECOND|\n",
            "|จราจร        |รอรับเรื่อง   |2246     |INTERVAL '-0 00:00:00.027948' DAY TO SECOND|INTERVAL '5 23:18:01.551076' DAY TO SECOND  |INTERVAL '310 17:21:04.078381' DAY TO SECOND|\n",
            "|จราจร        |เสร็จสิ้น     |8283     |INTERVAL '0 00:02:12.272308' DAY TO SECOND |INTERVAL '33 10:13:14.228476' DAY TO SECOND |INTERVAL '334 14:16:46.782257' DAY TO SECOND|\n",
            "|จราจร        |กำลังดำเนินการ|1829     |INTERVAL '0 00:01:09.27018' DAY TO SECOND  |INTERVAL '83 09:53:33.284349' DAY TO SECOND |INTERVAL '343 23:35:05.815546' DAY TO SECOND|\n",
            "|ต้นไม้       |กำลังดำเนินการ|935      |INTERVAL '0 00:00:57.250115' DAY TO SECOND |INTERVAL '57 06:41:54.935517' DAY TO SECOND |INTERVAL '338 23:31:52.735748' DAY TO SECOND|\n",
            "|ต้นไม้       |รอรับเรื่อง   |220      |INTERVAL '-0 00:00:00.011617' DAY TO SECOND|INTERVAL '19 20:12:52.973819' DAY TO SECOND |INTERVAL '262 17:34:44.381609' DAY TO SECOND|\n",
            "|ต้นไม้       |เสร็จสิ้น     |6949     |INTERVAL '0 00:00:42.499754' DAY TO SECOND |INTERVAL '38 13:42:09.747121' DAY TO SECOND |INTERVAL '326 20:41:52.539853' DAY TO SECOND|\n",
            "|ถนน          |กำลังดำเนินการ|16877    |INTERVAL '0 00:00:20.096892' DAY TO SECOND |INTERVAL '73 00:52:42.648091' DAY TO SECOND |INTERVAL '436 03:44:36.774446' DAY TO SECOND|\n",
            "|ถนน          |เสร็จสิ้น     |55228    |INTERVAL '0 00:00:33.562347' DAY TO SECOND |INTERVAL '43 05:09:00.087727' DAY TO SECOND |INTERVAL '461 19:04:59.531864' DAY TO SECOND|\n",
            "|ถนน          |รอรับเรื่อง   |4811     |INTERVAL '-0 00:00:00.049869' DAY TO SECOND|INTERVAL '10 05:40:55.323481' DAY TO SECOND |INTERVAL '315 07:04:40.060779' DAY TO SECOND|\n",
            "|ทางเท้า      |รอรับเรื่อง   |1287     |INTERVAL '-0 00:00:00.017111' DAY TO SECOND|INTERVAL '11 02:07:14.140196' DAY TO SECOND |INTERVAL '321 03:02:55.08241' DAY TO SECOND |\n",
            "|ทางเท้า      |เสร็จสิ้น     |23726    |INTERVAL '0 00:01:46.468094' DAY TO SECOND |INTERVAL '43 19:56:42.031109' DAY TO SECOND |INTERVAL '464 10:21:28.527899' DAY TO SECOND|\n",
            "|ทางเท้า      |กำลังดำเนินการ|6712     |INTERVAL '0 00:00:43.055188' DAY TO SECOND |INTERVAL '96 15:54:01.305631' DAY TO SECOND |INTERVAL '344 18:30:43.53127' DAY TO SECOND |\n",
            "|ท่อระบายน้ำ  |รอรับเรื่อง   |386      |INTERVAL '-0 00:00:00.012122' DAY TO SECOND|INTERVAL '26 20:43:35.071593' DAY TO SECOND |INTERVAL '314 14:27:57.076804' DAY TO SECOND|\n",
            "|ท่อระบายน้ำ  |เสร็จสิ้น     |10812    |INTERVAL '0 00:01:54.005421' DAY TO SECOND |INTERVAL '42 05:11:34.540783' DAY TO SECOND |INTERVAL '336 21:41:25.159975' DAY TO SECOND|\n",
            "|ท่อระบายน้ำ  |กำลังดำเนินการ|2761     |INTERVAL '0 00:00:24.015141' DAY TO SECOND |INTERVAL '69 06:58:40.862168' DAY TO SECOND |INTERVAL '343 17:45:09.562035' DAY TO SECOND|\n",
            "|น้ำท่วม      |เสร็จสิ้น     |17096    |INTERVAL '0 00:00:21.569294' DAY TO SECOND |INTERVAL '41 22:57:21.154371' DAY TO SECOND |INTERVAL '328 21:50:16.070635' DAY TO SECOND|\n",
            "|น้ำท่วม      |รอรับเรื่อง   |361      |INTERVAL '-0 00:00:00.015294' DAY TO SECOND|INTERVAL '9 10:59:57.549079' DAY TO SECOND  |INTERVAL '258 22:58:27.518217' DAY TO SECOND|\n",
            "|น้ำท่วม      |กำลังดำเนินการ|1701     |INTERVAL '0 00:00:38.529342' DAY TO SECOND |INTERVAL '75 08:24:33.884527' DAY TO SECOND |INTERVAL '343 02:21:34.3669' DAY TO SECOND  |\n",
            "|ป้าย         |รอรับเรื่อง   |554      |INTERVAL '-0 00:00:00.017248' DAY TO SECOND|INTERVAL '4 04:44:51.470542' DAY TO SECOND  |INTERVAL '185 19:44:26.902455' DAY TO SECOND|\n",
            "|ป้าย         |เสร็จสิ้น     |4789     |INTERVAL '0 00:04:53.65609' DAY TO SECOND  |INTERVAL '11 08:32:56.113493' DAY TO SECOND |INTERVAL '194 20:54:09.050164' DAY TO SECOND|\n",
            "|ป้าย         |กำลังดำเนินการ|1202     |INTERVAL '0 00:01:19.916341' DAY TO SECOND |INTERVAL '19 20:55:23.609439' DAY TO SECOND |INTERVAL '180 23:53:17.176223' DAY TO SECOND|\n",
            "|ป้ายจราจร    |รอรับเรื่อง   |24       |INTERVAL '-0 00:00:00.012204' DAY TO SECOND|INTERVAL '1 20:53:40.783539' DAY TO SECOND  |INTERVAL '17 04:40:53.28182' DAY TO SECOND  |\n",
            "|ป้ายจราจร    |กำลังดำเนินการ|48       |INTERVAL '0 00:10:59.529962' DAY TO SECOND |INTERVAL '13 15:56:53.215048' DAY TO SECOND |INTERVAL '127 16:47:39.941729' DAY TO SECOND|\n",
            "|ป้ายจราจร    |เสร็จสิ้น     |187      |INTERVAL '0 00:56:19.57886' DAY TO SECOND  |INTERVAL '20 09:51:12.377522' DAY TO SECOND |INTERVAL '187 04:50:07.123481' DAY TO SECOND|\n",
            "|ร้องเรียน    |กำลังดำเนินการ|1848     |INTERVAL '0 00:01:54.502945' DAY TO SECOND |INTERVAL '12 23:09:48.975579' DAY TO SECOND |INTERVAL '182 14:48:40.28658' DAY TO SECOND |\n",
            "|ร้องเรียน    |รอรับเรื่อง   |801      |INTERVAL '-0 00:00:00.016434' DAY TO SECOND|INTERVAL '2 09:56:53.097439' DAY TO SECOND  |INTERVAL '119 02:23:13.98823' DAY TO SECOND |\n",
            "|ร้องเรียน    |เสร็จสิ้น     |4942     |INTERVAL '0 00:03:03.717612' DAY TO SECOND |INTERVAL '12 16:51:49.603047' DAY TO SECOND |INTERVAL '274 17:25:00.60779' DAY TO SECOND |\n",
            "|สอบถาม       |รอรับเรื่อง   |113      |INTERVAL '-0 00:00:00.016434' DAY TO SECOND|INTERVAL '2 20:19:48.396947' DAY TO SECOND  |INTERVAL '93 04:03:19.950131' DAY TO SECOND |\n",
            "|สอบถาม       |เสร็จสิ้น     |827      |INTERVAL '0 00:05:03.470098' DAY TO SECOND |INTERVAL '13 01:50:37.553535' DAY TO SECOND |INTERVAL '181 01:53:33.109581' DAY TO SECOND|\n",
            "|สอบถาม       |กำลังดำเนินการ|255      |INTERVAL '0 00:01:45.960504' DAY TO SECOND |INTERVAL '13 01:53:50.170685' DAY TO SECOND |INTERVAL '133 11:02:26.327567' DAY TO SECOND|\n",
            "|สะพาน        |กำลังดำเนินการ|3472     |INTERVAL '0 00:00:34.018267' DAY TO SECOND |INTERVAL '99 11:02:25.140366' DAY TO SECOND |INTERVAL '341 15:24:48.077218' DAY TO SECOND|\n",
            "|สะพาน        |รอรับเรื่อง   |1056     |INTERVAL '-0 00:00:00.013913' DAY TO SECOND|INTERVAL '15 11:25:03.595075' DAY TO SECOND |INTERVAL '336 11:49:58.788722' DAY TO SECOND|\n",
            "|สะพาน        |เสร็จสิ้น     |7742     |INTERVAL '0 00:01:02.493189' DAY TO SECOND |INTERVAL '54 02:19:38.81139' DAY TO SECOND  |INTERVAL '433 21:32:48.546884' DAY TO SECOND|\n",
            "|สัตว์จรจัด   |รอรับเรื่อง   |564      |INTERVAL '-0 00:00:00.013828' DAY TO SECOND|INTERVAL '1 18:54:28.825709' DAY TO SECOND  |INTERVAL '178 05:19:05.737571' DAY TO SECOND|\n",
            "|สัตว์จรจัด   |กำลังดำเนินการ|1047     |INTERVAL '0 00:00:37.374617' DAY TO SECOND |INTERVAL '38 16:19:45.39301' DAY TO SECOND  |INTERVAL '304 16:20:30.343623' DAY TO SECOND|\n",
            "|สัตว์จรจัด   |เสร็จสิ้น     |2578     |INTERVAL '0 00:04:46.904771' DAY TO SECOND |INTERVAL '34 15:09:07.476275' DAY TO SECOND |INTERVAL '283 19:38:17.122796' DAY TO SECOND|\n",
            "|สายไฟ        |รอรับเรื่อง   |2307     |INTERVAL '-0 00:00:00.012859' DAY TO SECOND|INTERVAL '22 11:33:29.911411' DAY TO SECOND |INTERVAL '319 15:56:37.518889' DAY TO SECOND|\n",
            "|สายไฟ        |กำลังดำเนินการ|2808     |INTERVAL '0 00:00:57.250115' DAY TO SECOND |INTERVAL '112 18:33:23.24375' DAY TO SECOND |INTERVAL '340 00:12:03.588906' DAY TO SECOND|\n",
            "|สายไฟ        |เสร็จสิ้น     |4537     |INTERVAL '0 00:00:59.508385' DAY TO SECOND |INTERVAL '55 22:47:13.867254' DAY TO SECOND |INTERVAL '326 20:41:52.539853' DAY TO SECOND|\n",
            "|ห้องน้ำ      |เสร็จสิ้น     |197      |INTERVAL '0 00:03:19.021667' DAY TO SECOND |INTERVAL '14 06:21:00.147735' DAY TO SECOND |INTERVAL '158 13:28:30.14624' DAY TO SECOND |\n",
            "|ห้องน้ำ      |รอรับเรื่อง   |18       |INTERVAL '-0 00:00:00.011503' DAY TO SECOND|INTERVAL '8 14:16:15.986178' DAY TO SECOND  |INTERVAL '119 02:23:13.98823' DAY TO SECOND |\n",
            "|ห้องน้ำ      |กำลังดำเนินการ|67       |INTERVAL '0 00:06:05.431016' DAY TO SECOND |INTERVAL '22 00:43:35.285978' DAY TO SECOND |INTERVAL '121 00:52:16.605494' DAY TO SECOND|\n",
            "|เสนอแนะ      |เสร็จสิ้น     |753      |INTERVAL '0 00:04:19.956554' DAY TO SECOND |INTERVAL '34 00:38:16.873119' DAY TO SECOND |INTERVAL '338 12:52:21.134937' DAY TO SECOND|\n",
            "|เสนอแนะ      |รอรับเรื่อง   |88       |INTERVAL '-0 00:00:00.072412' DAY TO SECOND|INTERVAL '2 16:03:54.961309' DAY TO SECOND  |INTERVAL '61 17:35:20.783551' DAY TO SECOND |\n",
            "|เสนอแนะ      |กำลังดำเนินการ|175      |INTERVAL '0 00:02:47.980668' DAY TO SECOND |INTERVAL '46 00:38:09.370909' DAY TO SECOND |INTERVAL '325 16:24:34.816325' DAY TO SECOND|\n",
            "|เสียงรบกวน   |เสร็จสิ้น     |7012     |INTERVAL '0 00:03:52.76768' DAY TO SECOND  |INTERVAL '27 20:15:48.352229' DAY TO SECOND |INTERVAL '321 01:21:45.673974' DAY TO SECOND|\n",
            "|เสียงรบกวน   |รอรับเรื่อง   |532      |INTERVAL '-0 00:00:00.014335' DAY TO SECOND|INTERVAL '4 23:18:58.290183' DAY TO SECOND  |INTERVAL '257 09:55:51.468335' DAY TO SECOND|\n",
            "|เสียงรบกวน   |กำลังดำเนินการ|1313     |INTERVAL '0 00:00:41.319749' DAY TO SECOND |INTERVAL '29 20:56:01.346814' DAY TO SECOND |INTERVAL '318 21:57:00.046573' DAY TO SECOND|\n",
            "|แสงสว่าง     |กำลังดำเนินการ|9769     |INTERVAL '0 00:00:23.144336' DAY TO SECOND |INTERVAL '86 10:49:36.621972' DAY TO SECOND |INTERVAL '340 09:31:26.587738' DAY TO SECOND|\n",
            "|แสงสว่าง     |เสร็จสิ้น     |11766    |INTERVAL '0 00:01:32.86199' DAY TO SECOND  |INTERVAL '78 08:15:32.533267' DAY TO SECOND |INTERVAL '335 19:16:05.937949' DAY TO SECOND|\n",
            "|แสงสว่าง     |รอรับเรื่อง   |1164     |INTERVAL '-0 00:00:00.014165' DAY TO SECOND|INTERVAL '15 10:50:34.397878' DAY TO SECOND |INTERVAL '329 13:26:04.310078' DAY TO SECOND|\n",
            "+-------------+--------------+---------+-------------------------------------------+--------------------------------------------+--------------------------------------------+\n",
            "\n"
          ]
        }
      ],
      "source": [
        "from pyspark.sql.functions import explode, size\n",
        "\n",
        "df_exploded = df.select(explode('type').alias('type_exploded'), 'state', 'time_to_state')\n",
        "\n",
        "df_grouped = df_exploded.groupBy('type_exploded', 'state') \\\n",
        "                        .agg(count('time_to_state').alias('row_count'),\n",
        "                             min('time_to_state').alias('min_time_to_state'),\n",
        "                             avg('time_to_state').alias('avg_time_to_state'),\n",
        "                             max('time_to_state').alias('max_time_to_state')) \\\n",
        "                        .orderBy('type_exploded')\n",
        "\n",
        "df_type_1 = df_grouped\n",
        "df_type_1.show(100, False)"
      ]
    },
    {
      "cell_type": "code",
      "execution_count": 36,
      "metadata": {
        "id": "yZfUx0WhlW8F"
      },
      "outputs": [],
      "source": [
        "df_type_1.write.option(\"header\", \"true\").csv(path=\"/content/spark_output/type_1\")"
      ]
    },
    {
      "cell_type": "markdown",
      "metadata": {
        "id": "2YsXaSBrssar"
      },
      "source": [
        "## Focus on organization"
      ]
    },
    {
      "cell_type": "code",
      "execution_count": 37,
      "metadata": {
        "id": "v_UZ_GlesCjd",
        "colab": {
          "base_uri": "https://localhost:8080/"
        },
        "outputId": "99b53fe9-6424-4039-d88c-1be2c140f43d"
      },
      "outputs": [
        {
          "output_type": "stream",
          "name": "stdout",
          "text": [
            "+-----------------------------------------------------+---------+---------+------------------------------------------+--------------------------------------------+--------------------------------------------+\n",
            "|organization_exploded                                |state    |row_count|min_time_to_state                         |avg_time_to_state                           |max_time_to_state                           |\n",
            "+-----------------------------------------------------+---------+---------+------------------------------------------+--------------------------------------------+--------------------------------------------+\n",
            "|กลุ่มกรุงเทพใต้ (นายชาตรี วัฒนเขจร)                  |เสร็จสิ้น|32475    |INTERVAL '0 00:00:22.509931' DAY TO SECOND|INTERVAL '68 05:06:27.457143' DAY TO SECOND |INTERVAL '339 14:30:09.372622' DAY TO SECOND|\n",
            "|กลุ่มกรุงเทพตะวันออก (นายณรงค์ เรืองศรี)             |เสร็จสิ้น|32028    |INTERVAL '0 00:00:30.017043' DAY TO SECOND|INTERVAL '41 13:05:49.677972' DAY TO SECOND |INTERVAL '343 05:04:54.883538' DAY TO SECOND|\n",
            "|กลุ่มกรุงเทพเหนือ (นางวันทนีย์ วัฒนะ)                |เสร็จสิ้น|27203    |INTERVAL '0 00:00:22.599861' DAY TO SECOND|INTERVAL '56 08:50:39.235343' DAY TO SECOND |INTERVAL '335 01:18:53.713309' DAY TO SECOND|\n",
            "|กลุ่มกรุงเทพกลาง (นายสุขสันต์ กิตติศุภกร)            |เสร็จสิ้น|21878    |INTERVAL '0 00:00:14.963721' DAY TO SECOND|INTERVAL '38 18:12:58.666368' DAY TO SECOND |INTERVAL '345 21:09:21.609915' DAY TO SECOND|\n",
            "|สำนักการโยธา กทม.                                    |เสร็จสิ้น|19247    |INTERVAL '0 00:06:06.65967' DAY TO SECOND |INTERVAL '99 04:11:37.599813' DAY TO SECOND |INTERVAL '464 10:21:28.527899' DAY TO SECOND|\n",
            "|กลุ่มกรุงธนใต้ (นายเฉลิมพล โชตินุชิต)                |เสร็จสิ้น|18864    |INTERVAL '0 00:00:42.499754' DAY TO SECOND|INTERVAL '20 18:28:57.284991' DAY TO SECOND |INTERVAL '345 09:28:01.064438' DAY TO SECOND|\n",
            "|สำนักงานตำรวจแห่งชาติ (Royal Thai Police)            |เสร็จสิ้น|16749    |INTERVAL '0 00:03:07.214419' DAY TO SECOND|INTERVAL '31 13:27:24.581649' DAY TO SECOND |INTERVAL '345 21:09:21.609915' DAY TO SECOND|\n",
            "|กองบัญชาการตำรวจนครบาล (บช.น.)                       |เสร็จสิ้น|16734    |INTERVAL '0 00:03:07.214419' DAY TO SECOND|INTERVAL '31 09:41:59.051875' DAY TO SECOND |INTERVAL '345 21:09:21.609915' DAY TO SECOND|\n",
            "|กลุ่มกรุงธนเหนือ (นายเฉลิมพล โชตินุชิต)              |เสร็จสิ้น|16217    |INTERVAL '0 00:01:34.671773' DAY TO SECOND|INTERVAL '50 07:51:50.778581' DAY TO SECOND |INTERVAL '342 21:23:59.033968' DAY TO SECOND|\n",
            "|การไฟฟ้านครหลวง MEA                                  |เสร็จสิ้น|11501    |INTERVAL '0 00:01:59.528559' DAY TO SECOND|INTERVAL '99 04:21:03.417657' DAY TO SECOND |INTERVAL '342 20:56:24.022588' DAY TO SECOND|\n",
            "|เขตจตุจักร                                           |เสร็จสิ้น|10064    |INTERVAL '0 00:00:22.599861' DAY TO SECOND|INTERVAL '93 05:32:22.147731' DAY TO SECOND |INTERVAL '338 12:52:21.134937' DAY TO SECOND|\n",
            "|สำนักการจราจรและขนส่ง กรุงเทพมหานคร (สจส.)           |เสร็จสิ้น|9795     |INTERVAL '0 00:07:42.753807' DAY TO SECOND|INTERVAL '85 12:19:16.744915' DAY TO SECOND |INTERVAL '461 19:04:59.531864' DAY TO SECOND|\n",
            "|เขตประเวศ                                            |เสร็จสิ้น|8823     |INTERVAL '0 00:08:27.138181' DAY TO SECOND|INTERVAL '27 13:04:16.965976' DAY TO SECOND |INTERVAL '336 02:10:51.644262' DAY TO SECOND|\n",
            "|เขตบางแค                                             |เสร็จสิ้น|7849     |INTERVAL '0 00:02:14.913236' DAY TO SECOND|INTERVAL '19 19:20:46.144311' DAY TO SECOND |INTERVAL '340 23:05:52.56384' DAY TO SECOND |\n",
            "|ผอ.เขตจตุจักร (นายพรเลิศ)                            |เสร็จสิ้น|7752     |INTERVAL '0 00:00:22.599861' DAY TO SECOND|INTERVAL '110 01:38:59.523228' DAY TO SECOND|INTERVAL '310 12:07:19.482106' DAY TO SECOND|\n",
            "|ผอ.เขตประเวศ (นายอนุชิต)                             |เสร็จสิ้น|7248     |INTERVAL '0 00:08:27.138181' DAY TO SECOND|INTERVAL '29 13:47:49.722571' DAY TO SECOND |INTERVAL '336 02:10:51.644262' DAY TO SECOND|\n",
            "|เขตบางเขน                                            |เสร็จสิ้น|6960     |INTERVAL '0 00:01:00.43355' DAY TO SECOND |INTERVAL '23 16:24:02.567172' DAY TO SECOND |INTERVAL '327 14:15:08.831056' DAY TO SECOND|\n",
            "|เขตวัฒนา                                             |เสร็จสิ้น|6814     |INTERVAL '0 00:04:26.768473' DAY TO SECOND|INTERVAL '42 20:59:59.595325' DAY TO SECOND |INTERVAL '339 14:30:09.372622' DAY TO SECOND|\n",
            "|เขตลาดกระบัง                                         |เสร็จสิ้น|6642     |INTERVAL '0 00:01:47.25411' DAY TO SECOND |INTERVAL '35 07:04:23.566245' DAY TO SECOND |INTERVAL '334 09:19:09.2075' DAY TO SECOND  |\n",
            "|เขตบางกะปิ                                           |เสร็จสิ้น|6615     |INTERVAL '0 00:00:30.017043' DAY TO SECOND|INTERVAL '40 03:12:23.399356' DAY TO SECOND |INTERVAL '341 16:04:03.073721' DAY TO SECOND|\n",
            "|เขตคลองเตย                                           |เสร็จสิ้น|6097     |INTERVAL '0 00:01:33.820081' DAY TO SECOND|INTERVAL '33 01:21:43.486463' DAY TO SECOND |INTERVAL '342 20:56:24.022588' DAY TO SECOND|\n",
            "|ผอ.เขตบางแค (นายณรงค์)                               |เสร็จสิ้น|5823     |INTERVAL '0 00:02:14.913236' DAY TO SECOND|INTERVAL '16 16:02:03.679146' DAY TO SECOND |INTERVAL '340 23:05:52.56384' DAY TO SECOND |\n",
            "|เขตสวนหลวง                                           |เสร็จสิ้น|5751     |INTERVAL '0 00:11:44.99005' DAY TO SECOND |INTERVAL '151 00:44:16.473783' DAY TO SECOND|INTERVAL '336 02:10:51.644262' DAY TO SECOND|\n",
            "|สำนักงานก่อสร้างและบูรณะ สำนักการโยธา (สกบ.สนย.) กทม.|เสร็จสิ้น|5545     |INTERVAL '0 00:37:46.20014' DAY TO SECOND |INTERVAL '128 19:45:50.434247' DAY TO SECOND|INTERVAL '334 23:19:54.11612' DAY TO SECOND |\n",
            "|ผอ.เขตวัฒนา (น.ส.สุชิรา)                             |เสร็จสิ้น|5476     |INTERVAL '0 00:04:26.768473' DAY TO SECOND|INTERVAL '45 21:51:10.424891' DAY TO SECOND |INTERVAL '339 14:30:09.372622' DAY TO SECOND|\n",
            "|ผอ.เขตบางเขน (น.ส.พิศมัย)                            |เสร็จสิ้น|5431     |INTERVAL '0 00:01:00.43355' DAY TO SECOND |INTERVAL '22 18:43:38.821393' DAY TO SECOND |INTERVAL '327 14:15:08.831056' DAY TO SECOND|\n",
            "|ผอ.เขตลาดกระบัง (นายธนะสิทธิ์)                       |เสร็จสิ้น|5237     |INTERVAL '0 00:01:47.25411' DAY TO SECOND |INTERVAL '32 14:30:47.74222' DAY TO SECOND  |INTERVAL '327 10:44:49.316764' DAY TO SECOND|\n",
            "|เขตบางขุนเทียน                                       |เสร็จสิ้น|5162     |INTERVAL '0 00:00:42.499754' DAY TO SECOND|INTERVAL '21 00:21:08.014965' DAY TO SECOND |INTERVAL '328 17:21:48.666897' DAY TO SECOND|\n",
            "|ผอ.เขตบางกะปิ (นายไพรัตน์)                           |เสร็จสิ้น|5070     |INTERVAL '0 00:00:30.017043' DAY TO SECOND|INTERVAL '42 08:14:20.728448' DAY TO SECOND |INTERVAL '341 16:04:03.073721' DAY TO SECOND|\n",
            "|เขตบึงกุ่ม                                           |เสร็จสิ้น|4966     |INTERVAL '0 00:01:21.967133' DAY TO SECOND|INTERVAL '30 14:21:18.008295' DAY TO SECOND |INTERVAL '308 11:04:26.594791' DAY TO SECOND|\n",
            "|สำนักการระบายน้ำ กทม.                                |เสร็จสิ้น|4917     |INTERVAL '0 00:08:02.240729' DAY TO SECOND|INTERVAL '69 21:15:12.698478' DAY TO SECOND |INTERVAL '342 21:23:59.033968' DAY TO SECOND|\n",
            "|ผอ.เขตสวนหลวง (นางสุภมาส)                            |เสร็จสิ้น|4731     |INTERVAL '0 00:16:50.494399' DAY TO SECOND|INTERVAL '173 08:57:17.649585' DAY TO SECOND|INTERVAL '336 02:10:51.644262' DAY TO SECOND|\n",
            "|เขตบางซื่อ                                           |เสร็จสิ้น|4722     |INTERVAL '0 00:01:17.85275' DAY TO SECOND |INTERVAL '44 06:15:28.623324' DAY TO SECOND |INTERVAL '328 21:50:16.070635' DAY TO SECOND|\n",
            "|เขตปทุมวัน                                           |เสร็จสิ้น|4663     |INTERVAL '0 00:00:22.509931' DAY TO SECOND|INTERVAL '39 10:31:18.239367' DAY TO SECOND |INTERVAL '330 13:15:00.270277' DAY TO SECOND|\n",
            "|ผอ.เขตคลองเตย (นางเบญญา)                             |เสร็จสิ้น|4601     |INTERVAL '0 00:01:33.820081' DAY TO SECOND|INTERVAL '30 17:09:57.249726' DAY TO SECOND |INTERVAL '322 11:05:09.656684' DAY TO SECOND|\n",
            "|เขตราชเทวี                                           |เสร็จสิ้น|4593     |INTERVAL '0 00:01:12.354862' DAY TO SECOND|INTERVAL '37 01:27:48.175338' DAY TO SECOND |INTERVAL '320 12:21:26.667447' DAY TO SECOND|\n",
            "|ฝ่ายโยธา เขตประเวศ                                   |เสร็จสิ้น|4494     |INTERVAL '0 00:08:27.138181' DAY TO SECOND|INTERVAL '31 21:45:17.415475' DAY TO SECOND |INTERVAL '309 09:09:43.526584' DAY TO SECOND|\n",
            "|เขตดินแดง                                            |เสร็จสิ้น|4462     |INTERVAL '0 00:00:14.963721' DAY TO SECOND|INTERVAL '36 16:47:17.696687' DAY TO SECOND |INTERVAL '337 01:03:06.82361' DAY TO SECOND |\n",
            "|เขตสาทร                                              |เสร็จสิ้น|4369     |INTERVAL '0 00:00:27.941425' DAY TO SECOND|INTERVAL '37 16:25:47.806722' DAY TO SECOND |INTERVAL '464 10:21:28.527899' DAY TO SECOND|\n",
            "|เขตลาดพร้าว                                          |เสร็จสิ้น|4362     |INTERVAL '0 00:01:32.86199' DAY TO SECOND |INTERVAL '27 04:12:04.986013' DAY TO SECOND |INTERVAL '461 19:04:59.531864' DAY TO SECOND|\n",
            "|เขตบางกอกน้อย                                        |เสร็จสิ้น|4360     |INTERVAL '0 00:02:06.495818' DAY TO SECOND|INTERVAL '77 05:26:44.727164' DAY TO SECOND |INTERVAL '342 21:23:59.033968' DAY TO SECOND|\n",
            "|เขตบางรัก                                            |เสร็จสิ้น|4311     |INTERVAL '0 00:03:31.196164' DAY TO SECOND|INTERVAL '130 21:33:18.599968' DAY TO SECOND|INTERVAL '337 16:40:15.075686' DAY TO SECOND|\n",
            "|เขตวังทองหลาง                                        |เสร็จสิ้น|4283     |INTERVAL '0 00:01:39.637923' DAY TO SECOND|INTERVAL '41 19:27:12.891589' DAY TO SECOND |INTERVAL '335 19:16:05.937949' DAY TO SECOND|\n",
            "|สำนักงานวิศวกรรมจราจร สวจ. สจส.                      |เสร็จสิ้น|4098     |INTERVAL '0 00:07:42.753807' DAY TO SECOND|INTERVAL '96 11:38:28.48489' DAY TO SECOND  |INTERVAL '461 19:04:59.531864' DAY TO SECOND|\n",
            "|ผอ.เขตบางขุนเทียน (นางภัสรา)                         |เสร็จสิ้น|4071     |INTERVAL '0 00:00:42.499754' DAY TO SECOND|INTERVAL '20 13:43:20.133532' DAY TO SECOND |INTERVAL '293 17:02:15.806032' DAY TO SECOND|\n",
            "|เขตพญาไท                                             |เสร็จสิ้น|4051     |INTERVAL '0 00:02:49.730486' DAY TO SECOND|INTERVAL '39 01:11:11.838862' DAY TO SECOND |INTERVAL '334 02:47:46.876629' DAY TO SECOND|\n",
            "|เขตธนบุรี                                            |เสร็จสิ้น|4021     |INTERVAL '0 00:03:03.717612' DAY TO SECOND|INTERVAL '30 10:47:33.21874' DAY TO SECOND  |INTERVAL '335 13:44:24.512613' DAY TO SECOND|\n",
            "|เขตสายไหม                                            |เสร็จสิ้น|3910     |INTERVAL '0 00:02:55.533662' DAY TO SECOND|INTERVAL '39 03:18:41.457675' DAY TO SECOND |INTERVAL '335 01:18:53.713309' DAY TO SECOND|\n",
            "|เขตบางนา                                             |เสร็จสิ้น|3884     |INTERVAL '0 00:00:52.811171' DAY TO SECOND|INTERVAL '40 09:39:43.020751' DAY TO SECOND |INTERVAL '321 14:10:51.160866' DAY TO SECOND|\n",
            "|เขตคลองสามวา                                         |เสร็จสิ้น|3839     |INTERVAL '0 00:08:40.708198' DAY TO SECOND|INTERVAL '43 22:51:58.180062' DAY TO SECOND |INTERVAL '334 08:05:34.380593' DAY TO SECOND|\n",
            "|ผอ.เขตบึงกุ่ม (นายนันทพงศ์)                          |เสร็จสิ้น|3812     |INTERVAL '0 00:01:21.967133' DAY TO SECOND|INTERVAL '31 22:57:34.869092' DAY TO SECOND |INTERVAL '308 11:04:26.594791' DAY TO SECOND|\n",
            "|ผอ.เขตบางซื่อ (นายสรสิช)                             |เสร็จสิ้น|3788     |INTERVAL '0 00:01:17.85275' DAY TO SECOND |INTERVAL '50 19:27:05.318781' DAY TO SECOND |INTERVAL '324 21:00:38.384502' DAY TO SECOND|\n",
            "|เขตพระนคร                                            |เสร็จสิ้น|3755     |INTERVAL '0 00:00:21.569294' DAY TO SECOND|INTERVAL '30 20:59:30.72613' DAY TO SECOND  |INTERVAL '328 12:35:50.598446' DAY TO SECOND|\n",
            "|สำนักสิ่งแวดล้อม กทม.                                |เสร็จสิ้น|3599     |INTERVAL '0 00:07:24.421402' DAY TO SECOND|INTERVAL '20 01:18:52.567216' DAY TO SECOND |INTERVAL '317 19:54:09.693206' DAY TO SECOND|\n",
            "|ผอ.เขตราชเทวี (นายณันทพงศ์)                          |เสร็จสิ้น|3558     |INTERVAL '0 00:01:12.354862' DAY TO SECOND|INTERVAL '36 21:39:17.38883' DAY TO SECOND  |INTERVAL '311 20:31:22.790095' DAY TO SECOND|\n",
            "|เขตมีนบุรี                                           |เสร็จสิ้น|3550     |INTERVAL '0 00:04:45.271212' DAY TO SECOND|INTERVAL '35 19:02:48.37934' DAY TO SECOND  |INTERVAL '326 00:09:45.871204' DAY TO SECOND|\n",
            "|เขตห้วยขวาง                                          |เสร็จสิ้น|3535     |INTERVAL '0 00:00:28.069528' DAY TO SECOND|INTERVAL '45 05:19:38.261846' DAY TO SECOND |INTERVAL '337 02:28:48.481957' DAY TO SECOND|\n",
            "|เขตบางพลัด                                           |เสร็จสิ้น|3493     |INTERVAL '0 00:02:12.272308' DAY TO SECOND|INTERVAL '34 01:56:55.686983' DAY TO SECOND |INTERVAL '334 23:19:54.11612' DAY TO SECOND |\n",
            "|เขตภาษีเจริญ                                         |เสร็จสิ้น|3466     |INTERVAL '0 00:02:47.847551' DAY TO SECOND|INTERVAL '23 17:56:45.825666' DAY TO SECOND |INTERVAL '329 01:18:09.680928' DAY TO SECOND|\n",
            "|ผอ.เขตปทุมวัน (น.ส.สุขวิชญาณ์)                       |เสร็จสิ้น|3402     |INTERVAL '0 00:00:22.509931' DAY TO SECOND|INTERVAL '34 05:00:49.989566' DAY TO SECOND |INTERVAL '297 15:25:04.617836' DAY TO SECOND|\n",
            "|ฝ่ายเทศกิจ เขตบางแค                                  |เสร็จสิ้น|3389     |INTERVAL '0 00:03:53.905625' DAY TO SECOND|INTERVAL '5 19:32:29.717703' DAY TO SECOND  |INTERVAL '260 04:57:25.113204' DAY TO SECOND|\n",
            "|ผอ.เขตลาดพร้าว (นางสุภาพร)                           |เสร็จสิ้น|3380     |INTERVAL '0 00:01:32.86199' DAY TO SECOND |INTERVAL '28 02:14:25.515549' DAY TO SECOND |INTERVAL '331 16:54:00.451557' DAY TO SECOND|\n",
            "|ผอ.เขตสาทร (นายชาติชาย)                              |เสร็จสิ้น|3357     |INTERVAL '0 00:00:27.941425' DAY TO SECOND|INTERVAL '42 01:29:33.197225' DAY TO SECOND |INTERVAL '322 09:27:00.881853' DAY TO SECOND|\n",
            "|ผอ.เขตบางกอกน้อย (นางธราพร)                          |เสร็จสิ้น|3346     |INTERVAL '0 00:02:06.495818' DAY TO SECOND|INTERVAL '93 00:26:50.280762' DAY TO SECOND |INTERVAL '342 21:23:59.033968' DAY TO SECOND|\n",
            "|ผอ.เขตดินแดง (นายชูชาติ)                             |เสร็จสิ้น|3288     |INTERVAL '0 00:00:14.963721' DAY TO SECOND|INTERVAL '31 11:51:35.163383' DAY TO SECOND |INTERVAL '337 01:03:06.82361' DAY TO SECOND |\n",
            "|ผอ.เขตพญาไท (นางสุวรรณ)                              |เสร็จสิ้น|3281     |INTERVAL '0 00:02:49.730486' DAY TO SECOND|INTERVAL '40 01:01:55.709268' DAY TO SECOND |INTERVAL '334 02:47:46.876629' DAY TO SECOND|\n",
            "|เขตพระโขนง                                           |เสร็จสิ้น|3281     |INTERVAL '0 00:02:20.235263' DAY TO SECOND|INTERVAL '28 16:04:00.909597' DAY TO SECOND |INTERVAL '330 21:57:52.999928' DAY TO SECOND|\n",
            "|เขตสะพานสูง                                          |เสร็จสิ้น|3276     |INTERVAL '0 00:03:07.214419' DAY TO SECOND|INTERVAL '61 19:10:57.323824' DAY TO SECOND |INTERVAL '343 05:04:54.883538' DAY TO SECOND|\n",
            "|เขตหนองจอก                                           |เสร็จสิ้น|3276     |INTERVAL '0 00:05:32.061401' DAY TO SECOND|INTERVAL '60 06:57:10.71802' DAY TO SECOND  |INTERVAL '323 20:54:55.000841' DAY TO SECOND|\n",
            "|เขตหลักสี่                                           |เสร็จสิ้น|3257     |INTERVAL '0 00:00:30.06315' DAY TO SECOND |INTERVAL '34 03:45:59.203719' DAY TO SECOND |INTERVAL '334 10:26:59.200152' DAY TO SECOND|\n",
            "|ผอ.เขตบางนา (น.ส.โศรยา)                              |เสร็จสิ้น|3182     |INTERVAL '0 00:00:52.811171' DAY TO SECOND|INTERVAL '36 14:16:57.097675' DAY TO SECOND |INTERVAL '321 01:21:45.673974' DAY TO SECOND|\n",
            "|ผอ.เขตวังทองหลาง (นายโครงการ)                        |เสร็จสิ้น|3178     |INTERVAL '0 00:01:39.637923' DAY TO SECOND|INTERVAL '49 13:32:00.77064' DAY TO SECOND  |INTERVAL '303 02:40:10.826009' DAY TO SECOND|\n",
            "|เขตดอนเมือง                                          |เสร็จสิ้น|3156     |INTERVAL '0 00:05:11.340278' DAY TO SECOND|INTERVAL '25 17:26:06.755146' DAY TO SECOND |INTERVAL '320 15:24:17.971563' DAY TO SECOND|\n",
            "|เขตจอมทอง                                            |เสร็จสิ้น|3143     |INTERVAL '0 00:01:34.671773' DAY TO SECOND|INTERVAL '42 13:21:18.607307' DAY TO SECOND |INTERVAL '334 13:23:45.447415' DAY TO SECOND|\n",
            "|ผอ.เขตคลองสามวา (นายพันธ์ศักดิ์)                     |เสร็จสิ้น|3095     |INTERVAL '0 00:08:40.708198' DAY TO SECOND|INTERVAL '50 09:24:49.868402' DAY TO SECOND |INTERVAL '334 08:05:34.380593' DAY TO SECOND|\n",
            "|กองบังคับการตำรวจนครบาล 5 (บก.น.5)                   |เสร็จสิ้น|3077     |INTERVAL '0 00:05:31.585281' DAY TO SECOND|INTERVAL '38 09:16:04.063513' DAY TO SECOND |INTERVAL '327 02:41:07.399403' DAY TO SECOND|\n",
            "|ผอ.เขตสายไหม (นายสมบัติ)                             |เสร็จสิ้น|3075     |INTERVAL '0 00:02:55.533662' DAY TO SECOND|INTERVAL '44 13:38:09.409816' DAY TO SECOND |INTERVAL '335 01:18:53.713309' DAY TO SECOND|\n",
            "|ฝ่ายโยธา เขตวัฒนา                                    |เสร็จสิ้น|3014     |INTERVAL '0 00:08:55.604472' DAY TO SECOND|INTERVAL '54 04:01:31.351048' DAY TO SECOND |INTERVAL '323 11:38:21.846881' DAY TO SECOND|\n",
            "|ผอ.เขตบางรัก (น.ส.อัญชนา)                            |เสร็จสิ้น|2979     |INTERVAL '0 00:03:31.196164' DAY TO SECOND|INTERVAL '169 04:07:32.483565' DAY TO SECOND|INTERVAL '332 22:27:15.1033' DAY TO SECOND  |\n",
            "|เขตตลิ่งชัน                                          |เสร็จสิ้น|2875     |INTERVAL '0 00:25:20.346622' DAY TO SECOND|INTERVAL '38 20:12:24.07256' DAY TO SECOND  |INTERVAL '340 14:43:02.45873' DAY TO SECOND |\n",
            "|ผอ.เขตมีนบุรี (นายศักดิ์ชัย)                         |เสร็จสิ้น|2790     |INTERVAL '0 00:04:45.271212' DAY TO SECOND|INTERVAL '35 16:04:54.915747' DAY TO SECOND |INTERVAL '300 18:17:23.188074' DAY TO SECOND|\n",
            "|เขตทุ่งครุ                                           |เสร็จสิ้น|2750     |INTERVAL '0 00:03:52.76768' DAY TO SECOND |INTERVAL '21 15:21:37.870198' DAY TO SECOND |INTERVAL '340 18:35:01.174216' DAY TO SECOND|\n",
            "|ผอ.เขตพระนคร (นายสัมฤทธิ์)                           |เสร็จสิ้น|2741     |INTERVAL '0 00:00:21.569294' DAY TO SECOND|INTERVAL '35 17:38:15.274904' DAY TO SECOND |INTERVAL '312 23:33:30.347908' DAY TO SECOND|\n",
            "|เขตป้อมปราบศัตรูพ่าย                                 |เสร็จสิ้น|2714     |INTERVAL '0 00:05:05.841313' DAY TO SECOND|INTERVAL '30 22:44:36.568049' DAY TO SECOND |INTERVAL '345 21:09:21.609915' DAY TO SECOND|\n",
            "|ผอ.เขตสะพานสูง (น.ส.เสาวลักษณ์)                      |เสร็จสิ้น|2712     |INTERVAL '0 00:03:07.214419' DAY TO SECOND|INTERVAL '68 07:36:11.366244' DAY TO SECOND |INTERVAL '343 05:04:54.883538' DAY TO SECOND|\n",
            "|เขตหนองแขม                                           |เสร็จสิ้น|2711     |INTERVAL '0 00:03:15.100478' DAY TO SECOND|INTERVAL '26 22:59:15.397163' DAY TO SECOND |INTERVAL '345 09:28:01.064438' DAY TO SECOND|\n",
            "|เขตยานนาวา                                           |เสร็จสิ้น|2707     |INTERVAL '0 00:13:34.257114' DAY TO SECOND|INTERVAL '38 05:53:19.201769' DAY TO SECOND |INTERVAL '336 21:41:25.159975' DAY TO SECOND|\n",
            "|ผอ.เขตพระโขนง (น.ส.วรุณลักษม์)                       |เสร็จสิ้น|2703     |INTERVAL '0 00:02:20.235263' DAY TO SECOND|INTERVAL '28 09:49:06.244437' DAY TO SECOND |INTERVAL '282 13:29:42.745231' DAY TO SECOND|\n",
            "|ผอ.เขตธนบุรี (ว่าที่ ร.ต.เดชาธร)                     |เสร็จสิ้น|2642     |INTERVAL '0 00:06:35.601847' DAY TO SECOND|INTERVAL '30 02:10:33.956026' DAY TO SECOND |INTERVAL '335 10:06:42.874013' DAY TO SECOND|\n",
            "|ผอ.เขตดอนเมือง (นายสาโรจน์)                          |เสร็จสิ้น|2623     |INTERVAL '0 00:05:11.340278' DAY TO SECOND|INTERVAL '26 03:30:55.19168' DAY TO SECOND  |INTERVAL '318 21:36:21.889543' DAY TO SECOND|\n",
            "|ผอ.เขตห้วยขวาง (นายไพฑูรย์)                          |เสร็จสิ้น|2603     |INTERVAL '0 00:00:28.069528' DAY TO SECOND|INTERVAL '33 15:58:46.814306' DAY TO SECOND |INTERVAL '327 12:20:21.643108' DAY TO SECOND|\n",
            "|ผอ.เขตหนองจอก (นายไพโรจน์)                           |เสร็จสิ้น|2585     |INTERVAL '0 00:05:32.061401' DAY TO SECOND|INTERVAL '68 02:22:43.436186' DAY TO SECOND |INTERVAL '296 23:53:53.532936' DAY TO SECOND|\n",
            "|ฝ่ายโยธา เขตจตุจักร                                  |เสร็จสิ้น|2558     |INTERVAL '0 00:17:21.586646' DAY TO SECOND|INTERVAL '144 17:15:26.00325' DAY TO SECOND |INTERVAL '335 18:51:39.44233' DAY TO SECOND |\n",
            "|ผอ.เขตภาษีเจริญ (นางเยาวะสกุล)                       |เสร็จสิ้น|2552     |INTERVAL '0 00:02:47.847551' DAY TO SECOND|INTERVAL '20 19:46:44.548728' DAY TO SECOND |INTERVAL '305 09:03:21.343005' DAY TO SECOND|\n",
            "|ผอ.เขตหลักสี่ (นางสมฤดี)                             |เสร็จสิ้น|2530     |INTERVAL '0 00:00:30.06315' DAY TO SECOND |INTERVAL '38 09:19:01.092367' DAY TO SECOND |INTERVAL '334 10:26:59.200152' DAY TO SECOND|\n",
            "|เขตบางคอแหลม                                         |เสร็จสิ้น|2498     |INTERVAL '0 00:01:36.057744' DAY TO SECOND|INTERVAL '16 04:55:21.112629' DAY TO SECOND |INTERVAL '327 22:08:25.642183' DAY TO SECOND|\n",
            "|เขตบางบอน                                            |เสร็จสิ้น|2450     |INTERVAL '0 00:02:38.89574' DAY TO SECOND |INTERVAL '31 00:57:45.44555' DAY TO SECOND  |INTERVAL '335 17:32:45.266438' DAY TO SECOND|\n",
            "|กรุงเทพโปร่งใส                                       |เสร็จสิ้น|2445     |INTERVAL '0 00:22:59.198509' DAY TO SECOND|INTERVAL '20 06:16:59.804317' DAY TO SECOND |INTERVAL '274 06:40:47.355038' DAY TO SECOND|\n",
            "|ผอ.เขตบางพลัด (น.ส.อารียา)                           |เสร็จสิ้น|2437     |INTERVAL '0 00:02:12.272308' DAY TO SECOND|INTERVAL '32 07:54:00.789456' DAY TO SECOND |INTERVAL '334 23:19:54.11612' DAY TO SECOND |\n",
            "|กองบังคับการตำรวจนครบาล 2 (บก.น.2)                   |เสร็จสิ้น|2430     |INTERVAL '0 00:03:17.322942' DAY TO SECOND|INTERVAL '26 13:34:41.41599' DAY TO SECOND  |INTERVAL '297 22:08:07.52607' DAY TO SECOND |\n",
            "+-----------------------------------------------------+---------+---------+------------------------------------------+--------------------------------------------+--------------------------------------------+\n",
            "only showing top 100 rows\n",
            "\n"
          ]
        }
      ],
      "source": [
        "from pyspark.sql.functions import explode, size\n",
        "\n",
        "df_exploded = df.select(explode('organization').alias('organization_exploded'), 'state', 'time_to_state')\n",
        "\n",
        "df_grouped = df_exploded.groupBy('organization_exploded', 'state') \\\n",
        "                        .agg(count('time_to_state').alias('row_count'),\n",
        "                             min('time_to_state').alias('min_time_to_state'),\n",
        "                             avg('time_to_state').alias('avg_time_to_state'),\n",
        "                             max('time_to_state').alias('max_time_to_state')) \\\n",
        "                        .filter(col('state') == 'เสร็จสิ้น') \\\n",
        "                        .orderBy('row_count', ascending=False)\n",
        "\n",
        "df_org_1 = df_grouped\n",
        "df_org_1.show(100, False)"
      ]
    },
    {
      "cell_type": "code",
      "execution_count": 38,
      "metadata": {
        "id": "pRTghIw2leZh"
      },
      "outputs": [],
      "source": [
        "df_org_1.write.option(\"header\", \"true\").csv(path=\"/content/spark_output/org_1\")"
      ]
    },
    {
      "cell_type": "markdown",
      "metadata": {
        "id": "G1H6Qs3NtdYx"
      },
      "source": [
        "## Focus on district"
      ]
    },
    {
      "cell_type": "code",
      "execution_count": 39,
      "metadata": {
        "id": "wpoqk83YtSha",
        "colab": {
          "base_uri": "https://localhost:8080/"
        },
        "outputId": "3e02deb2-831a-47a5-860c-4afa091390b0"
      },
      "outputs": [
        {
          "output_type": "stream",
          "name": "stdout",
          "text": [
            "+------------+--------------+---------+--------------------------------------------+--------------------------------------------+--------------------------------------------+\n",
            "|district    |state         |row_count|min_time_to_state                           |avg_time_to_state                           |max_time_to_state                           |\n",
            "+------------+--------------+---------+--------------------------------------------+--------------------------------------------+--------------------------------------------+\n",
            "|null        |กำลังดำเนินการ|9        |INTERVAL '39 11:35:20.576196' DAY TO SECOND |INTERVAL '111 06:13:12.151308' DAY TO SECOND|INTERVAL '274 15:52:58.551807' DAY TO SECOND|\n",
            "|null        |รอรับเรื่อง   |18       |INTERVAL '-0 00:00:00.012137' DAY TO SECOND |INTERVAL '0 04:12:23.572281' DAY TO SECOND  |INTERVAL '2 01:28:28.354655' DAY TO SECOND  |\n",
            "|null        |เสร็จสิ้น     |47       |INTERVAL '0 00:16:04.067019' DAY TO SECOND  |INTERVAL '67 06:58:15.141717' DAY TO SECOND |INTERVAL '328 21:50:16.070635' DAY TO SECOND|\n",
            "|กระทุ่มแบน  |รอรับเรื่อง   |7        |INTERVAL '-0 00:00:00.011613' DAY TO SECOND |INTERVAL '0 00:00:00.521621' DAY TO SECOND  |INTERVAL '0 00:00:01.357777' DAY TO SECOND  |\n",
            "|กะทู้       |รอรับเรื่อง   |3        |INTERVAL '0 00:00:01.259205' DAY TO SECOND  |INTERVAL '0 00:00:01.33994' DAY TO SECOND   |INTERVAL '0 00:00:01.40576' DAY TO SECOND   |\n",
            "|กำแพงแสน    |รอรับเรื่อง   |3        |INTERVAL '0 00:00:00.394106' DAY TO SECOND  |INTERVAL '0 00:00:00.459981' DAY TO SECOND  |INTERVAL '0 00:00:00.539517' DAY TO SECOND  |\n",
            "|กุมภวาปี    |รอรับเรื่อง   |3        |INTERVAL '0 00:00:00.476817' DAY TO SECOND  |INTERVAL '0 00:00:00.544815' DAY TO SECOND  |INTERVAL '0 00:00:00.67075' DAY TO SECOND   |\n",
            "|ขนอม        |รอรับเรื่อง   |1        |INTERVAL '0 00:00:00.48473' DAY TO SECOND   |INTERVAL '0 00:00:00.48473' DAY TO SECOND   |INTERVAL '0 00:00:00.48473' DAY TO SECOND   |\n",
            "|ขลุง        |รอรับเรื่อง   |3        |INTERVAL '0 00:00:00.453593' DAY TO SECOND  |INTERVAL '0 00:00:02.691997' DAY TO SECOND  |INTERVAL '0 00:00:04.136437' DAY TO SECOND  |\n",
            "|ขามทะเลสอ   |รอรับเรื่อง   |1        |INTERVAL '-0 00:00:00.010689' DAY TO SECOND |INTERVAL '-0 00:00:00.010689' DAY TO SECOND |INTERVAL '-0 00:00:00.010689' DAY TO SECOND |\n",
            "|ขุนหาญ      |กำลังดำเนินการ|1        |INTERVAL '0 10:01:04.679386' DAY TO SECOND  |INTERVAL '0 10:01:04.679386' DAY TO SECOND  |INTERVAL '0 10:01:04.679386' DAY TO SECOND  |\n",
            "|คลองสาน     |เสร็จสิ้น     |2228     |INTERVAL '0 00:06:30.737435' DAY TO SECOND  |INTERVAL '46 19:17:11.694975' DAY TO SECOND |INTERVAL '340 20:06:33.647664' DAY TO SECOND|\n",
            "|คลองสาน     |รอรับเรื่อง   |260      |INTERVAL '0 00:00:52.912213' DAY TO SECOND  |INTERVAL '14 11:01:15.10029' DAY TO SECOND  |INTERVAL '321 04:43:19.444304' DAY TO SECOND|\n",
            "|คลองสาน     |กำลังดำเนินการ|433      |INTERVAL '0 00:04:14.453403' DAY TO SECOND  |INTERVAL '101 13:14:49.746043' DAY TO SECOND|INTERVAL '328 21:14:01.256734' DAY TO SECOND|\n",
            "|คลองสามวา   |กำลังดำเนินการ|1214     |INTERVAL '0 00:02:50.015934' DAY TO SECOND  |INTERVAL '78 06:43:41.334702' DAY TO SECOND |INTERVAL '325 01:41:17.601131' DAY TO SECOND|\n",
            "|คลองสามวา   |เสร็จสิ้น     |3726     |INTERVAL '0 00:08:40.708198' DAY TO SECOND  |INTERVAL '44 22:01:02.904649' DAY TO SECOND |INTERVAL '334 08:05:34.380593' DAY TO SECOND|\n",
            "|คลองสามวา   |รอรับเรื่อง   |247      |INTERVAL '-0 00:00:00.011603' DAY TO SECOND |INTERVAL '2 17:51:16.47321' DAY TO SECOND   |INTERVAL '178 01:28:49.943843' DAY TO SECOND|\n",
            "|คลองหลวง    |รอรับเรื่อง   |17       |INTERVAL '-0 00:00:00.011052' DAY TO SECOND |INTERVAL '0 00:00:00.497947' DAY TO SECOND  |INTERVAL '0 00:00:01.336357' DAY TO SECOND  |\n",
            "|คลองหลวง    |เสร็จสิ้น     |1        |INTERVAL '155 00:30:36.296082' DAY TO SECOND|INTERVAL '155 00:30:36.296082' DAY TO SECOND|INTERVAL '155 00:30:36.296082' DAY TO SECOND|\n",
            "|คลองเตย     |เสร็จสิ้น     |6068     |INTERVAL '0 00:01:33.820081' DAY TO SECOND  |INTERVAL '33 03:55:31.286722' DAY TO SECOND |INTERVAL '342 20:56:24.022588' DAY TO SECOND|\n",
            "|คลองเตย     |กำลังดำเนินการ|1378     |INTERVAL '0 00:01:21.50014' DAY TO SECOND   |INTERVAL '87 00:50:31.922305' DAY TO SECOND |INTERVAL '337 19:56:35.856162' DAY TO SECOND|\n",
            "|คลองเตย     |รอรับเรื่อง   |996      |INTERVAL '-0 00:00:00.011484' DAY TO SECOND |INTERVAL '11 05:48:23.470931' DAY TO SECOND |INTERVAL '303 23:20:16.459307' DAY TO SECOND|\n",
            "|คันนายาว    |กำลังดำเนินการ|823      |INTERVAL '0 00:00:49.692751' DAY TO SECOND  |INTERVAL '50 05:32:44.969076' DAY TO SECOND |INTERVAL '340 12:20:18.943671' DAY TO SECOND|\n",
            "|คันนายาว    |รอรับเรื่อง   |108      |INTERVAL '-0 00:00:00.010111' DAY TO SECOND |INTERVAL '8 01:44:26.757614' DAY TO SECOND  |INTERVAL '223 22:47:55.520554' DAY TO SECOND|\n",
            "|คันนายาว    |เสร็จสิ้น     |1969     |INTERVAL '0 00:02:39.685346' DAY TO SECOND  |INTERVAL '23 08:16:40.821987' DAY TO SECOND |INTERVAL '306 07:43:36.420139' DAY TO SECOND|\n",
            "|ค่ายบางระจัน|รอรับเรื่อง   |1        |INTERVAL '-0 00:00:00.017248' DAY TO SECOND |INTERVAL '-0 00:00:00.017248' DAY TO SECOND |INTERVAL '-0 00:00:00.017248' DAY TO SECOND |\n",
            "|จตุจักร     |เสร็จสิ้น     |9960     |INTERVAL '0 00:00:22.599861' DAY TO SECOND  |INTERVAL '93 07:02:08.078718' DAY TO SECOND |INTERVAL '338 12:52:21.134937' DAY TO SECOND|\n",
            "|จตุจักร     |รอรับเรื่อง   |1383     |INTERVAL '-0 00:00:00.014335' DAY TO SECOND |INTERVAL '9 20:12:46.049226' DAY TO SECOND  |INTERVAL '313 17:02:00.646647' DAY TO SECOND|\n",
            "|จตุจักร     |กำลังดำเนินการ|3593     |INTERVAL '0 00:00:45.329832' DAY TO SECOND  |INTERVAL '84 02:07:17.278586' DAY TO SECOND |INTERVAL '343 03:56:03.655996' DAY TO SECOND|\n",
            "|จอมทอง      |กำลังดำเนินการ|723      |INTERVAL '0 00:02:20.908931' DAY TO SECOND  |INTERVAL '83 09:27:24.851842' DAY TO SECOND |INTERVAL '333 15:59:48.111023' DAY TO SECOND|\n",
            "|จอมทอง      |เสร็จสิ้น     |3140     |INTERVAL '0 00:01:34.671773' DAY TO SECOND  |INTERVAL '44 00:34:06.128603' DAY TO SECOND |INTERVAL '334 13:23:45.447415' DAY TO SECOND|\n",
            "|จอมทอง      |รอรับเรื่อง   |485      |INTERVAL '-0 00:00:00.014882' DAY TO SECOND |INTERVAL '15 09:24:30.698659' DAY TO SECOND |INTERVAL '319 15:56:37.518889' DAY TO SECOND|\n",
            "|จะนะ        |รอรับเรื่อง   |1        |INTERVAL '25 20:05:56.500744' DAY TO SECOND |INTERVAL '25 20:05:56.500744' DAY TO SECOND |INTERVAL '25 20:05:56.500744' DAY TO SECOND |\n",
            "|ฉวาง        |รอรับเรื่อง   |1        |INTERVAL '0 00:00:00.589526' DAY TO SECOND  |INTERVAL '0 00:00:00.589526' DAY TO SECOND  |INTERVAL '0 00:00:00.589526' DAY TO SECOND  |\n",
            "|ชานุมาน     |รอรับเรื่อง   |2        |INTERVAL '0 00:00:00.40887' DAY TO SECOND   |INTERVAL '0 00:00:00.427031' DAY TO SECOND  |INTERVAL '0 00:00:00.445191' DAY TO SECOND  |\n",
            "|ดอนเมือง    |รอรับเรื่อง   |289      |INTERVAL '0 00:00:00.592791' DAY TO SECOND  |INTERVAL '3 19:41:37.034324' DAY TO SECOND  |INTERVAL '310 12:03:59.930935' DAY TO SECOND|\n",
            "|ดอนเมือง    |เสร็จสิ้น     |3146     |INTERVAL '0 00:05:11.340278' DAY TO SECOND  |INTERVAL '25 19:46:26.062788' DAY TO SECOND |INTERVAL '320 15:24:17.971563' DAY TO SECOND|\n",
            "|ดอนเมือง    |กำลังดำเนินการ|492      |INTERVAL '0 00:01:19.916341' DAY TO SECOND  |INTERVAL '78 01:20:53.363277' DAY TO SECOND |INTERVAL '326 13:01:24.498062' DAY TO SECOND|\n",
            "|ดอยสะเก็ด   |รอรับเรื่อง   |3        |INTERVAL '0 00:00:03.420058' DAY TO SECOND  |INTERVAL '1 21:17:52.787329' DAY TO SECOND  |INTERVAL '5 15:53:29.648628' DAY TO SECOND  |\n",
            "|ดินแดง      |รอรับเรื่อง   |424      |INTERVAL '-0 00:00:00.017111' DAY TO SECOND |INTERVAL '13 21:23:36.994921' DAY TO SECOND |INTERVAL '305 15:03:06.98835' DAY TO SECOND |\n",
            "|ดินแดง      |กำลังดำเนินการ|1869     |INTERVAL '0 00:01:18.233259' DAY TO SECOND  |INTERVAL '90 05:19:59.854994' DAY TO SECOND |INTERVAL '343 23:35:05.815546' DAY TO SECOND|\n",
            "|ดินแดง      |เสร็จสิ้น     |4419     |INTERVAL '0 00:00:14.963721' DAY TO SECOND  |INTERVAL '36 22:44:19.989173' DAY TO SECOND |INTERVAL '337 01:03:06.82361' DAY TO SECOND |\n",
            "|ดุสิต       |เสร็จสิ้น     |2193     |INTERVAL '0 00:01:49.822306' DAY TO SECOND  |INTERVAL '41 13:36:20.673357' DAY TO SECOND |INTERVAL '433 21:32:48.546884' DAY TO SECOND|\n",
            "|ดุสิต       |รอรับเรื่อง   |161      |INTERVAL '-0 00:00:00.016421' DAY TO SECOND |INTERVAL '6 11:09:51.562839' DAY TO SECOND  |INTERVAL '161 13:49:07.128872' DAY TO SECOND|\n",
            "|ดุสิต       |กำลังดำเนินการ|648      |INTERVAL '0 00:02:07.440717' DAY TO SECOND  |INTERVAL '116 08:42:30.819999' DAY TO SECOND|INTERVAL '334 11:55:06.483374' DAY TO SECOND|\n",
            "|ด่านขุนทด   |รอรับเรื่อง   |1        |INTERVAL '0 00:00:00.644167' DAY TO SECOND  |INTERVAL '0 00:00:00.644167' DAY TO SECOND  |INTERVAL '0 00:00:00.644167' DAY TO SECOND  |\n",
            "|ตระการพืชผล |รอรับเรื่อง   |1        |INTERVAL '0 00:00:00.549758' DAY TO SECOND  |INTERVAL '0 00:00:00.549758' DAY TO SECOND  |INTERVAL '0 00:00:00.549758' DAY TO SECOND  |\n",
            "|ตลิ่งชัน    |รอรับเรื่อง   |539      |INTERVAL '0 00:00:00.3982' DAY TO SECOND    |INTERVAL '10 19:40:32.354737' DAY TO SECOND |INTERVAL '268 03:29:16.547476' DAY TO SECOND|\n",
            "|ตลิ่งชัน    |กำลังดำเนินการ|785      |INTERVAL '0 00:24:03.342299' DAY TO SECOND  |INTERVAL '98 08:33:14.279802' DAY TO SECOND |INTERVAL '327 12:40:20.659879' DAY TO SECOND|\n",
            "|ตลิ่งชัน    |เสร็จสิ้น     |2866     |INTERVAL '0 00:25:20.346622' DAY TO SECOND  |INTERVAL '38 21:09:46.33288' DAY TO SECOND  |INTERVAL '340 14:43:02.45873' DAY TO SECOND |\n",
            "|ตะพานหิน    |รอรับเรื่อง   |2        |INTERVAL '0 00:00:00.433575' DAY TO SECOND  |INTERVAL '0 00:00:00.45847' DAY TO SECOND   |INTERVAL '0 00:00:00.483365' DAY TO SECOND  |\n",
            "|ตากฟ้า      |เสร็จสิ้น     |1        |INTERVAL '37 00:55:25.072722' DAY TO SECOND |INTERVAL '37 00:55:25.072722' DAY TO SECOND |INTERVAL '37 00:55:25.072722' DAY TO SECOND |\n",
            "|ถลาง        |กำลังดำเนินการ|1        |INTERVAL '160 19:19:59.510214' DAY TO SECOND|INTERVAL '160 19:19:59.510214' DAY TO SECOND|INTERVAL '160 19:19:59.510214' DAY TO SECOND|\n",
            "|ถลาง        |เสร็จสิ้น     |1        |INTERVAL '266 05:21:10.291922' DAY TO SECOND|INTERVAL '266 05:21:10.291922' DAY TO SECOND|INTERVAL '266 05:21:10.291922' DAY TO SECOND|\n",
            "|ทวีวัฒนา    |เสร็จสิ้น     |1968     |INTERVAL '0 00:06:48.858968' DAY TO SECOND  |INTERVAL '32 19:46:09.991485' DAY TO SECOND |INTERVAL '322 14:14:41.555572' DAY TO SECOND|\n",
            "|ทวีวัฒนา    |กำลังดำเนินการ|330      |INTERVAL '0 00:01:37.512179' DAY TO SECOND  |INTERVAL '50 03:01:36.38342' DAY TO SECOND  |INTERVAL '328 01:25:25.789224' DAY TO SECOND|\n",
            "|ทวีวัฒนา    |รอรับเรื่อง   |157      |INTERVAL '0 00:00:44.809487' DAY TO SECOND  |INTERVAL '3 09:10:13.505013' DAY TO SECOND  |INTERVAL '235 18:14:18.660561' DAY TO SECOND|\n",
            "|ทุ่งครุ     |กำลังดำเนินการ|321      |INTERVAL '0 00:01:00.982468' DAY TO SECOND  |INTERVAL '64 05:26:55.667729' DAY TO SECOND |INTERVAL '321 08:02:08.36446' DAY TO SECOND |\n",
            "|ทุ่งครุ     |รอรับเรื่อง   |147      |INTERVAL '-0 00:00:00.014119' DAY TO SECOND |INTERVAL '7 15:24:40.634167' DAY TO SECOND  |INTERVAL '283 03:04:12.519843' DAY TO SECOND|\n",
            "|ทุ่งครุ     |เสร็จสิ้น     |2723     |INTERVAL '0 00:03:52.76768' DAY TO SECOND   |INTERVAL '21 19:08:51.842773' DAY TO SECOND |INTERVAL '340 18:35:01.174216' DAY TO SECOND|\n",
            "|ทุ่งเสลี่ยม |รอรับเรื่อง   |2        |INTERVAL '0 00:00:03.810122' DAY TO SECOND  |INTERVAL '0 00:00:04.580796' DAY TO SECOND  |INTERVAL '0 00:00:05.351469' DAY TO SECOND  |\n",
            "|ท่าฉาง      |รอรับเรื่อง   |2        |INTERVAL '0 00:00:00.391012' DAY TO SECOND  |INTERVAL '0 00:00:00.394262' DAY TO SECOND  |INTERVAL '0 00:00:00.397511' DAY TO SECOND  |\n",
            "|ท่าช้าง     |รอรับเรื่อง   |3        |INTERVAL '0 00:00:00.470213' DAY TO SECOND  |INTERVAL '0 00:00:00.517531' DAY TO SECOND  |INTERVAL '0 00:00:00.574801' DAY TO SECOND  |\n",
            "|ท่ามะกา     |รอรับเรื่อง   |1        |INTERVAL '0 00:00:00.403425' DAY TO SECOND  |INTERVAL '0 00:00:00.403425' DAY TO SECOND  |INTERVAL '0 00:00:00.403425' DAY TO SECOND  |\n",
            "|ท่าแพ       |รอรับเรื่อง   |2        |INTERVAL '0 00:00:00.414308' DAY TO SECOND  |INTERVAL '0 00:00:00.420294' DAY TO SECOND  |INTERVAL '0 00:00:00.426279' DAY TO SECOND  |\n",
            "|ท่าใหม่     |รอรับเรื่อง   |2        |INTERVAL '0 00:00:00.421429' DAY TO SECOND  |INTERVAL '0 00:00:00.44795' DAY TO SECOND   |INTERVAL '0 00:00:00.47447' DAY TO SECOND   |\n",
            "|ธนบุรี      |กำลังดำเนินการ|647      |INTERVAL '0 00:03:07.108662' DAY TO SECOND  |INTERVAL '98 16:49:23.517088' DAY TO SECOND |INTERVAL '340 09:31:26.587738' DAY TO SECOND|\n",
            "|ธนบุรี      |รอรับเรื่อง   |401      |INTERVAL '0 00:00:00.429736' DAY TO SECOND  |INTERVAL '18 18:23:28.840221' DAY TO SECOND |INTERVAL '329 13:26:04.310078' DAY TO SECOND|\n",
            "|ธนบุรี      |เสร็จสิ้น     |3979     |INTERVAL '0 00:03:03.717612' DAY TO SECOND  |INTERVAL '30 09:50:08.145499' DAY TO SECOND |INTERVAL '335 13:44:24.512613' DAY TO SECOND|\n",
            "|ธัญบุรี     |กำลังดำเนินการ|4        |INTERVAL '0 00:06:16.30849' DAY TO SECOND   |INTERVAL '37 09:42:38.492887' DAY TO SECOND |INTERVAL '80 05:14:14.650635' DAY TO SECOND |\n",
            "|ธัญบุรี     |รอรับเรื่อง   |7        |INTERVAL '-0 00:00:00.010016' DAY TO SECOND |INTERVAL '0 00:00:00.508803' DAY TO SECOND  |INTERVAL '0 00:00:01.115499' DAY TO SECOND  |\n",
            "|ธาตุพนม     |รอรับเรื่อง   |1        |INTERVAL '0 00:00:00.600221' DAY TO SECOND  |INTERVAL '0 00:00:00.600221' DAY TO SECOND  |INTERVAL '0 00:00:00.600221' DAY TO SECOND  |\n",
            "|นครชัยศรี   |รอรับเรื่อง   |1        |INTERVAL '0 00:00:00.521626' DAY TO SECOND  |INTERVAL '0 00:00:00.521626' DAY TO SECOND  |INTERVAL '0 00:00:00.521626' DAY TO SECOND  |\n",
            "|นางรอง      |รอรับเรื่อง   |1        |INTERVAL '0 00:00:00.475786' DAY TO SECOND  |INTERVAL '0 00:00:00.475786' DAY TO SECOND  |INTERVAL '0 00:00:00.475786' DAY TO SECOND  |\n",
            "|นาเยีย      |รอรับเรื่อง   |1        |INTERVAL '0 00:00:00.482629' DAY TO SECOND  |INTERVAL '0 00:00:00.482629' DAY TO SECOND  |INTERVAL '0 00:00:00.482629' DAY TO SECOND  |\n",
            "|นาเยีย      |กำลังดำเนินการ|1        |INTERVAL '32 18:58:09.131626' DAY TO SECOND |INTERVAL '32 18:58:09.131626' DAY TO SECOND |INTERVAL '32 18:58:09.131626' DAY TO SECOND |\n",
            "|น้ำยืน      |รอรับเรื่อง   |1        |INTERVAL '-0 00:00:00.01012' DAY TO SECOND  |INTERVAL '-0 00:00:00.01012' DAY TO SECOND  |INTERVAL '-0 00:00:00.01012' DAY TO SECOND  |\n",
            "|บัวลาย      |รอรับเรื่อง   |1        |INTERVAL '0 00:00:00.491336' DAY TO SECOND  |INTERVAL '0 00:00:00.491336' DAY TO SECOND  |INTERVAL '0 00:00:00.491336' DAY TO SECOND  |\n",
            "|บางกรวย     |รอรับเรื่อง   |71       |INTERVAL '-0 00:00:00.011181' DAY TO SECOND |INTERVAL '0 00:13:15.109251' DAY TO SECOND  |INTERVAL '0 13:16:45.072356' DAY TO SECOND  |\n",
            "|บางกรวย     |กำลังดำเนินการ|9        |INTERVAL '3 20:05:55.403127' DAY TO SECOND  |INTERVAL '31 17:54:27.544137' DAY TO SECOND |INTERVAL '64 16:51:29.463205' DAY TO SECOND |\n",
            "|บางกรวย     |เสร็จสิ้น     |2        |INTERVAL '20 07:27:34.893794' DAY TO SECOND |INTERVAL '33 15:30:19.170613' DAY TO SECOND |INTERVAL '46 23:33:03.447431' DAY TO SECOND |\n",
            "|บางกอกน้อย  |เสร็จสิ้น     |4345     |INTERVAL '0 00:02:06.495818' DAY TO SECOND  |INTERVAL '77 01:56:38.95961' DAY TO SECOND  |INTERVAL '342 21:23:59.033968' DAY TO SECOND|\n",
            "|บางกอกน้อย  |กำลังดำเนินการ|516      |INTERVAL '0 00:02:32.471886' DAY TO SECOND  |INTERVAL '53 22:37:42.34192' DAY TO SECOND  |INTERVAL '331 10:41:34.624781' DAY TO SECOND|\n",
            "|บางกอกน้อย  |รอรับเรื่อง   |125      |INTERVAL '-0 00:00:00.014728' DAY TO SECOND |INTERVAL '10 02:36:43.169551' DAY TO SECOND |INTERVAL '336 11:49:58.788722' DAY TO SECOND|\n",
            "|บางกอกใหญ่  |เสร็จสิ้น     |1597     |INTERVAL '0 00:03:42.166813' DAY TO SECOND  |INTERVAL '53 15:31:38.855021' DAY TO SECOND |INTERVAL '333 18:32:17.489772' DAY TO SECOND|\n",
            "|บางกอกใหญ่  |กำลังดำเนินการ|278      |INTERVAL '0 00:01:40.475645' DAY TO SECOND  |INTERVAL '82 08:39:42.244405' DAY TO SECOND |INTERVAL '331 09:48:28.873775' DAY TO SECOND|\n",
            "|บางกอกใหญ่  |รอรับเรื่อง   |150      |INTERVAL '-0 00:00:00.013082' DAY TO SECOND |INTERVAL '39 13:22:27.07537' DAY TO SECOND  |INTERVAL '286 19:25:46.469485' DAY TO SECOND|\n",
            "|บางกะปิ     |รอรับเรื่อง   |662      |INTERVAL '-0 00:00:00.009087' DAY TO SECOND |INTERVAL '7 10:59:43.489913' DAY TO SECOND  |INTERVAL '281 21:30:28.498557' DAY TO SECOND|\n",
            "|บางกะปิ     |เสร็จสิ้น     |6544     |INTERVAL '0 00:00:30.017043' DAY TO SECOND  |INTERVAL '39 23:10:24.835316' DAY TO SECOND |INTERVAL '341 16:04:03.073721' DAY TO SECOND|\n",
            "|บางกะปิ     |กำลังดำเนินการ|1951     |INTERVAL '0 00:01:32.882429' DAY TO SECOND  |INTERVAL '93 19:27:00.315591' DAY TO SECOND |INTERVAL '340 12:35:25.485143' DAY TO SECOND|\n",
            "|บางขุนเทียน |เสร็จสิ้น     |5134     |INTERVAL '0 00:00:42.499754' DAY TO SECOND  |INTERVAL '21 00:32:22.894618' DAY TO SECOND |INTERVAL '328 17:21:48.666897' DAY TO SECOND|\n",
            "|บางขุนเทียน |รอรับเรื่อง   |687      |INTERVAL '-0 00:00:00.027948' DAY TO SECOND |INTERVAL '4 23:52:42.514568' DAY TO SECOND  |INTERVAL '283 03:36:01.967653' DAY TO SECOND|\n",
            "|บางขุนเทียน |กำลังดำเนินการ|967      |INTERVAL '0 00:10:12.274385' DAY TO SECOND  |INTERVAL '77 00:44:26.299156' DAY TO SECOND |INTERVAL '337 12:01:13.78348' DAY TO SECOND |\n",
            "|บางคอแหลม   |กำลังดำเนินการ|472      |INTERVAL '0 00:02:09.678409' DAY TO SECOND  |INTERVAL '99 14:45:30.732848' DAY TO SECOND |INTERVAL '340 11:34:08.20441' DAY TO SECOND |\n",
            "|บางคอแหลม   |เสร็จสิ้น     |2466     |INTERVAL '0 00:01:36.057744' DAY TO SECOND  |INTERVAL '16 15:21:00.448705' DAY TO SECOND |INTERVAL '327 22:08:25.642183' DAY TO SECOND|\n",
            "|บางคอแหลม   |รอรับเรื่อง   |217      |INTERVAL '-0 00:00:00.009705' DAY TO SECOND |INTERVAL '8 10:45:23.403656' DAY TO SECOND  |INTERVAL '265 09:25:08.915842' DAY TO SECOND|\n",
            "|บางซื่อ     |กำลังดำเนินการ|1195     |INTERVAL '0 00:03:11.116438' DAY TO SECOND  |INTERVAL '99 13:06:08.303491' DAY TO SECOND |INTERVAL '335 05:45:59.155291' DAY TO SECOND|\n",
            "|บางซื่อ     |เสร็จสิ้น     |4712     |INTERVAL '0 00:01:17.85275' DAY TO SECOND   |INTERVAL '43 23:05:45.032325' DAY TO SECOND |INTERVAL '324 21:00:38.384502' DAY TO SECOND|\n",
            "|บางซื่อ     |รอรับเรื่อง   |181      |INTERVAL '-0 00:00:00.013021' DAY TO SECOND |INTERVAL '8 21:37:59.175409' DAY TO SECOND  |INTERVAL '275 19:38:32.201686' DAY TO SECOND|\n",
            "|บางนา       |กำลังดำเนินการ|1459     |INTERVAL '0 00:02:01.429637' DAY TO SECOND  |INTERVAL '69 02:18:13.407449' DAY TO SECOND |INTERVAL '436 03:44:36.774446' DAY TO SECOND|\n",
            "+------------+--------------+---------+--------------------------------------------+--------------------------------------------+--------------------------------------------+\n",
            "only showing top 100 rows\n",
            "\n"
          ]
        }
      ],
      "source": [
        "df_grouped = df.groupBy('district', 'state') \\\n",
        "                        .agg(count('time_to_state').alias('row_count'),\n",
        "                             min('time_to_state').alias('min_time_to_state'),\n",
        "                             avg('time_to_state').alias('avg_time_to_state'),\n",
        "                             max('time_to_state').alias('max_time_to_state')) \\\n",
        "                        .orderBy('district')\n",
        "\n",
        "df_dist_1 = df_grouped\n",
        "df_dist_1.show(100, False)"
      ]
    },
    {
      "cell_type": "code",
      "execution_count": 40,
      "metadata": {
        "id": "OuYLkblelki4"
      },
      "outputs": [],
      "source": [
        "df_dist_1.write.option(\"header\", \"true\").csv(path=\"/content/spark_output/dist_1\")"
      ]
    },
    {
      "cell_type": "code",
      "execution_count": 41,
      "metadata": {
        "id": "6x5s-ehht0fO",
        "colab": {
          "base_uri": "https://localhost:8080/"
        },
        "outputId": "9aaf5eeb-5589-4765-a314-867d0ebc2423"
      },
      "outputs": [
        {
          "output_type": "stream",
          "name": "stdout",
          "text": [
            "+-----------------+---------+---------+------------------------------------------+--------------------------------------------+--------------------------------------------+\n",
            "|district         |state    |row_count|min_time_to_state                         |avg_time_to_state                           |max_time_to_state                           |\n",
            "+-----------------+---------+---------+------------------------------------------+--------------------------------------------+--------------------------------------------+\n",
            "|ราษฎร์บูรณะ      |เสร็จสิ้น|2075     |INTERVAL '0 00:01:02.493189' DAY TO SECOND|INTERVAL '15 20:03:58.693903' DAY TO SECOND |INTERVAL '325 21:31:23.960883' DAY TO SECOND|\n",
            "|บางคอแหลม        |เสร็จสิ้น|2466     |INTERVAL '0 00:01:36.057744' DAY TO SECOND|INTERVAL '16 15:21:00.448705' DAY TO SECOND |INTERVAL '327 22:08:25.642183' DAY TO SECOND|\n",
            "|บางแค            |เสร็จสิ้น|7803     |INTERVAL '0 00:02:14.913236' DAY TO SECOND|INTERVAL '20 04:07:16.140707' DAY TO SECOND |INTERVAL '340 23:05:52.56384' DAY TO SECOND |\n",
            "|สัมพันธวงศ์      |เสร็จสิ้น|1074     |INTERVAL '0 00:04:27.052874' DAY TO SECOND|INTERVAL '20 10:02:04.262932' DAY TO SECOND |INTERVAL '345 21:09:21.609915' DAY TO SECOND|\n",
            "|บางขุนเทียน      |เสร็จสิ้น|5134     |INTERVAL '0 00:00:42.499754' DAY TO SECOND|INTERVAL '21 00:32:22.894618' DAY TO SECOND |INTERVAL '328 17:21:48.666897' DAY TO SECOND|\n",
            "|ทุ่งครุ          |เสร็จสิ้น|2723     |INTERVAL '0 00:03:52.76768' DAY TO SECOND |INTERVAL '21 19:08:51.842773' DAY TO SECOND |INTERVAL '340 18:35:01.174216' DAY TO SECOND|\n",
            "|คันนายาว         |เสร็จสิ้น|1969     |INTERVAL '0 00:02:39.685346' DAY TO SECOND|INTERVAL '23 08:16:40.821987' DAY TO SECOND |INTERVAL '306 07:43:36.420139' DAY TO SECOND|\n",
            "|ภาษีเจริญ        |เสร็จสิ้น|3421     |INTERVAL '0 00:02:47.847551' DAY TO SECOND|INTERVAL '23 16:45:34.85837' DAY TO SECOND  |INTERVAL '329 01:18:09.680928' DAY TO SECOND|\n",
            "|บางเขน           |เสร็จสิ้น|6863     |INTERVAL '0 00:01:00.43355' DAY TO SECOND |INTERVAL '23 17:10:03.208496' DAY TO SECOND |INTERVAL '315 02:20:46.467886' DAY TO SECOND|\n",
            "|ดอนเมือง         |เสร็จสิ้น|3146     |INTERVAL '0 00:05:11.340278' DAY TO SECOND|INTERVAL '25 19:46:26.062788' DAY TO SECOND |INTERVAL '320 15:24:17.971563' DAY TO SECOND|\n",
            "|ลาดพร้าว         |เสร็จสิ้น|4303     |INTERVAL '0 00:01:32.86199' DAY TO SECOND |INTERVAL '26 13:07:54.872592' DAY TO SECOND |INTERVAL '461 19:04:59.531864' DAY TO SECOND|\n",
            "|ประเวศ           |เสร็จสิ้น|8844     |INTERVAL '0 00:08:27.138181' DAY TO SECOND|INTERVAL '27 10:21:57.319353' DAY TO SECOND |INTERVAL '336 02:10:51.644262' DAY TO SECOND|\n",
            "|พระโขนง          |เสร็จสิ้น|3193     |INTERVAL '0 00:02:20.235263' DAY TO SECOND|INTERVAL '27 13:11:21.775298' DAY TO SECOND |INTERVAL '330 21:57:52.999928' DAY TO SECOND|\n",
            "|หนองแขม          |เสร็จสิ้น|2725     |INTERVAL '0 00:03:15.100478' DAY TO SECOND|INTERVAL '28 05:36:24.234662' DAY TO SECOND |INTERVAL '345 09:28:01.064438' DAY TO SECOND|\n",
            "|ธนบุรี           |เสร็จสิ้น|3979     |INTERVAL '0 00:03:03.717612' DAY TO SECOND|INTERVAL '30 09:50:08.145499' DAY TO SECOND |INTERVAL '335 13:44:24.512613' DAY TO SECOND|\n",
            "|บึงกุ่ม          |เสร็จสิ้น|4885     |INTERVAL '0 00:01:21.967133' DAY TO SECOND|INTERVAL '30 12:13:58.280642' DAY TO SECOND |INTERVAL '304 01:01:26.636002' DAY TO SECOND|\n",
            "|ป้อมปราบศัตรูพ่าย|เสร็จสิ้น|2698     |INTERVAL '0 00:05:05.841313' DAY TO SECOND|INTERVAL '30 19:41:16.260621' DAY TO SECOND |INTERVAL '341 00:21:31.662002' DAY TO SECOND|\n",
            "|พระนคร           |เสร็จสิ้น|3751     |INTERVAL '0 00:00:21.569294' DAY TO SECOND|INTERVAL '31 07:31:05.87355' DAY TO SECOND  |INTERVAL '328 12:35:50.598446' DAY TO SECOND|\n",
            "|ทวีวัฒนา         |เสร็จสิ้น|1968     |INTERVAL '0 00:06:48.858968' DAY TO SECOND|INTERVAL '32 19:46:09.991485' DAY TO SECOND |INTERVAL '322 14:14:41.555572' DAY TO SECOND|\n",
            "|คลองเตย          |เสร็จสิ้น|6068     |INTERVAL '0 00:01:33.820081' DAY TO SECOND|INTERVAL '33 03:55:31.286722' DAY TO SECOND |INTERVAL '342 20:56:24.022588' DAY TO SECOND|\n",
            "|บางบอน           |เสร็จสิ้น|2427     |INTERVAL '0 00:03:19.548946' DAY TO SECOND|INTERVAL '33 04:12:45.377111' DAY TO SECOND |INTERVAL '335 17:32:45.266438' DAY TO SECOND|\n",
            "|หลักสี่          |เสร็จสิ้น|3182     |INTERVAL '0 00:00:30.06315' DAY TO SECOND |INTERVAL '33 16:37:07.072414' DAY TO SECOND |INTERVAL '334 10:26:59.200152' DAY TO SECOND|\n",
            "|บางพลัด          |เสร็จสิ้น|3425     |INTERVAL '0 00:02:12.272308' DAY TO SECOND|INTERVAL '33 19:31:23.49008' DAY TO SECOND  |INTERVAL '334 23:19:54.11612' DAY TO SECOND |\n",
            "|ลาดกระบัง        |เสร็จสิ้น|6612     |INTERVAL '0 00:01:47.25411' DAY TO SECOND |INTERVAL '35 14:10:24.793057' DAY TO SECOND |INTERVAL '334 09:19:09.2075' DAY TO SECOND  |\n",
            "|มีนบุรี          |เสร็จสิ้น|3560     |INTERVAL '0 00:04:45.271212' DAY TO SECOND|INTERVAL '36 01:31:54.568903' DAY TO SECOND |INTERVAL '326 00:09:45.871204' DAY TO SECOND|\n",
            "|ดินแดง           |เสร็จสิ้น|4419     |INTERVAL '0 00:00:14.963721' DAY TO SECOND|INTERVAL '36 22:44:19.989173' DAY TO SECOND |INTERVAL '337 01:03:06.82361' DAY TO SECOND |\n",
            "|สาทร             |เสร็จสิ้น|4280     |INTERVAL '0 00:00:27.941425' DAY TO SECOND|INTERVAL '37 06:03:12.987264' DAY TO SECOND |INTERVAL '464 10:21:28.527899' DAY TO SECOND|\n",
            "|ราชเทวี          |เสร็จสิ้น|4556     |INTERVAL '0 00:01:12.354862' DAY TO SECOND|INTERVAL '37 12:09:24.658902' DAY TO SECOND |INTERVAL '320 12:21:26.667447' DAY TO SECOND|\n",
            "|ปทุมวัน          |เสร็จสิ้น|4557     |INTERVAL '0 00:00:22.509931' DAY TO SECOND|INTERVAL '38 15:23:08.071914' DAY TO SECOND |INTERVAL '330 13:15:00.270277' DAY TO SECOND|\n",
            "|ยานนาวา          |เสร็จสิ้น|2653     |INTERVAL '0 00:13:34.257114' DAY TO SECOND|INTERVAL '38 15:50:35.104373' DAY TO SECOND |INTERVAL '336 21:41:25.159975' DAY TO SECOND|\n",
            "|ตลิ่งชัน         |เสร็จสิ้น|2866     |INTERVAL '0 00:25:20.346622' DAY TO SECOND|INTERVAL '38 21:09:46.33288' DAY TO SECOND  |INTERVAL '340 14:43:02.45873' DAY TO SECOND |\n",
            "|พญาไท            |เสร็จสิ้น|4023     |INTERVAL '0 00:02:49.730486' DAY TO SECOND|INTERVAL '39 03:58:44.493676' DAY TO SECOND |INTERVAL '334 02:47:46.876629' DAY TO SECOND|\n",
            "|สายไหม           |เสร็จสิ้น|3796     |INTERVAL '0 00:02:55.533662' DAY TO SECOND|INTERVAL '39 07:30:23.693008' DAY TO SECOND |INTERVAL '335 01:18:53.713309' DAY TO SECOND|\n",
            "|บางกะปิ          |เสร็จสิ้น|6544     |INTERVAL '0 00:00:30.017043' DAY TO SECOND|INTERVAL '39 23:10:24.835316' DAY TO SECOND |INTERVAL '341 16:04:03.073721' DAY TO SECOND|\n",
            "|บางนา            |เสร็จสิ้น|3816     |INTERVAL '0 00:00:52.811171' DAY TO SECOND|INTERVAL '40 02:08:28.909843' DAY TO SECOND |INTERVAL '321 14:10:51.160866' DAY TO SECOND|\n",
            "|ดุสิต            |เสร็จสิ้น|2193     |INTERVAL '0 00:01:49.822306' DAY TO SECOND|INTERVAL '41 13:36:20.673357' DAY TO SECOND |INTERVAL '433 21:32:48.546884' DAY TO SECOND|\n",
            "|วังทองหลาง       |เสร็จสิ้น|4204     |INTERVAL '0 00:01:39.637923' DAY TO SECOND|INTERVAL '42 05:30:42.204093' DAY TO SECOND |INTERVAL '335 19:16:05.937949' DAY TO SECOND|\n",
            "|วัฒนา            |เสร็จสิ้น|6386     |INTERVAL '0 00:04:26.768473' DAY TO SECOND|INTERVAL '42 15:50:23.159659' DAY TO SECOND |INTERVAL '323 11:38:21.846881' DAY TO SECOND|\n",
            "|บางซื่อ          |เสร็จสิ้น|4712     |INTERVAL '0 00:01:17.85275' DAY TO SECOND |INTERVAL '43 23:05:45.032325' DAY TO SECOND |INTERVAL '324 21:00:38.384502' DAY TO SECOND|\n",
            "|จอมทอง           |เสร็จสิ้น|3140     |INTERVAL '0 00:01:34.671773' DAY TO SECOND|INTERVAL '44 00:34:06.128603' DAY TO SECOND |INTERVAL '334 13:23:45.447415' DAY TO SECOND|\n",
            "|คลองสามวา        |เสร็จสิ้น|3726     |INTERVAL '0 00:08:40.708198' DAY TO SECOND|INTERVAL '44 22:01:02.904649' DAY TO SECOND |INTERVAL '334 08:05:34.380593' DAY TO SECOND|\n",
            "|ห้วยขวาง         |เสร็จสิ้น|3475     |INTERVAL '0 00:00:28.069528' DAY TO SECOND|INTERVAL '46 17:56:47.088637' DAY TO SECOND |INTERVAL '337 02:28:48.481957' DAY TO SECOND|\n",
            "|คลองสาน          |เสร็จสิ้น|2228     |INTERVAL '0 00:06:30.737435' DAY TO SECOND|INTERVAL '46 19:17:11.694975' DAY TO SECOND |INTERVAL '340 20:06:33.647664' DAY TO SECOND|\n",
            "|บางกอกใหญ่       |เสร็จสิ้น|1597     |INTERVAL '0 00:03:42.166813' DAY TO SECOND|INTERVAL '53 15:31:38.855021' DAY TO SECOND |INTERVAL '333 18:32:17.489772' DAY TO SECOND|\n",
            "|หนองจอก          |เสร็จสิ้น|3250     |INTERVAL '0 00:05:32.061401' DAY TO SECOND|INTERVAL '60 21:15:42.521916' DAY TO SECOND |INTERVAL '323 20:54:55.000841' DAY TO SECOND|\n",
            "|สะพานสูง         |เสร็จสิ้น|3255     |INTERVAL '0 00:03:07.214419' DAY TO SECOND|INTERVAL '61 18:40:40.086584' DAY TO SECOND |INTERVAL '343 05:04:54.883538' DAY TO SECOND|\n",
            "|บางกอกน้อย       |เสร็จสิ้น|4345     |INTERVAL '0 00:02:06.495818' DAY TO SECOND|INTERVAL '77 01:56:38.95961' DAY TO SECOND  |INTERVAL '342 21:23:59.033968' DAY TO SECOND|\n",
            "|จตุจักร          |เสร็จสิ้น|9960     |INTERVAL '0 00:00:22.599861' DAY TO SECOND|INTERVAL '93 07:02:08.078718' DAY TO SECOND |INTERVAL '338 12:52:21.134937' DAY TO SECOND|\n",
            "|บางรัก           |เสร็จสิ้น|4255     |INTERVAL '0 00:03:31.196164' DAY TO SECOND|INTERVAL '130 20:51:58.034633' DAY TO SECOND|INTERVAL '337 16:40:15.075686' DAY TO SECOND|\n",
            "|สวนหลวง          |เสร็จสิ้น|5741     |INTERVAL '0 00:11:44.99005' DAY TO SECOND |INTERVAL '151 02:53:06.318882' DAY TO SECOND|INTERVAL '334 14:16:46.782257' DAY TO SECOND|\n",
            "+-----------------+---------+---------+------------------------------------------+--------------------------------------------+--------------------------------------------+\n",
            "\n"
          ]
        }
      ],
      "source": [
        "# rank by avg_time_to_state\n",
        "\n",
        "df_grouped = df.groupBy('district', 'state') \\\n",
        "                        .agg(count('time_to_state').alias('row_count'),\n",
        "                             min('time_to_state').alias('min_time_to_state'),\n",
        "                             avg('time_to_state').alias('avg_time_to_state'),\n",
        "                             max('time_to_state').alias('max_time_to_state')) \\\n",
        "                        .filter((col('state') == 'เสร็จสิ้น') & (col('row_count') > 50)) \\\n",
        "                        .orderBy('avg_time_to_state')\n",
        "\n",
        "df_dist_2 = df_grouped\n",
        "df_dist_2.show(100, False)"
      ]
    },
    {
      "cell_type": "code",
      "execution_count": 42,
      "metadata": {
        "id": "3nRck53Xlwya"
      },
      "outputs": [],
      "source": [
        "df_dist_2.write.option(\"header\", \"true\").csv(path=\"/content/spark_output/dist_2\")"
      ]
    },
    {
      "cell_type": "markdown",
      "metadata": {
        "id": "0xEFPNPUutlS"
      },
      "source": [
        "## Focus on star"
      ]
    },
    {
      "cell_type": "code",
      "execution_count": 43,
      "metadata": {
        "id": "HQz_UaA8ujzc",
        "colab": {
          "base_uri": "https://localhost:8080/"
        },
        "outputId": "45a2762e-e847-4070-ef09-6820ea01a056"
      },
      "outputs": [
        {
          "output_type": "stream",
          "name": "stdout",
          "text": [
            "+----+---------+---------+------------------------------------------+-------------------------------------------+--------------------------------------------+\n",
            "|star|state    |row_count|min_time_to_state                         |avg_time_to_state                          |max_time_to_state                           |\n",
            "+----+---------+---------+------------------------------------------+-------------------------------------------+--------------------------------------------+\n",
            "|null|เสร็จสิ้น|104752   |INTERVAL '0 00:00:21.569294' DAY TO SECOND|INTERVAL '45 14:10:13.91956' DAY TO SECOND |INTERVAL '464 10:21:28.527899' DAY TO SECOND|\n",
            "|1   |เสร็จสิ้น|13773    |INTERVAL '0 00:00:30.758731' DAY TO SECOND|INTERVAL '50 22:52:43.699354' DAY TO SECOND|INTERVAL '433 21:32:48.546884' DAY TO SECOND|\n",
            "|2   |เสร็จสิ้น|4629     |INTERVAL '0 00:01:06.009175' DAY TO SECOND|INTERVAL '51 13:26:33.994633' DAY TO SECOND|INTERVAL '324 17:53:37.248088' DAY TO SECOND|\n",
            "|3   |เสร็จสิ้น|10394    |INTERVAL '0 00:00:34.445678' DAY TO SECOND|INTERVAL '48 10:24:18.948773' DAY TO SECOND|INTERVAL '343 05:04:54.883538' DAY TO SECOND|\n",
            "|4   |เสร็จสิ้น|21081    |INTERVAL '0 00:00:44.024173' DAY TO SECOND|INTERVAL '41 04:50:54.026057' DAY TO SECOND|INTERVAL '341 16:04:03.073721' DAY TO SECOND|\n",
            "|5   |เสร็จสิ้น|47762    |INTERVAL '0 00:00:14.963721' DAY TO SECOND|INTERVAL '36 12:15:45.655907' DAY TO SECOND|INTERVAL '342 20:56:24.022588' DAY TO SECOND|\n",
            "+----+---------+---------+------------------------------------------+-------------------------------------------+--------------------------------------------+\n",
            "\n"
          ]
        }
      ],
      "source": [
        "df_grouped = df.groupBy('star', 'state') \\\n",
        "                        .agg(count('time_to_state').alias('row_count'),\n",
        "                             min('time_to_state').alias('min_time_to_state'),\n",
        "                             avg('time_to_state').alias('avg_time_to_state'),\n",
        "                             max('time_to_state').alias('max_time_to_state')) \\\n",
        "                        .filter((col('state') == \"เสร็จสิ้น\")) \\\n",
        "                        .orderBy('star')\n",
        "\n",
        "df_star_1 = df_grouped\n",
        "df_star_1.show(100, False)"
      ]
    },
    {
      "cell_type": "code",
      "execution_count": 44,
      "metadata": {
        "id": "_9FqZ2Fll1XE"
      },
      "outputs": [],
      "source": [
        "df_star_1.write.option(\"header\", \"true\").csv(path=\"/content/spark_output/star_1\")"
      ]
    },
    {
      "cell_type": "markdown",
      "metadata": {
        "id": "b_KM-PIXWO_g"
      },
      "source": [
        "## AI/ML Start predict time to เสร็จสิ้น here"
      ]
    },
    {
      "cell_type": "code",
      "execution_count": 45,
      "metadata": {
        "id": "ZqryuOPfVhx8",
        "colab": {
          "base_uri": "https://localhost:8080/"
        },
        "outputId": "32016545-6e52-4ac0-c4cb-751e7a8d99d7"
      },
      "outputs": [
        {
          "output_type": "stream",
          "name": "stdout",
          "text": [
            "+--------------------+--------------------+--------------------+--------------------+--------------------+-----------+--------+-------------+--------------------+---------+----+------------+--------------------+--------------------+\n",
            "|                type|        organization|             comment|              coords|             address|subdistrict|district|     province|           timestamp|    state|star|count_reopen|       last_activity|       time_to_state|\n",
            "+--------------------+--------------------+--------------------+--------------------+--------------------+-----------+--------+-------------+--------------------+---------+----+------------+--------------------+--------------------+\n",
            "|         [ความสะอาด]|        [เขตบางซื่อ]|             ขยะเยอะ|[100.53084, 13.81...|12/14 ถนน กรุงเทพ...|       null|    null|กรุงเทพมหานคร|2021-09-03 12:51:...|เสร็จสิ้น|null|        null|2022-06-04 15:34:...|INTERVAL '274 02:...|\n",
            "|[น้ำท่วม, ร้องเรียน]|[เขตประเวศ, ฝ่ายโ...|น้ำท่วมเวลาฝนตกแล...|[100.66709, 13.67...|189 เฉลิมพระเกียร...|    หนองบอน|  ประเวศ|กรุงเทพมหานคร|2021-09-19 14:56:...|เสร็จสิ้น|   4|        null|2022-06-21 08:21:...|INTERVAL '274 17:...|\n",
            "|             [สะพาน]|           [เขตสาทร]|สะพานลอยปรับปรุงไ...|[100.52649, 13.72...|191/1 ถนน สาทรเหน...|    ยานนาวา|    สาทร|กรุงเทพมหานคร|2021-09-26 05:03:...|เสร็จสิ้น|null|        null|2022-06-06 01:17:...|INTERVAL '252 20:...|\n",
            "|           [น้ำท่วม]|[เขตบางซื่อ, ฝ่าย...|             น้ำท่วม|[100.53099, 13.81...|12/14 ถนน กรุงเทพ...|       null|    null|กรุงเทพมหานคร|2021-10-14 10:45:...|เสร็จสิ้น|null|        null|2022-09-08 08:35:...|INTERVAL '328 21:...|\n",
            "|      [น้ำท่วม, ถนน]|[เขตลาดพร้าว, ฝ่า...|ซอยลาดพร้าววังหิน...|[100.59165, 13.82...|702 ถ. ลาดพร้าววั...|   ลาดพร้าว|ลาดพร้าว|กรุงเทพมหานคร|2021-12-09 12:29:...|เสร็จสิ้น|   5|        null|2022-08-12 07:18:...|INTERVAL '245 18:...|\n",
            "|                  []|[เขตลาดพร้าว, การ...|หน้าปากซอย ลาดพร้...|[100.59131, 13.80...|17/73 17/73 ถ. ลา...|   ลาดพร้าว|ลาดพร้าว|กรุงเทพมหานคร|2021-12-13 05:53:...|เสร็จสิ้น|null|        null|2023-03-14 12:09:...|INTERVAL '456 06:...|\n",
            "|                  []|          [เขตดุสิต]|ยังไม่มีหน่วยงานไ...|[100.50848, 13.77...|627 ถนนสามเสน แขว...|      ดุสิต|   ดุสิต|กรุงเทพมหานคร|2021-12-17 08:46:...|เสร็จสิ้น|   5|        null|2022-06-01 03:16:...|INTERVAL '165 18:...|\n",
            "|         [ความสะอาด]|[เขตประเวศ, ฝ่ายเ...|คนเอาขยะมาทิ้งจนก...|[100.64690, 13.67...|110 ซอย มีสุข แขว...|    หนองบอน|  ประเวศ|กรุงเทพมหานคร|2021-12-18 14:50:...|เสร็จสิ้น|   2|        null|2022-06-14 07:36:...|INTERVAL '177 16:...|\n",
            "|                  []|[เขตประเวศ, ฝ่ายเ...|ระยะหลังๆ นี้ พบเ...|[100.65617, 13.72...|208/22 ถ. พัฒนากา...|     ประเวศ|  ประเวศ|กรุงเทพมหานคร|2021-12-21 23:03:...|เสร็จสิ้น|   2|        null|2022-06-24 06:32:...|INTERVAL '184 07:...|\n",
            "|       [ท่อระบายน้ำ]|[เขตประเวศ, ฝ่ายโ...|ขอแจ้งเรื่องท่อระ...|[100.65440, 13.68...|70 ซอย เฉลิมพระเก...|    หนองบอน|  ประเวศ|กรุงเทพมหานคร|2021-12-22 10:15:...|เสร็จสิ้น|   5|        null|2022-06-20 13:12:...|INTERVAL '180 02:...|\n",
            "|                  []|[เขตประเวศ, ฝ่ายโ...|แจ้งเรื่องพื้นผิว...|[100.64844, 13.68...|55 ถนน ศรีนครินทร...|    หนองบอน|  ประเวศ|กรุงเทพมหานคร|2021-12-23 10:26:...|เสร็จสิ้น|null|        null|2022-09-28 08:35:...|INTERVAL '278 22:...|\n",
            "|         [ความสะอาด]|[เขตประเวศ, สำนัก...|ปัญหากลิ่นขยะจากโ...|[100.68837, 13.71...|22/1 ซอย อ่อนนุช ...|     ประเวศ|  ประเวศ|กรุงเทพมหานคร|2021-12-28 03:59:...|เสร็จสิ้น|   4|        null|2022-07-12 06:50:...|INTERVAL '196 02:...|\n",
            "|      [ถนน, ทางเท้า]|[เขตสาทร, ฝ่ายโยธ...|บริเวณนราธิวาส  แ...|[100.53764, 13.70...|แยกจันทน์-นราธิวา...| ทุ่งมหาเมฆ|    สาทร|กรุงเทพมหานคร|2022-01-02 10:53:...|เสร็จสิ้น|null|        null|2022-06-08 05:46:...|INTERVAL '156 18:...|\n",
            "|                  []|[เขตสาทร, ฝ่ายเทศ...|มอเตอร์ไซด์จอดบนท...|[100.52674, 13.70...|184 ซอย จันทน์ 18...| ทุ่งวัดดอน|    สาทร|กรุงเทพมหานคร|2022-01-14 01:17:...|เสร็จสิ้น|null|        null|2022-06-22 08:06:...|INTERVAL '159 06:...|\n",
            "|                  []|[เขตสาทร, ฝ่ายเทศ...|มอเตอร์ไซด์จอดบนถ...|[100.52678, 13.70...|184 ซอย จันทน์ 18...| ทุ่งวัดดอน|    สาทร|กรุงเทพมหานคร|2022-01-14 01:18:...|เสร็จสิ้น|null|        null|2022-06-22 08:10:...|INTERVAL '159 06:...|\n",
            "|                  []|[เขตประเวศ, สำนัก...|อยากให้สวนหลวง ร9...|[100.65816, 13.68...|444 ซอย หมู่บ้านเ...|    หนองบอน|  ประเวศ|กรุงเทพมหานคร|2022-01-15 12:52:...|เสร็จสิ้น|null|        null|2022-06-20 07:12:...|INTERVAL '155 18:...|\n",
            "|        [ถนน, สะพาน]|[เขตสาทร, สำนักกา...|ถนนจันทน์ช่วงสะพา...|[100.52970, 13.70...|1357/1-4 ซอย จันท...| ทุ่งวัดดอน|    สาทร|กรุงเทพมหานคร|2022-01-16 10:57:...|เสร็จสิ้น|null|        null|2023-01-29 03:27:...|INTERVAL '377 16:...|\n",
            "|                  []|           [เขตสาทร]|ปากซอย จันทน์ 18/...|[100.52789, 13.70...|3 ซอย จันทน์ 18/4...| ทุ่งวัดดอน|    สาทร|กรุงเทพมหานคร|2022-01-16 11:02:...|เสร็จสิ้น|null|        null|2022-06-09 03:49:...|INTERVAL '143 16:...|\n",
            "|             [สะพาน]|[เขตสาทร, ฝ่ายเทศ...|ริมถนน ตรงสะพานสา...|[100.52760, 13.70...|3 ซอย จันทน์ 18/4...| ทุ่งวัดดอน|    สาทร|กรุงเทพมหานคร|2022-01-16 11:08:...|เสร็จสิ้น|null|        null|2022-06-23 08:06:...|INTERVAL '157 20:...|\n",
            "| [จราจร, สะพาน, ถนน]|[เขตสาทร, สน.ยานน...|บริเวณสะพานสามถนน...|[100.52756, 13.70...|3 ซอย จันทน์ 18/4...| ทุ่งวัดดอน|    สาทร|กรุงเทพมหานคร|2022-01-16 11:14:...|เสร็จสิ้น|null|        null|2022-06-22 08:18:...|INTERVAL '156 21:...|\n",
            "+--------------------+--------------------+--------------------+--------------------+--------------------+-----------+--------+-------------+--------------------+---------+----+------------+--------------------+--------------------+\n",
            "only showing top 20 rows\n",
            "\n"
          ]
        }
      ],
      "source": [
        "df_ml = df.filter(df.state == \"เสร็จสิ้น\")\n",
        "df_ml.show()"
      ]
    },
    {
      "cell_type": "code",
      "execution_count": 46,
      "metadata": {
        "id": "R5GCSBZ4XMcL",
        "colab": {
          "base_uri": "https://localhost:8080/"
        },
        "outputId": "c561642f-a46a-4621-edd2-bdb46797e82f"
      },
      "outputs": [
        {
          "output_type": "execute_result",
          "data": {
            "text/plain": [
              "202391"
            ]
          },
          "metadata": {},
          "execution_count": 46
        }
      ],
      "source": [
        "df_ml.count()"
      ]
    },
    {
      "cell_type": "code",
      "execution_count": 50,
      "metadata": {
        "id": "lMjax_xYl9nS"
      },
      "outputs": [],
      "source": [
        "# save dataframe to Pickle file\n",
        "\n",
        "df_ml.rdd.saveAsPickleFile(path=\"/content/spark_output/ml\")"
      ]
    },
    {
      "cell_type": "markdown",
      "metadata": {
        "id": "M2BKUr8IVFbp"
      },
      "source": [
        "# 2. AI/ML"
      ]
    },
    {
      "cell_type": "code",
      "execution_count": null,
      "metadata": {
        "id": "I9ogSRhzpfzu"
      },
      "outputs": [],
      "source": [
        "# https://drive.google.com/file/d/1AQZysrjmVW9qMv4CDz0nPemK4ttmIFq8/view?usp=share_link\n",
        "# !gdown 1AQZysrjmVW9qMv4CDz0nPemK4ttmIFq8"
      ]
    },
    {
      "cell_type": "code",
      "source": [
        "# path = '/content/done.csv' # csv"
      ],
      "metadata": {
        "id": "4Qnw8Dv9a8qp"
      },
      "execution_count": null,
      "outputs": []
    },
    {
      "cell_type": "code",
      "source": [
        "# https://drive.google.com/file/d/10mR0X89jq4kyQJTGxMapjIraEDdcHwy6/view?usp=share_link\n",
        "!gdown 10mR0X89jq4kyQJTGxMapjIraEDdcHwy6"
      ],
      "metadata": {
        "colab": {
          "base_uri": "https://localhost:8080/"
        },
        "id": "6FatY9IdaFpW",
        "outputId": "537994b8-2be5-4320-9fe1-d6ac31c3200e"
      },
      "execution_count": 6,
      "outputs": [
        {
          "output_type": "stream",
          "name": "stdout",
          "text": [
            "Downloading...\n",
            "From: https://drive.google.com/uc?id=10mR0X89jq4kyQJTGxMapjIraEDdcHwy6\n",
            "To: /content/ml\n",
            "100% 239M/239M [00:04<00:00, 53.3MB/s]\n"
          ]
        }
      ]
    },
    {
      "cell_type": "code",
      "source": [
        "pickle_rdd = spark.sparkContext.pickleFile('/content/ml').collect()\n",
        "df_ml = spark.createDataFrame(pickle_rdd)"
      ],
      "metadata": {
        "id": "XJpwXReIaV8G"
      },
      "execution_count": 8,
      "outputs": []
    },
    {
      "cell_type": "code",
      "source": [
        "df_ml.show()"
      ],
      "metadata": {
        "colab": {
          "base_uri": "https://localhost:8080/"
        },
        "id": "PAcAZkTBeZtf",
        "outputId": "5b898849-278e-4f9d-afd4-9fd478a9be75"
      },
      "execution_count": 10,
      "outputs": [
        {
          "output_type": "stream",
          "name": "stdout",
          "text": [
            "+--------------------+--------------------+--------------------+--------------------+--------------------+-----------+--------+-------------+--------------------+---------+----+------------+--------------------+--------------------+\n",
            "|                type|        organization|             comment|              coords|             address|subdistrict|district|     province|           timestamp|    state|star|count_reopen|       last_activity|       time_to_state|\n",
            "+--------------------+--------------------+--------------------+--------------------+--------------------+-----------+--------+-------------+--------------------+---------+----+------------+--------------------+--------------------+\n",
            "|         [ความสะอาด]|        [เขตบางซื่อ]|             ขยะเยอะ|[100.53084, 13.81...|12/14 ถนน กรุงเทพ...|       null|    null|กรุงเทพมหานคร|2021-09-03 12:51:...|เสร็จสิ้น|null|        null|2022-06-04 15:34:...|INTERVAL '274 02:...|\n",
            "|[น้ำท่วม, ร้องเรียน]|[เขตประเวศ, ฝ่ายโ...|น้ำท่วมเวลาฝนตกแล...|[100.66709, 13.67...|189 เฉลิมพระเกียร...|    หนองบอน|  ประเวศ|กรุงเทพมหานคร|2021-09-19 14:56:...|เสร็จสิ้น|   4|        null|2022-06-21 08:21:...|INTERVAL '274 17:...|\n",
            "|             [สะพาน]|           [เขตสาทร]|สะพานลอยปรับปรุงไ...|[100.52649, 13.72...|191/1 ถนน สาทรเหน...|    ยานนาวา|    สาทร|กรุงเทพมหานคร|2021-09-26 05:03:...|เสร็จสิ้น|null|        null|2022-06-06 01:17:...|INTERVAL '252 20:...|\n",
            "|           [น้ำท่วม]|[เขตบางซื่อ, ฝ่าย...|             น้ำท่วม|[100.53099, 13.81...|12/14 ถนน กรุงเทพ...|       null|    null|กรุงเทพมหานคร|2021-10-14 10:45:...|เสร็จสิ้น|null|        null|2022-09-08 08:35:...|INTERVAL '328 21:...|\n",
            "|      [น้ำท่วม, ถนน]|[เขตลาดพร้าว, ฝ่า...|ซอยลาดพร้าววังหิน...|[100.59165, 13.82...|702 ถ. ลาดพร้าววั...|   ลาดพร้าว|ลาดพร้าว|กรุงเทพมหานคร|2021-12-09 12:29:...|เสร็จสิ้น|   5|        null|2022-08-12 07:18:...|INTERVAL '245 18:...|\n",
            "|                  []|[เขตลาดพร้าว, การ...|หน้าปากซอย ลาดพร้...|[100.59131, 13.80...|17/73 17/73 ถ. ลา...|   ลาดพร้าว|ลาดพร้าว|กรุงเทพมหานคร|2021-12-13 05:53:...|เสร็จสิ้น|null|        null|2023-03-14 12:09:...|INTERVAL '456 06:...|\n",
            "|                  []|          [เขตดุสิต]|ยังไม่มีหน่วยงานไ...|[100.50848, 13.77...|627 ถนนสามเสน แขว...|      ดุสิต|   ดุสิต|กรุงเทพมหานคร|2021-12-17 08:46:...|เสร็จสิ้น|   5|        null|2022-06-01 03:16:...|INTERVAL '165 18:...|\n",
            "|         [ความสะอาด]|[เขตประเวศ, ฝ่ายเ...|คนเอาขยะมาทิ้งจนก...|[100.64690, 13.67...|110 ซอย มีสุข แขว...|    หนองบอน|  ประเวศ|กรุงเทพมหานคร|2021-12-18 14:50:...|เสร็จสิ้น|   2|        null|2022-06-14 07:36:...|INTERVAL '177 16:...|\n",
            "|                  []|[เขตประเวศ, ฝ่ายเ...|ระยะหลังๆ นี้ พบเ...|[100.65617, 13.72...|208/22 ถ. พัฒนากา...|     ประเวศ|  ประเวศ|กรุงเทพมหานคร|2021-12-21 23:03:...|เสร็จสิ้น|   2|        null|2022-06-24 06:32:...|INTERVAL '184 07:...|\n",
            "|       [ท่อระบายน้ำ]|[เขตประเวศ, ฝ่ายโ...|ขอแจ้งเรื่องท่อระ...|[100.65440, 13.68...|70 ซอย เฉลิมพระเก...|    หนองบอน|  ประเวศ|กรุงเทพมหานคร|2021-12-22 10:15:...|เสร็จสิ้น|   5|        null|2022-06-20 13:12:...|INTERVAL '180 02:...|\n",
            "|                  []|[เขตประเวศ, ฝ่ายโ...|แจ้งเรื่องพื้นผิว...|[100.64844, 13.68...|55 ถนน ศรีนครินทร...|    หนองบอน|  ประเวศ|กรุงเทพมหานคร|2021-12-23 10:26:...|เสร็จสิ้น|null|        null|2022-09-28 08:35:...|INTERVAL '278 22:...|\n",
            "|         [ความสะอาด]|[เขตประเวศ, สำนัก...|ปัญหากลิ่นขยะจากโ...|[100.68837, 13.71...|22/1 ซอย อ่อนนุช ...|     ประเวศ|  ประเวศ|กรุงเทพมหานคร|2021-12-28 03:59:...|เสร็จสิ้น|   4|        null|2022-07-12 06:50:...|INTERVAL '196 02:...|\n",
            "|      [ถนน, ทางเท้า]|[เขตสาทร, ฝ่ายโยธ...|บริเวณนราธิวาส  แ...|[100.53764, 13.70...|แยกจันทน์-นราธิวา...| ทุ่งมหาเมฆ|    สาทร|กรุงเทพมหานคร|2022-01-02 10:53:...|เสร็จสิ้น|null|        null|2022-06-08 05:46:...|INTERVAL '156 18:...|\n",
            "|                  []|[เขตสาทร, ฝ่ายเทศ...|มอเตอร์ไซด์จอดบนท...|[100.52674, 13.70...|184 ซอย จันทน์ 18...| ทุ่งวัดดอน|    สาทร|กรุงเทพมหานคร|2022-01-14 01:17:...|เสร็จสิ้น|null|        null|2022-06-22 08:06:...|INTERVAL '159 06:...|\n",
            "|                  []|[เขตสาทร, ฝ่ายเทศ...|มอเตอร์ไซด์จอดบนถ...|[100.52678, 13.70...|184 ซอย จันทน์ 18...| ทุ่งวัดดอน|    สาทร|กรุงเทพมหานคร|2022-01-14 01:18:...|เสร็จสิ้น|null|        null|2022-06-22 08:10:...|INTERVAL '159 06:...|\n",
            "|                  []|[เขตประเวศ, สำนัก...|อยากให้สวนหลวง ร9...|[100.65816, 13.68...|444 ซอย หมู่บ้านเ...|    หนองบอน|  ประเวศ|กรุงเทพมหานคร|2022-01-15 12:52:...|เสร็จสิ้น|null|        null|2022-06-20 07:12:...|INTERVAL '155 18:...|\n",
            "|        [ถนน, สะพาน]|[เขตสาทร, สำนักกา...|ถนนจันทน์ช่วงสะพา...|[100.52970, 13.70...|1357/1-4 ซอย จันท...| ทุ่งวัดดอน|    สาทร|กรุงเทพมหานคร|2022-01-16 10:57:...|เสร็จสิ้น|null|        null|2023-01-29 03:27:...|INTERVAL '377 16:...|\n",
            "|                  []|           [เขตสาทร]|ปากซอย จันทน์ 18/...|[100.52789, 13.70...|3 ซอย จันทน์ 18/4...| ทุ่งวัดดอน|    สาทร|กรุงเทพมหานคร|2022-01-16 11:02:...|เสร็จสิ้น|null|        null|2022-06-09 03:49:...|INTERVAL '143 16:...|\n",
            "|             [สะพาน]|[เขตสาทร, ฝ่ายเทศ...|ริมถนน ตรงสะพานสา...|[100.52760, 13.70...|3 ซอย จันทน์ 18/4...| ทุ่งวัดดอน|    สาทร|กรุงเทพมหานคร|2022-01-16 11:08:...|เสร็จสิ้น|null|        null|2022-06-23 08:06:...|INTERVAL '157 20:...|\n",
            "| [จราจร, สะพาน, ถนน]|[เขตสาทร, สน.ยานน...|บริเวณสะพานสามถนน...|[100.52756, 13.70...|3 ซอย จันทน์ 18/4...| ทุ่งวัดดอน|    สาทร|กรุงเทพมหานคร|2022-01-16 11:14:...|เสร็จสิ้น|null|        null|2022-06-22 08:18:...|INTERVAL '156 21:...|\n",
            "+--------------------+--------------------+--------------------+--------------------+--------------------+-----------+--------+-------------+--------------------+---------+----+------------+--------------------+--------------------+\n",
            "only showing top 20 rows\n",
            "\n"
          ]
        }
      ]
    },
    {
      "cell_type": "code",
      "source": [
        "df_ml.printSchema()"
      ],
      "metadata": {
        "colab": {
          "base_uri": "https://localhost:8080/"
        },
        "id": "PT5D5ATzgFrw",
        "outputId": "46b3f665-6899-4112-b6bd-5a43135e43c4"
      },
      "execution_count": 12,
      "outputs": [
        {
          "output_type": "stream",
          "name": "stdout",
          "text": [
            "root\n",
            " |-- type: array (nullable = true)\n",
            " |    |-- element: string (containsNull = true)\n",
            " |-- organization: array (nullable = true)\n",
            " |    |-- element: string (containsNull = true)\n",
            " |-- comment: string (nullable = true)\n",
            " |-- coords: array (nullable = true)\n",
            " |    |-- element: string (containsNull = true)\n",
            " |-- address: string (nullable = true)\n",
            " |-- subdistrict: string (nullable = true)\n",
            " |-- district: string (nullable = true)\n",
            " |-- province: string (nullable = true)\n",
            " |-- timestamp: timestamp (nullable = true)\n",
            " |-- state: string (nullable = true)\n",
            " |-- star: long (nullable = true)\n",
            " |-- count_reopen: long (nullable = true)\n",
            " |-- last_activity: timestamp (nullable = true)\n",
            " |-- time_to_state: interval day to second (nullable = true)\n",
            "\n"
          ]
        }
      ]
    }
  ],
  "metadata": {
    "colab": {
      "provenance": []
    },
    "kernelspec": {
      "display_name": "Python 3 (ipykernel)",
      "language": "python",
      "name": "python3"
    },
    "language_info": {
      "codemirror_mode": {
        "name": "ipython",
        "version": 3
      },
      "file_extension": ".py",
      "mimetype": "text/x-python",
      "name": "python",
      "nbconvert_exporter": "python",
      "pygments_lexer": "ipython3",
      "version": "3.10.9"
    },
    "toc": {
      "base_numbering": 1,
      "nav_menu": {},
      "number_sections": true,
      "sideBar": true,
      "skip_h1_title": false,
      "title_cell": "Table of Contents",
      "title_sidebar": "Contents",
      "toc_cell": false,
      "toc_position": {},
      "toc_section_display": true,
      "toc_window_display": false
    },
    "varInspector": {
      "cols": {
        "lenName": 16,
        "lenType": 16,
        "lenVar": 40
      },
      "kernels_config": {
        "python": {
          "delete_cmd_postfix": "",
          "delete_cmd_prefix": "del ",
          "library": "var_list.py",
          "varRefreshCmd": "print(var_dic_list())"
        },
        "r": {
          "delete_cmd_postfix": ") ",
          "delete_cmd_prefix": "rm(",
          "library": "var_list.r",
          "varRefreshCmd": "cat(var_dic_list()) "
        }
      },
      "types_to_exclude": [
        "module",
        "function",
        "builtin_function_or_method",
        "instance",
        "_Feature"
      ],
      "window_display": false
    }
  },
  "nbformat": 4,
  "nbformat_minor": 0
}